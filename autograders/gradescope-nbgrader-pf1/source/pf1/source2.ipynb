{
 "cells": [
  {
   "cell_type": "markdown",
   "metadata": {},
   "source": [
    "# Phys 260 Python Lab 1: Introduction to Python: Preflight"
   ]
  },
  {
   "cell_type": "markdown",
   "metadata": {},
   "source": [
    "## Introduction\n",
    "\n",
    "Each Python lab will start with a pre-flight exercise that walks through building some of the set up and tools ($\\sim$ 30 min), followed by an in-class tutorial with time for Q+A (50 min) so you can walk through steps that will be necessary for the homework assignment you will submit ($\\sim$ 3 hrs).  Each lab will contain starter code, similar to what you see below.  Please fill in the code to complete the pre-flight assignment in preparation for the in-class tutorial.  \n",
    "\n",
    "Preflight ($\\sim$30-60 min, 10 points) **Typically due: Thursdays 3pm EST**\n",
    "\n",
    "*Preflight typically graded by Wednesday 5p EST*\n",
    "\n",
    "In-class tutorial and Q+A ($\\sim$ 50 min, 10 points) **Typically occurs: Fridays 12pm EST**\n",
    "\n",
    "Homework assignment ($\\sim$ 3-5 hrs, 30 points) **Typically due: Tuesdays 11:59pm EST**\n",
    "\n",
    "*Homework typically graded by Thursday 5p*\n",
    "\n",
    "When we grade your homework, we will not run your code. Once submitted, your notebook should have the outputs for all of your results.  Please do not include long outputs from debugging, beyond a few print statements and the requested visualizations (i.e. plots).\n",
    "\n",
    "**Grading:** When we grade your notebook, we will convert the .ipynb file to an HTML file.  We will be using [nbgrader](https://nbgrader.readthedocs.io/en/stable/) to grade your notebooks.  "
   ]
  },
  {
   "cell_type": "markdown",
   "metadata": {},
   "source": [
    "## Preflight summary\n",
    "- Introduction to importing modules (numpy and matplotlib)\n",
    "- Introduction to functions\n",
    "- Introduction to plots\n",
    "- Introduction to other python \"objects\" (lists, dictionaries, strings)\n",
    "- Introduction to loops\n",
    "\n",
    "## Tutorial summary\n",
    "- Plotting the one dimensional electric field due to a point charge\n",
    "- Comparing a \"model\" to the data\n",
    "- Plotting the electric field in 3 dimensions (the meshgrid method for generating points and 3d plotting tools)\n",
    "\n",
    "## Homework summary\n",
    "- Plot the electric field due to a dipole in 3 dimensions\n",
    "- Plot the same electric field along 2d planes"
   ]
  },
  {
   "cell_type": "markdown",
   "metadata": {},
   "source": [
    "## Importing Modules\n",
    "\n",
    "**Run (execute) the code in the following cell using the combined keys, shift+enter, after clicking in the cell.** You can also click the \"Run\" button.  \n",
    "\n",
    "This code will import the modules needed for this pre-flight.  Modules contain a series of tools.  The [numpy](https://numpy.org/) module is actually an entire package comprised of tools for NUMerical PYthon.  The [matplotlib](https://matplotlib.org/) module is also a package, but this one has a collection of tools in a MAThematical PLOTting LIBrary. We will use the pyplot module from this library. You can think of modules as a collection of already written code (tools) that you get to use.  Libraries are collections of modules.\n",
    "\n"
   ]
  },
  {
   "cell_type": "code",
   "execution_count": 1,
   "metadata": {},
   "outputs": [],
   "source": [
    "import numpy \n",
    "from matplotlib import pyplot"
   ]
  },
  {
   "cell_type": "markdown",
   "metadata": {},
   "source": [
    "We can now use access tools in either the numpy library or the matplotlib library as follows, **using the imported name as a prefix**. Next, execute the code in the follow cell. "
   ]
  },
  {
   "cell_type": "code",
   "execution_count": 2,
   "metadata": {},
   "outputs": [],
   "source": [
    "# Create an array of sequential numbers\n",
    "example_array = numpy.arange(1,10)"
   ]
  },
  {
   "cell_type": "markdown",
   "metadata": {},
   "source": [
    "```example_array``` is a variable pointing to a *python object* that is a numpy n-dimensional array.  \n",
    "\n",
    "In executing the next cell, we (1) print the type of the python object, (2) print the contents of the python object, (3) *output* the python object.  \n",
    "\n",
    "Note, lines preceded with a hash ```#``` denote *comments* in the code, and are not executed lines."
   ]
  },
  {
   "cell_type": "code",
   "execution_count": 3,
   "metadata": {},
   "outputs": [
    {
     "name": "stdout",
     "output_type": "stream",
     "text": [
      "This object is of type:  <class 'numpy.ndarray'>\n",
      "The contents of this object are:  [1 2 3 4 5 6 7 8 9]\n"
     ]
    },
    {
     "data": {
      "text/plain": [
       "array([1, 2, 3, 4, 5, 6, 7, 8, 9])"
      ]
     },
     "execution_count": 3,
     "metadata": {},
     "output_type": "execute_result"
    }
   ],
   "source": [
    "# Print the type of the object\n",
    "print('This object is of type: ', type(example_array))\n",
    "\n",
    "# Print the contents of the object\n",
    "print('The contents of this object are: ', example_array)\n",
    "\n",
    "# Let us output the contents of example_array\n",
    "example_array"
   ]
  },
  {
   "cell_type": "markdown",
   "metadata": {},
   "source": [
    "---\n",
    "## Module import with alias exercise (1 point)\n",
    "\n",
    "In the next cell, try importing numpy and pyplot using the standard aliases.  This means executing code of the form:\n",
    "```\n",
    "import [module] as [another_name]\n",
    "```\n",
    "\n",
    "The standard alias for numpy is np, and the standard alias for pyplot is plt.  Note, after filling out your solution, remove the line:\n",
    "\n",
    "```raise NotImplementedError()```"
   ]
  },
  {
   "cell_type": "code",
   "execution_count": 5,
   "metadata": {
    "nbgrader": {
     "grade": false,
     "grade_id": "aliases",
     "locked": false,
     "schema_version": 3,
     "solution": true,
     "task": false
    }
   },
   "outputs": [],
   "source": [
    "# Import numpy and pyplot with aliases here\n",
    "### BEGIN SOLUTION\n",
    "import numpy as np\n",
    "from matplotlib import pyplot as plt\n",
    "### END SOLUTION\n"
   ]
  },
  {
   "cell_type": "code",
   "execution_count": 6,
   "metadata": {
    "nbgrader": {
     "grade": true,
     "grade_id": "Module import",
     "locked": true,
     "points": 1,
     "schema_version": 3,
     "solution": false,
     "task": false
    }
   },
   "outputs": [],
   "source": [
    "\"\"\"Execute this cell to check that pyplot has been imported with the appropriate aliases\"\"\"\n",
    "assert(id(pyplot)==id(plt))\n",
    "### BEGIN HIDDEN TESTS\n",
    "# Checks that numpy has been imported with appropriate alias\n",
    "assert(id(numpy)==id(np))\n",
    "### END HIDDEN TESTS"
   ]
  },
  {
   "cell_type": "markdown",
   "metadata": {},
   "source": [
    "---\n",
    "## Module alias test (1 point)\n",
    "\n",
    "Given the alias for the module name you just imported, you will now want to try this out.  Write the following code in the next cell and execute the cell in order to define the variable ```xarray```\n",
    "```\n",
    "xarray = np.arange(1,10)\n",
    "```"
   ]
  },
  {
   "cell_type": "code",
   "execution_count": null,
   "metadata": {
    "nbgrader": {
     "grade": false,
     "grade_id": "xarray",
     "locked": false,
     "schema_version": 3,
     "solution": true,
     "task": false
    }
   },
   "outputs": [],
   "source": [
    "# Define xarray here\n",
    "### BEGIN SOLUTION\n",
    "xarray = np.arange(1,10)\n",
    "### END SOLUTION"
   ]
  },
  {
   "cell_type": "code",
   "execution_count": null,
   "metadata": {
    "nbgrader": {
     "grade": true,
     "grade_id": "Module alias test",
     "locked": true,
     "points": 1,
     "schema_version": 3,
     "solution": false,
     "task": false
    }
   },
   "outputs": [],
   "source": [
    "\"\"\"Execute this cell to check that xarray[0] returns the correct output\"\"\"\n",
    "assert(xarray[0]==1)\n",
    "### BEGIN HIDDEN TESTS\n",
    "assert((xarray==np.arange(1,10)).all)\n",
    "### END HIDDEN TESTS"
   ]
  },
  {
   "cell_type": "markdown",
   "metadata": {},
   "source": [
    "## Introduction to functions/python methods\n",
    "\n",
    "You can think of functions/methods as python objects that *do* something (think of these as a verb).  As *doing* objects, we (the user) executes them.  The arguments, or keyword arguments of a function/method say *how* to do something (think of these as an adverb).  \n",
    "\n",
    "In the cell above, you executed the **arange function from numpy** (aliased to np), and provided the **arguments 1 and 10**.  The instructions underlying this function are: **return** an n-dimensional numpy array starting at 1 and ending before 10.  There is a **default keyword argument, step,** and it defaults to 1.  \n",
    "\n",
    "```\n",
    "np.arange(1, 10, step=0.5)\n",
    "```\n",
    "This also works:\n",
    "```\n",
    "np.arange(1,10,.5)\n",
    "```\n",
    "\n",
    "Try outputting one of the two lines above that use the step keyword argument in the cell below."
   ]
  },
  {
   "cell_type": "code",
   "execution_count": null,
   "metadata": {},
   "outputs": [],
   "source": [
    "#  Execute this cell, which uses the step keyword argument in the np.arange method, outputting the returned object\n",
    "np.arange(1,10, step=0.5)"
   ]
  },
  {
   "cell_type": "markdown",
   "metadata": {},
   "source": [
    "In the next cell, we (1) print the type of the python object ```np.arange``` un-executed (you should see that this is a built in function/method), (2) print the contents of the python object returned by this function "
   ]
  },
  {
   "cell_type": "code",
   "execution_count": null,
   "metadata": {},
   "outputs": [],
   "source": [
    "print(type(np.arange))\n",
    "print(np.arange(1,10,.5))"
   ]
  },
  {
   "cell_type": "markdown",
   "metadata": {},
   "source": [
    "---\n",
    "## Explain a keyword argument (1 point)\n",
    "\n",
    "In words in the markdown cell (note: it is not a code cell) below, describe in words what the step key word argument does.  e.g. \"The keyword step in the arange function serves to.... \""
   ]
  },
  {
   "cell_type": "markdown",
   "metadata": {
    "nbgrader": {
     "grade": true,
     "grade_id": "Step Explanation",
     "locked": false,
     "points": 1,
     "schema_version": 3,
     "solution": true,
     "task": false
    }
   },
   "source": [
    "The keyword \"step\" in the arange function indicates the difference between successive numbers in the array."
   ]
  },
  {
   "cell_type": "markdown",
   "metadata": {},
   "source": [
    "### Anatomy of a function\n",
    "\n",
    "Below we build our own function.  When you build your own functions, it is **good practice to give it a name (starting with a verb) that clearly describes what it does**.  The ```raise_to_power``` function takes in an argument base, and a keyword argument power with default value 2.  This returns the base raised to the power.\n",
    "\n",
    "You'll notice that is text enclosed in three quotes on either side.  This is known as a docstring (documentation string).  Don't forget to execute the code below so the function is actually defined."
   ]
  },
  {
   "cell_type": "code",
   "execution_count": null,
   "metadata": {},
   "outputs": [],
   "source": [
    "def raise_to_power( base, power=2) :\n",
    "    \"\"\"Raise the base to the power and return the results.\"\"\"\n",
    "\n",
    "    return base**power"
   ]
  },
  {
   "cell_type": "markdown",
   "metadata": {},
   "source": [
    "Here, we test our function with assertion statements.  The ```assert``` function takes in a boolean argument, something that returns True or False.  Common boolean arguments contain comparison operations, such as ```==, !=, <, >, <=, >=```\n",
    "\n",
    "In general, tests should check that functions do what you expect them to do."
   ]
  },
  {
   "cell_type": "code",
   "execution_count": null,
   "metadata": {},
   "outputs": [],
   "source": [
    "assert(raise_to_power(2)==4)\n",
    "assert(raise_to_power(2,3)==8)"
   ]
  },
  {
   "cell_type": "markdown",
   "metadata": {},
   "source": [
    "---\n",
    "## Using a function (1 point)\n",
    "One exciting thing to note is that entire numpy arrays can be raised to a power!  In the assertion statements above, we tried inputting 2 for the base. \n",
    "\n",
    "In the cell below, input xarray as the first argument to your ```raise_to_power``` function, and leave the keyword argument to its default.  The result should be xarray squared one by one.  Set a new variable ```yarray``` equal to this, and print the contents of ```yarray```"
   ]
  },
  {
   "cell_type": "code",
   "execution_count": null,
   "metadata": {
    "nbgrader": {
     "grade": false,
     "grade_id": "function-use",
     "locked": false,
     "schema_version": 3,
     "solution": true,
     "task": false
    }
   },
   "outputs": [],
   "source": [
    "# Set yarray equal to the square of xarray here, e.g. yarray = ...\n",
    "### BEGIN SOLUTION\n",
    "yarray = raise_to_power(xarray)    \n",
    "### END SOLUTION"
   ]
  },
  {
   "cell_type": "code",
   "execution_count": null,
   "metadata": {
    "nbgrader": {
     "grade": true,
     "grade_id": "Using a function",
     "locked": true,
     "points": 1,
     "schema_version": 3,
     "solution": false,
     "task": false
    }
   },
   "outputs": [],
   "source": [
    "\"\"\"Execute this cell to check that yarray is correctly defined\"\"\"\n",
    "assert(yarray[0] == raise_to_power(xarray[0]))\n",
    "### BEGIN HIDDEN TESTS\n",
    "assert((yarray == raise_to_power(xarray)).all)\n",
    "### END HIDDEN TESTS"
   ]
  },
  {
   "cell_type": "markdown",
   "metadata": {},
   "source": [
    "## Quick plot\n",
    "\n",
    "Next, we will plot yarray vs. xarray with a quick tool from pyplot (aliased to plt) called plot.  This creates a plot of a single axis.  After we plot the line, we adjust the plot to add x and y labels, specifying how we add them (e.g. with the fontsize key word argument).   \n",
    "\n",
    "Look at the documentation for [pyplot.plot](https://matplotlib.org/3.3.0/api/_as_gen/matplotlib.pyplot.plot.html), and modify the code below to change the color of the line.  Hint:  You'll need to add a keyword argument."
   ]
  },
  {
   "cell_type": "code",
   "execution_count": null,
   "metadata": {},
   "outputs": [],
   "source": [
    "# Plot the arrays against one another with the simple plot function from pyplot\n",
    "plt.plot(xarray, yarray)\n",
    "plt.xlabel('x array values', fontsize='xx-large')\n",
    "plt.ylabel('$x^2$', fontsize='xx-large')"
   ]
  },
  {
   "cell_type": "markdown",
   "metadata": {},
   "source": [
    "## Using a method (1 point)\n",
    "\n",
    "Methods are pretty similar to functions.  The main difference is that a method is inherently tied to a python object.  Let's take the example of the n-dimensional numpy array object.  We have two of these, xarray and yarray.   One method of the n-dimensional numpy array object is ```mean```, which takes the mean of that array. \n",
    "```\n",
    "yarray.mean()\n",
    "```\n",
    "Note, here we see that the above line executes the ```mean``` method of an ```ndarray``` object whose name is yarray.  Note, we did not provide any arguments to the method; no arguments were needed.  We can also use the numpy function mean, ```np.mean``` and provide the numpy array as an argument, e.g. \n",
    "```\n",
    "np.mean(yarray)\n",
    "```\n",
    "To calculate the median of an array, there is no method of the n-dimensional numpy array object for the median, but there is a function in the numpy library called median.   \n",
    "\n",
    "In the following cell, define two more variables ```ymean``` and ```ymedian``` that correspond to the mean and median of ```yarray```.  Hint, you will need to use the numpy function median."
   ]
  },
  {
   "cell_type": "code",
   "execution_count": 4,
   "metadata": {
    "nbgrader": {
     "grade": false,
     "grade_id": "mean-median",
     "locked": false,
     "schema_version": 3,
     "solution": true,
     "task": false
    }
   },
   "outputs": [
    {
     "ename": "NameError",
     "evalue": "name 'yarray' is not defined",
     "output_type": "error",
     "traceback": [
      "\u001b[1;31m---------------------------------------------------------------------------\u001b[0m",
      "\u001b[1;31mNameError\u001b[0m                                 Traceback (most recent call last)",
      "\u001b[1;32m<ipython-input-4-186f3847e1c4>\u001b[0m in \u001b[0;36m<module>\u001b[1;34m\u001b[0m\n\u001b[0;32m      1\u001b[0m \u001b[1;31m# Define ymean and ymedian here, e.g. ymean = .....\u001b[0m\u001b[1;33m\u001b[0m\u001b[1;33m\u001b[0m\u001b[1;33m\u001b[0m\u001b[0m\n\u001b[0;32m      2\u001b[0m \u001b[1;31m### BEGIN SOLUTION\u001b[0m\u001b[1;33m\u001b[0m\u001b[1;33m\u001b[0m\u001b[1;33m\u001b[0m\u001b[0m\n\u001b[1;32m----> 3\u001b[1;33m \u001b[0mymean\u001b[0m \u001b[1;33m=\u001b[0m \u001b[0myarray\u001b[0m\u001b[1;33m.\u001b[0m\u001b[0mmean\u001b[0m\u001b[1;33m(\u001b[0m\u001b[1;33m)\u001b[0m\u001b[1;33m\u001b[0m\u001b[1;33m\u001b[0m\u001b[0m\n\u001b[0m\u001b[0;32m      4\u001b[0m \u001b[0mymedian\u001b[0m \u001b[1;33m=\u001b[0m \u001b[0mnp\u001b[0m\u001b[1;33m.\u001b[0m\u001b[0mmedian\u001b[0m\u001b[1;33m(\u001b[0m\u001b[0myarray\u001b[0m\u001b[1;33m)\u001b[0m\u001b[1;33m\u001b[0m\u001b[1;33m\u001b[0m\u001b[0m\n\u001b[0;32m      5\u001b[0m \u001b[1;31m### END SOLUTION\u001b[0m\u001b[1;33m\u001b[0m\u001b[1;33m\u001b[0m\u001b[1;33m\u001b[0m\u001b[0m\n",
      "\u001b[1;31mNameError\u001b[0m: name 'yarray' is not defined"
     ]
    }
   ],
   "source": [
    "# Define ymean and ymedian here, e.g. ymean = ..... \n",
    "### BEGIN SOLUTION\n",
    "ymean = yarray.mean()\n",
    "ymedian = np.median(yarray)\n",
    "### END SOLUTION"
   ]
  },
  {
   "cell_type": "code",
   "execution_count": null,
   "metadata": {
    "nbgrader": {
     "grade": true,
     "grade_id": "Using a Method",
     "locked": true,
     "points": 1,
     "schema_version": 3,
     "solution": false,
     "task": false
    }
   },
   "outputs": [],
   "source": [
    "\"\"\"Example check that the variables ymean are correctly set\"\"\"\n",
    "assert(ymean==yarray.mean())\n",
    "### BEGIN HIDDEN TESTS\n",
    "assert(ymedian==np.median(yarray))\n",
    "### END HIDDEN TESTS"
   ]
  },
  {
   "cell_type": "markdown",
   "metadata": {},
   "source": [
    "---\n",
    "## Plotting exercise (2 points)\n",
    "\n",
    "In the next cell, plot the same curve as before (yarray vs. xarray), and look up how to plot horizontal lines.  You will plot a horizontal line corresponding to the ymean and ymedian (*Hint: look up \"Plot horizontal line matplotlib\"*).  Add a legend (look this up as well, *Hint: look up \"Plot legend with matplotlib*) that shows which line is the mean and which line is the median."
   ]
  },
  {
   "cell_type": "code",
   "execution_count": null,
   "metadata": {
    "nbgrader": {
     "grade": true,
     "grade_id": "Plotting exercise",
     "locked": false,
     "points": 2,
     "schema_version": 3,
     "solution": true,
     "task": false
    }
   },
   "outputs": [],
   "source": [
    "#  Create your plot here\n",
    "### BEGIN SOLUTION\n",
    "plt.plot(xarray, yarray)\n",
    "plt.hlines(ymean, xmin=xarray.min(), xmax=xarray.max(), label='mean', color='r')\n",
    "plt.hlines(ymedian, xmin=xarray.min(), xmax=xarray.max(), label='median', color='k')\n",
    "plt.xlabel('x array values', fontsize='xx-large')\n",
    "plt.ylabel('$x^2$', fontsize='xx-large')\n",
    "plt.legend()\n",
    "### END SOLUTION"
   ]
  },
  {
   "cell_type": "markdown",
   "metadata": {},
   "source": [
    "## Other python objects\n",
    "\n",
    "Here, we will briefly look at some other standard python objects that may be useful as you learn to code in python.\n",
    "\n",
    "- [Strings](https://docs.python.org/2/library/string.html): Strings are collections of characters, enclosed in quotations.  We often use these to print information or label things in visualizations.  Strings are mutable (see below).\n",
    "```\n",
    "example_string = \"hello world\"\n",
    "```\n",
    "\n",
    "- [Lists](https://docs.python.org/3/tutorial/datastructures.html): lists are an ordered collection of python objects, enclosed in square brackets ```[]```, where each object is delimeted (separated) by a comma.  The following list contains two integers, an n-dimensional numpy array, a string of characters, and a list with two items.  Lists are [*mutable*](https://medium.com/@meghamohan/mutable-and-immutable-side-of-python-c2145cf72747) objects, so they can be changed after first created.  \n",
    "```\n",
    "example_list = [0, 1, xarray, 'hello world', [100,200]]\n",
    "```\n",
    "\n",
    "- [Tuples](https://docs.python.org/3/tutorial/datastructures.html): tuples are an ordered collection of python objects, enclosed in round braces ```()```, where each object is delimeted by a comma.  These are *immutable*.\n",
    "```\n",
    "example_tuple = (0, 1, xarray, 'hello world', [100, 200])\n",
    "```\n",
    "\n",
    "- [Dictionaries](https://docs.python.org/3/tutorial/datastructures.html): dictionaries are key, value paired collections of python objects, enclosed in squiggly brackets ```{}```, where each pair is delimeted by a comma, and the pairing is indicated with a colon.  Below are two ways to explicitly define a dictionary.  Our example dictionary below happens to have keys and values that are all strings.  Note, dictionaries, like lists, are mutable.\n",
    "```\n",
    "example_dictionary = {'feline': 'cat-like', 'canine': 'dog-like'}\n",
    "```\n",
    "or using the built-in dict function\n",
    "```\n",
    "example_dictionary = dict([('feline', 'cat-like'), ('canine':'dog-like')])\n",
    "```"
   ]
  },
  {
   "cell_type": "markdown",
   "metadata": {},
   "source": [
    "---\n",
    "## Create python objects (1 point)\n",
    "\n",
    "In the cell below, use the above code to define ```example_string, example_list, example_tuple, and example_dictionary```.  "
   ]
  },
  {
   "cell_type": "code",
   "execution_count": null,
   "metadata": {
    "nbgrader": {
     "grade": false,
     "grade_id": "example-objects",
     "locked": false,
     "schema_version": 3,
     "solution": true,
     "task": false
    }
   },
   "outputs": [],
   "source": [
    "# Define example objects here\n",
    "### BEGIN SOLUTION\n",
    "example_string = \"hello world\"\n",
    "example_list = [0, 1, xarray, 'hello world', [100,200]]\n",
    "example_tuple = (0, 1, xarray, 'hello world', [100, 200])\n",
    "example_dictionary = {'feline': 'cat-like', 'canine': 'dog-like'}\n",
    "### END SOLUTION"
   ]
  },
  {
   "cell_type": "code",
   "execution_count": null,
   "metadata": {
    "nbgrader": {
     "grade": true,
     "grade_id": "Create python objects",
     "locked": true,
     "points": 1,
     "schema_version": 3,
     "solution": false,
     "task": false
    }
   },
   "outputs": [],
   "source": [
    "\"\"\"Check that example objects have correct output\"\"\"\n",
    "assert(example_string == \"hello world\")\n",
    "assert(example_list == [0, 1, xarray, 'hello world', [100,200]])\n",
    "### BEGIN HIDDEN TESTS\n",
    "assert(example_tuple == (0, 1, xarray, 'hello world', [100, 200]))\n",
    "assert(example_dictionary == {'feline': 'cat-like', 'canine': 'dog-like'})\n",
    "### END HIDDEN TESTS"
   ]
  },
  {
   "cell_type": "markdown",
   "metadata": {},
   "source": [
    "---\n",
    "## Try methods of python objects (1 point)\n",
    "\n",
    "You can create a version of example string with,\n",
    "```capitalized_example_string = example_string.capitalize()```\n",
    "Execute this below, and print the contents of both capitalized_example_string and example_string.  You'll notice that the original example_string did not change.  The ```str.capitalize``` method does *not* change the string in-place, but instead copies the string and returns a changed copy.\n",
    "\n",
    "Create a new variable ```appended_example_list``` by setting it equal to the return value of ```example_list.append(capitalized_example_string)```.  Print the contents of both ```appended_example_list``` and ```example_list```. You'll notice that the original example_list has changed.  What is the printed output of ```appended_example_list```, or rather the output of the append method of the list object (i.e. ```list.append```)?  What we are seeing here is that the ```list.append``` method *does* change the list in place.  It changes the original list.  But, it returns None (nothing, the default return value of any function/method if no return value is specified)."
   ]
  },
  {
   "cell_type": "code",
   "execution_count": null,
   "metadata": {
    "nbgrader": {
     "grade": false,
     "grade_id": "modify-objects",
     "locked": false,
     "schema_version": 3,
     "solution": true,
     "task": false
    }
   },
   "outputs": [],
   "source": [
    "# Define capitalized_example_string and appended_example_list here, e.g. capitalized_example_string = ...\n",
    "### BEGIN SOLUTION\n",
    "capitalized_example_string = example_string.capitalize()\n",
    "print(capitalized_example_string)\n",
    "print(example_string)\n",
    "\n",
    "appended_example_list = example_list.append(capitalized_example_string)\n",
    "print(example_list)\n",
    "print(appended_example_list)\n",
    "### END SOLUTION"
   ]
  },
  {
   "cell_type": "code",
   "execution_count": null,
   "metadata": {
    "nbgrader": {
     "grade": true,
     "grade_id": "Try methods of python objects",
     "locked": true,
     "points": 1,
     "schema_version": 3,
     "solution": false,
     "task": false
    }
   },
   "outputs": [],
   "source": [
    "\"\"\"Check that modified objects have correct output\"\"\"\n",
    "assert(capitalized_example_string == example_string.capitalize())\n",
    "### BEGIN HIDDEN TESTS\n",
    "assert(appended_example_list == None)\n",
    "### END HIDDEN TESTS"
   ]
  },
  {
   "cell_type": "markdown",
   "metadata": {},
   "source": [
    "## Test mutable vs. immutable things (1 point)\n",
    "\n",
    "We will illustrate mutability/immutability with dictionaries and tuples, respectively.  As an example, let us first consider lists, which are mutable.  We can access an individual item of a list using that item's index, e.g."
   ]
  },
  {
   "cell_type": "code",
   "execution_count": null,
   "metadata": {},
   "outputs": [],
   "source": [
    "print(example_list[1])"
   ]
  },
  {
   "cell_type": "markdown",
   "metadata": {},
   "source": [
    "The above printed the integer 1.  We can re-assign the value in the 1st index of this list and print its contents with,"
   ]
  },
  {
   "cell_type": "code",
   "execution_count": null,
   "metadata": {},
   "outputs": [],
   "source": [
    "example_list[1] = \"first index of list!\"\n",
    "print(example_list[1])"
   ]
  },
  {
   "cell_type": "markdown",
   "metadata": {},
   "source": [
    "The above should have printed the string, ```\"first index of list!\"```.  Let us see how to do similar things for dictionaries and tuples.\n",
    "\n",
    "\n",
    "Note, you can access individual elements of a dictionary using their keys, and individual elements of a tuple using the item index number (similar to lists). For example, \n"
   ]
  },
  {
   "cell_type": "code",
   "execution_count": null,
   "metadata": {},
   "outputs": [],
   "source": [
    "print(example_dictionary['feline'])\n",
    "print(example_tuple[1])"
   ]
  },
  {
   "cell_type": "markdown",
   "metadata": {},
   "source": [
    "The above should have printed ```\"cat-like\"``` in the first line and the integer 1 in the second line, similar to the case with the list.  Try reassigning (i.e. changing) the value for ```example_dictionary['feline']``` so it instead outputs \"lion-like\".  Then, try to re-assign the value of ```example_tuple[1]``` so it instead outputs \"first index of tuple!\".  "
   ]
  },
  {
   "cell_type": "code",
   "execution_count": null,
   "metadata": {
    "nbgrader": {
     "grade": false,
     "grade_id": "modify-dict-item",
     "locked": false,
     "schema_version": 3,
     "solution": true,
     "task": false
    }
   },
   "outputs": [],
   "source": [
    "# Re-assign the value for example_dictionary['feline'] here, then print the output.\n",
    "### BEGIN SOLUTION\n",
    "example_dictionary['feline'] = \"lion-like\"\n",
    "print(example_dictionary['feline'])\n",
    "### END SOLUTION\n"
   ]
  },
  {
   "cell_type": "code",
   "execution_count": null,
   "metadata": {
    "nbgrader": {
     "grade": true,
     "grade_id": "Test mutable vs. immutable things",
     "locked": true,
     "points": 1,
     "schema_version": 3,
     "solution": false,
     "task": false
    }
   },
   "outputs": [],
   "source": [
    "\"\"\"Check that modified objects have correct output\"\"\"\n",
    "assert(example_dictionary['feline'] == \"lion-like\")"
   ]
  },
  {
   "cell_type": "code",
   "execution_count": null,
   "metadata": {},
   "outputs": [],
   "source": [
    "# Try to re-assign the value for example_tuple[1] here"
   ]
  },
  {
   "cell_type": "markdown",
   "metadata": {},
   "source": [
    "Note, you should have gotten a ```TypeError``` above.  Tuples cannot be changed after you have created them.  They are immutable."
   ]
  },
  {
   "cell_type": "markdown",
   "metadata": {},
   "source": [
    "## Introduction to for loops - and quick note on when *not* to use them\n",
    "\n",
    "One key tool in programming that can save extra unnecessary code is the [for loop](https://www.w3schools.com/python/python_for_loops.asp).  A for loop simply iterates a set of instructions over every item in an iterable, where an iterable is any object in python that can be accessed one item at a time.  Strings, lists, dictionaries, and tuples are all iterables.  A loop will look something like,\n",
    "\n",
    "```\n",
    "for list_item in example_list :\n",
    "    # Prints the type of python object for each object in example_list\n",
    "    print(type(list_item))\n",
    "```\n",
    "or, we can simultaneously iterate over the key, value pairs in a dictionary: \n",
    "```\n",
    "for key, value in example_dictionary.items() :\n",
    "    # Re-assigns the value to each dictionary item to a version that is capitalized\n",
    "    example_dictionary[key] = value.capitalize()\n",
    "```\n",
    "\n",
    "\n",
    "**Note:** Numpy n-dimensional arrays are also iterable.  *But*, if you are dealing with arrays, it is often the case that you should be able to vectorize whatever set of instructions you with to complete.  We show an example of when to use them and when not to use them below"
   ]
  },
  {
   "cell_type": "markdown",
   "metadata": {},
   "source": [
    "### Loop over things to plot\n",
    "One reasonable application of a loop is if you are plotting similar things with minor changes.  Below, we loop over ```different_powers```, which is a list of integers, and plot that power as a function of the contents of ```xarray```.  Note two new things to learn from the code below.  \n",
    "- First, we created a string for the legend, ```legend_label```, that included a string representation of the ```different_power``` we are iterating on.  This is a useful syntax for printing\n",
    "- Second, we are using the method of pyplot (alias plt) called yscale.  This sets the scale, and we have used the argument 'log' to specify that we want the yscale to be log-spaced."
   ]
  },
  {
   "cell_type": "code",
   "execution_count": null,
   "metadata": {},
   "outputs": [],
   "source": [
    "#  When to use a loop\n",
    "different_powers = [2, 3, 4, 5]\n",
    "for different_power in different_powers :\n",
    "    legend_label = 'power=%i'%different_power\n",
    "    plt.plot(xarray, raise_to_power(xarray, power=different_power), label=legend_label)\n",
    "\n",
    "    \n",
    "plt.yscale('log')  #  Note, when dealing with a large dynamic range of numbers, plot things on a log scale\n",
    "plt.legend()"
   ]
  },
  {
   "cell_type": "markdown",
   "metadata": {},
   "source": [
    "### Loop over elements in a numpy array (a no-no!)\n",
    "\n",
    "Below, we loop over elements in ```xarray``` to raise each individual element to a power, then use this to populate the yvalues (using list appending), then converting that back to a numpy array.  This is a no-no.  Do. not. do. this.  As you saw in previous lines of code, you can simply do,\n",
    "```\n",
    "plt.plot(xarray, raise_to_power(xarray))\n",
    "```\n",
    "This is because we can do the raising to a power step in a *vectorized* way (all at once). "
   ]
  },
  {
   "cell_type": "code",
   "execution_count": null,
   "metadata": {},
   "outputs": [],
   "source": [
    "yvalues = []\n",
    "for xvalue in xarray :\n",
    "    yvalues.append(raise_to_power(xvalue))\n",
    "    \n",
    "plt.plot(xarray, yvalues)"
   ]
  }
 ],
 "metadata": {
  "celltoolbar": "Create Assignment",
  "kernelspec": {
   "display_name": "Python 3",
   "language": "python",
   "name": "python3"
  },
  "language_info": {
   "codemirror_mode": {
    "name": "ipython",
    "version": 3
   },
   "file_extension": ".py",
   "mimetype": "text/x-python",
   "name": "python",
   "nbconvert_exporter": "python",
   "pygments_lexer": "ipython3",
   "version": "3.8.3"
  }
 },
 "nbformat": 4,
 "nbformat_minor": 1
}

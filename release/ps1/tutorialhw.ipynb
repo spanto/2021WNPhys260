{
 "cells": [
  {
   "cell_type": "markdown",
   "metadata": {},
   "source": [
    "# Phys 260: Python assignment header\n",
    "\n",
    "### (1) Fill out the cell below.  \n",
    "The cell below is a **code cell**.  Fill out your University of Michigan uniqname, then your name, and collaborators in the cell below **inside the quotes**.  \n",
    "\n",
    "**Do not delete the quotes.**  We will use this information to organize your assignments.  To edit and execute cells, double click inside the cell, type, and press \\<shift\\>+\\<enter\\> to execute."
   ]
  },
  {
   "cell_type": "code",
   "execution_count": null,
   "metadata": {},
   "outputs": [],
   "source": [
    "UNIQNAME = \"\"\n",
    "NAME = \"\"\n",
    "COLLABORATORS = \"\""
   ]
  },
  {
   "cell_type": "markdown",
   "metadata": {},
   "source": [
    "### (2) Check your python version.  \n",
    "**Execute the cell below** (double click in the cell and press \\<shift\\>+\\<enter\\>, or click in the cell and press the Run button) to check that you are using a version of python that is compatible with the tool we are using to grade your assignments.  If your ```IPython``` version is too old, we will *not* be able to grade your assignments."
   ]
  },
  {
   "cell_type": "code",
   "execution_count": null,
   "metadata": {},
   "outputs": [],
   "source": [
    "import IPython\n",
    "assert IPython.version_info[0] >= 3, \"Your version of IPython is too old, please update it.\""
   ]
  },
  {
   "cell_type": "markdown",
   "metadata": {},
   "source": [
    "### (3) Do your best to answer all questions in the assignment.  \n",
    "To answer questions, **replace** anything that says either\n",
    "- \"YOUR ANSWER HERE\" \n",
    "- \n",
    "```\n",
    "YOUR CODE HERE\n",
    "raise NotImplementedError\n",
    "``` \n",
    "\n",
    "with your answer/code.  Cells with either of the two bullet points above are cells of the notebook that will be graded.\n",
    "\n",
    "**To edit markdown** cells (e.g. this one),  *double click in the cell to type*.  Press \\<shift\\>+\\<enter\\> to execute the cell.  Try editing the text below to replace the with your information (e.g. Camille Avestruz, cavestru):  \n",
    "\n",
    "[first name] [last name], uniqname\n"
   ]
  },
  {
   "cell_type": "markdown",
   "metadata": {},
   "source": [
    "### (4) Make sure your notebook runs sequentially.\n",
    "After you complete this assignment, make sure everything runs as expected. First, **restart the kernel** (in the menubar, select Kernel$\\rightarrow$Restart) and then **run all cells** (in the menubar, select Cell$\\rightarrow$Run All)."
   ]
  },
  {
   "cell_type": "code",
   "execution_count": null,
   "metadata": {},
   "outputs": [],
   "source": []
  },
  {
   "cell_type": "markdown",
   "metadata": {},
   "source": [
    "# Introduction -- Reminder\n",
    "\n",
    "Each Python lab will start with a pre-flight exercise that walks through building some of the set up and tools ($\\sim$ 30 min), followed by an in-class tutorial with time for Q+A (50 min) so you can walk through steps that will be necessary for the homework assignment you will submit ($\\sim$ 3 hrs).  Each lab will contain starter code, similar to what you see below.  Please fill in the code to complete the pre-flight assignment in preparation for the in-class tutorial.  \n",
    "\n",
    "Preflight ($\\sim$30-60 min, 10 points) **Typically due: Thursdays 3pm EST**\n",
    "\n",
    "*Preflight typically graded by Wednesday 5p EST*\n",
    "\n",
    "In-class tutorial and Q+A ($\\sim$ 50 min, 10 points) **Typically occurs: Fridays EST**\n",
    "\n",
    "Homework assignment ($\\sim$ 3-5 hrs, 30 points) **Typically due: Tuesdays 12pm EST**  \n",
    "\n",
    "\n",
    "When we grade your homework, we will not run your code. Once submitted, your notebook should have the outputs for all of your results.  Please do not include long outputs from debugging, beyond a few print statements and the requested visualimzations (i.e. plots).\n",
    "\n",
    "**Grading:** When we grade your notebook, we will convert the .ipynb file to an HTML file.  We will be using [nbgrader](https://nbgrader.readthedocs.io/en/stable/) to grade your notebooks.  **Note:** Execute the cell below (click in the cell and press shift+enter, or click in the cell and press the Run button) to check that you are using a version of python that is compatible with the tool we are using to grade your assignments.  If your ```IPython``` version is too old, we will *not* be able to grade your assignments.\n"
   ]
  },
  {
   "cell_type": "markdown",
   "metadata": {},
   "source": [
    "# Phys 260 Python Lab 1: Introduction to Python: Tutorial (20 points total)\n",
    "\n",
    "## Tutorial summary\n",
    "- Plotting the one dimensional electric field due to a point charge\n",
    "- Comparing a \"model\" to the data\n",
    "- Plotting the electric field in 3 dimensions (the meshgrid method for generating points and 3d plotting tools)"
   ]
  },
  {
   "cell_type": "markdown",
   "metadata": {},
   "source": [
    "### Recall, importing modules with aliases from the pre-flight:"
   ]
  },
  {
   "cell_type": "code",
   "execution_count": null,
   "metadata": {},
   "outputs": [],
   "source": [
    "import numpy as np\n",
    "from matplotlib import pyplot as plt"
   ]
  },
  {
   "cell_type": "markdown",
   "metadata": {},
   "source": [
    "**Quick questions for the class:** \n",
    "- Which of the above modules allows us to plot?\n",
    "- What does the \"as\" do in each of the lines above?\n",
    "\n",
    "**Group Exercise** (5 min - 2 points): \n",
    "- Create a numpy array, `rarray`, of numbers ranging from -1 to 1 in steps of 0.005, using the `np.arange` function. (e.g. -1, -095, ... ).  This will represent the radial distance from the origin.\n",
    "- Print the shape and size of the array.  \n",
    "- Print the value in `rarray` that is closest to the origin, `r=0` (Hint: Use the np.min and np.abs functions. Look up what they do.)  You'll note that this is interestingly not quite zero.\n",
    "- Bonus 1: Now, create a numpy array `rarraylin`, using `np.linspace` with numbers ranging from -1 to 1 with 401 number of points. \n",
    "- Bonus 2: Print the value in `rarraylin` that is closest to the origin, `r=0`."
   ]
  },
  {
   "cell_type": "code",
   "execution_count": null,
   "metadata": {
    "deletable": false,
    "nbgrader": {
     "cell_type": "code",
     "checksum": "d68b5324f37b178b591d8bde0d3bfd6a",
     "grade": false,
     "grade_id": "cell-9a7efacbe3554887",
     "locked": false,
     "schema_version": 3,
     "solution": true,
     "task": false
    }
   },
   "outputs": [],
   "source": [
    "#  Create rarray here, and print what you need to print.\n",
    "# YOUR CODE HERE\n",
    "raise NotImplementedError()"
   ]
  },
  {
   "cell_type": "code",
   "execution_count": null,
   "metadata": {
    "deletable": false,
    "editable": false,
    "nbgrader": {
     "cell_type": "code",
     "checksum": "0efdd00ce3585354230342461d14450c",
     "grade": true,
     "grade_id": "Tutorial_rarray",
     "locked": true,
     "points": 2,
     "schema_version": 3,
     "solution": false,
     "task": false
    }
   },
   "outputs": [],
   "source": [
    "assert((rarray == np.arange(-1,1,0.005)).all())\n",
    "assert((rarraylin == np.linspace(-1,1,401)).all())"
   ]
  },
  {
   "cell_type": "markdown",
   "metadata": {},
   "source": [
    "## Recall functions from the pre-flight. \n",
    "\n",
    "Let us assume that `rarray` represents the distance in meters from a point charge at the origin, `q=1`.  \n",
    "\n",
    "**Group Exercise** (5 min - 4 points):\n",
    "- Define a function, `calculate_electric_field_magnitude`, that calculates the magnitude of an electric field at distance `r` due to a point charge `q`.  This is given by the one-dimensional version of Coulomb's law: $|\\vec{E}|=\\frac{kq}{r^2}$, where $k=\\frac{1}{4\\pi \\epsilon_0}$.  \n",
    "\n",
    "You will need to first define the constants:\n",
    "```\n",
    "epsilon_0 = 8.85e-12$  ## in SI units\n",
    "k = 1 / (4 * np.pi * epsilon_0)   ## coulomb's constant\n",
    "```\n"
   ]
  },
  {
   "cell_type": "code",
   "execution_count": null,
   "metadata": {
    "deletable": false,
    "nbgrader": {
     "cell_type": "code",
     "checksum": "53264ea0a584f58b4a9085d2f29788c0",
     "grade": false,
     "grade_id": "cell-5cbe0f84913cfd7b",
     "locked": false,
     "schema_version": 3,
     "solution": true,
     "task": false
    }
   },
   "outputs": [],
   "source": [
    "# Define epsilon_0 and k here\n",
    "# YOUR CODE HERE\n",
    "raise NotImplementedError()"
   ]
  },
  {
   "cell_type": "code",
   "execution_count": null,
   "metadata": {
    "deletable": false,
    "editable": false,
    "nbgrader": {
     "cell_type": "code",
     "checksum": "c3557190f2a86e564884ddd0b3daab0a",
     "grade": true,
     "grade_id": "Tutorial_constants",
     "locked": true,
     "points": 2,
     "schema_version": 3,
     "solution": false,
     "task": false
    }
   },
   "outputs": [],
   "source": [
    "assert(epsilon_0 == 8.85e-12)\n",
    "assert(k==1/(4*np.pi*epsilon_0))"
   ]
  },
  {
   "cell_type": "code",
   "execution_count": null,
   "metadata": {
    "deletable": false,
    "nbgrader": {
     "cell_type": "code",
     "checksum": "e5367b256e91305af79c46de8af4f4d8",
     "grade": false,
     "grade_id": "cell-ee9bfc91d7ea0245",
     "locked": false,
     "schema_version": 3,
     "solution": true,
     "task": false
    }
   },
   "outputs": [],
   "source": [
    "def calculate_electric_field_magnitude(r, q) :\n",
    "    '''Return the magnitude of the electric field here'''\n",
    "    # YOUR CODE HERE\n",
    "    raise NotImplementedError()"
   ]
  },
  {
   "cell_type": "code",
   "execution_count": null,
   "metadata": {
    "deletable": false,
    "editable": false,
    "nbgrader": {
     "cell_type": "code",
     "checksum": "abd95d616e1a37e782a05fad1bc2bf21",
     "grade": true,
     "grade_id": "Tutorial_electric_field_function",
     "locked": true,
     "points": 2,
     "schema_version": 3,
     "solution": false,
     "task": false
    }
   },
   "outputs": [],
   "source": [
    "assert(calculate_electric_field_magnitude(1, 1) == k)"
   ]
  },
  {
   "cell_type": "markdown",
   "metadata": {},
   "source": [
    "**Exercise** (5min - 2 points): Plot the function \n",
    "- Plot the `calculate_electric_field_magnitude` as a function of `rarray` for a charge `q=1` Coulomb, and another for a charge `q=100` Coulombs. \n",
    "- Note:  Try plotting with and without a log-scale on the y-axis (you'll want to keep the log scale)\n",
    "- Note:  Make sure to label you axes - the axis labels are often more visible with the key word argument (kwarg), `fontsize='xx-large'`.\n",
    "- Note:  You can use the kwarg `label` to then add a legend.\n",
    "- Bonus: Once you get that to work, try swapping out rarray with rarraylin - what happened?"
   ]
  },
  {
   "cell_type": "code",
   "execution_count": null,
   "metadata": {
    "deletable": false,
    "nbgrader": {
     "cell_type": "code",
     "checksum": "bda72fea698eb2c713a00beeaf90b7fa",
     "grade": true,
     "grade_id": "cell-0046c3b500fe1d14",
     "locked": false,
     "points": 2,
     "schema_version": 3,
     "solution": true,
     "task": false
    }
   },
   "outputs": [],
   "source": [
    "# Plot here\n",
    "# YOUR CODE HERE\n",
    "raise NotImplementedError()"
   ]
  },
  {
   "cell_type": "markdown",
   "metadata": {},
   "source": [
    "**Question** (2min - 2 points): What is the benefit of having the y-axis on a log scale?"
   ]
  },
  {
   "cell_type": "markdown",
   "metadata": {
    "deletable": false,
    "nbgrader": {
     "cell_type": "markdown",
     "checksum": "c02cc9580449995c64ef87f239a24675",
     "grade": true,
     "grade_id": "cell-3303618af1f551e1",
     "locked": false,
     "points": 2,
     "schema_version": 3,
     "solution": true,
     "task": false
    }
   },
   "source": [
    "YOUR ANSWER HERE"
   ]
  },
  {
   "cell_type": "markdown",
   "metadata": {},
   "source": [
    "**Quick exercise** (2min - 2 points): Remake the above plot in the cell below, now scaling *both* the x and y axes to log scales."
   ]
  },
  {
   "cell_type": "code",
   "execution_count": null,
   "metadata": {
    "deletable": false,
    "nbgrader": {
     "cell_type": "code",
     "checksum": "c76d1b21ccd0862c7ffa2432de4f13f4",
     "grade": true,
     "grade_id": "Tutorial_loglog_plot",
     "locked": false,
     "points": 2,
     "schema_version": 3,
     "solution": true,
     "task": false
    }
   },
   "outputs": [],
   "source": [
    "#  Make the same plot above, but with both the x and y axes on a log scale\n",
    "# YOUR CODE HERE\n",
    "raise NotImplementedError()"
   ]
  },
  {
   "cell_type": "markdown",
   "metadata": {},
   "source": [
    "Note, because we are looking at the log spacing on the x-axis, only the *positive* values show up. In the cell below, what happens when you execute the base 10 logarithm of -1, e.g. `np.log10(-1)` below? "
   ]
  },
  {
   "cell_type": "code",
   "execution_count": null,
   "metadata": {},
   "outputs": [],
   "source": [
    "#  Test here\n",
    "np.log10(-1)"
   ]
  },
  {
   "cell_type": "markdown",
   "metadata": {},
   "source": [
    "Describe output here: "
   ]
  },
  {
   "cell_type": "markdown",
   "metadata": {},
   "source": [
    "## Comparing a model to data\n",
    "\n",
    "Let us assume that Coulomb's law is not yet known, and your plot above corresponds to data that you have taken.\n",
    "\n",
    "Straight lines on a log-log plot are easier to interpret. In this case the linear relation can be parameterized as: $$\\log_{10} E = m* \\log_{10} x + b.$$ If you carefully measure with a ruler (or equivalent) you'll find that the slope of this line is close to -2. (E.g., a $1/x^2$ dependence.)  We will use this to construct an eyeballed *model* of the data.  \n",
    "\n",
    "In general, a model should describe the behavior of data, and make predictions for data at other points. \n",
    "\n",
    "Let us focus on the `q=1` case.  The value of $b$ can be read off where $log_{10} x = 0$ (e.g., at x=1), so $b \\approx {10}.$ We can check this by plotting this eyeballed model over the field we have already calculated. To do this we need to rearange and invert our linear equation:\n",
    "\n",
    "$$10^{\\log_{10} E} = 10^{m* \\log_{10} x + b},$$ which is equivalent to: $$ E = 10^{m* \\log_{10} x} 10^ b,$$ and $$ E = 10^{ \\log_{10} x^m} 10^ b,$$ which can be simplified to:$$ E = x^m 10^ b.$$ Substituting in our estimates for $b$ and $m$ we have $$E_{eye,model} = 10^{10}x^{-2}.$$\n",
    "\n",
    "Now we want to check this by plotting our fit against the simulated E-field.  "
   ]
  },
  {
   "cell_type": "markdown",
   "metadata": {},
   "source": [
    "**Quick exercise** (2min - 2 points): Let us now define a model function,\n",
    "```model_electric_field```, and over-plot this with the `q=1` curve from above for the rarray points.  Don't forget to examine this with the axes log scaled, label your curves for a legend, and label the axes."
   ]
  },
  {
   "cell_type": "code",
   "execution_count": null,
   "metadata": {},
   "outputs": [],
   "source": [
    "def model_electric_field(x) :\n",
    "    \"\"\"Model of the observed electric field\"\"\"\n",
    "    return 1e10/x**2"
   ]
  },
  {
   "cell_type": "code",
   "execution_count": null,
   "metadata": {
    "deletable": false,
    "nbgrader": {
     "cell_type": "code",
     "checksum": "bb34728fcaca86b32cd5ef94dc330770",
     "grade": true,
     "grade_id": "Tutorial_model_plot",
     "locked": false,
     "points": 2,
     "schema_version": 3,
     "solution": true,
     "task": false
    }
   },
   "outputs": [],
   "source": [
    "# Over plot the model and \"data\"\n",
    "# YOUR CODE HERE\n",
    "raise NotImplementedError()"
   ]
  },
  {
   "cell_type": "markdown",
   "metadata": {},
   "source": [
    "**Quick exercise** (2min - 2 points): One way to compare data with a model is to look at the ratio between them.  Plot the ratio between the data and model below.  "
   ]
  },
  {
   "cell_type": "code",
   "execution_count": null,
   "metadata": {
    "deletable": false,
    "nbgrader": {
     "cell_type": "code",
     "checksum": "5783d9cf41b0ac3783816da1a349e075",
     "grade": true,
     "grade_id": "Tutorial_model_ratio",
     "locked": false,
     "points": 2,
     "schema_version": 3,
     "solution": true,
     "task": false
    }
   },
   "outputs": [],
   "source": [
    "# Plot ratio here\n",
    "# YOUR CODE HERE\n",
    "raise NotImplementedError()"
   ]
  },
  {
   "cell_type": "markdown",
   "metadata": {},
   "source": [
    "Our fit agrees pretty well with the real field, so we have more or less recovered Coulomb's law (i.e. the $1/r^2$ dependence).  We have the correct scaling, $r^{-2}$.  But, the model differs from the data by a constant factor of $k = 0.899 \\times 10^{10}$. This was difficult to see in the over-plotted on the log-log plot, but this is clear in a ratio of the two."
   ]
  },
  {
   "cell_type": "markdown",
   "metadata": {},
   "source": [
    "## Coulomb's law in 3d\n",
    "\n",
    "The electric field is introduced by dividing both sides of coulomb's law by $q$. This results in:\n",
    "\n",
    "$$\\vec E := \\frac {\\vec F} q = \\frac 1 {4\\pi\\epsilon_0} \\frac {Q}{{\\vec{r}}^2} \\hat{r} $$ Here $\\vec{r}\\equiv \\vec{r_i} - \\vec{r_Q}$ where $\\vec{r_i}$ is the point in space at which we evaluate the field due to a charge Q sitting at $\\vec{r_Q}$. This is a vector field. That is, at each point in space we have a vector representing the magnitude and direction of the electric field at that point."
   ]
  },
  {
   "cell_type": "markdown",
   "metadata": {},
   "source": [
    "**Exercise** (5min - 2 points):  Analogous to how we used np.arange (or np.linspace) to define a variable `rarray`,  representing positions in 1-d space, we can define positions in 3-d space.  We will do this using the `np.meshgrid` function for this.  Let us define xarray, yarray, and zarray positions in a box from $-1\\leq x, y, z\\leq 1$ in steps of 2.  `np.linspace` is somewhat similar to np.arange, but typically rounds the array elements nicely for the end point (try googling \"numpy linspace vs. arange\"). We start and stop at 1.05 so we do not hit the origin exactly.  This is to avoid the electric field calculation from blowing up when we place a charge at the origin (the plot would look quite messy). \n",
    "```\n",
    "num_points_1d = 2\n",
    "sample_points = np.linspace(-1, 1, num=num_points_1d)\n",
    "xarray, yarray, zarray = np.meshgrid(sample_points, sample_points, sample_points, indexing='ij')\n",
    "```\n",
    "\n",
    "Note, we have used the kwarg `indexing='ij'` for x, y, z cycling arrays.  Without specifying this keyword, The default is y, x, z.  Define the xarray, yarray, and zarray variables as shown above, then examine these arrays (e.g. what are their sizes and shapes?  what are their contents?) "
   ]
  },
  {
   "cell_type": "code",
   "execution_count": null,
   "metadata": {
    "deletable": false,
    "nbgrader": {
     "cell_type": "code",
     "checksum": "26f8b8312aec436c364a8a7434873286",
     "grade": false,
     "grade_id": "cell-7ef6cbcafa24f19d",
     "locked": false,
     "schema_version": 3,
     "solution": true,
     "task": false
    }
   },
   "outputs": [],
   "source": [
    "# Define xarray, yarray, zarray here\n",
    "# YOUR CODE HERE\n",
    "raise NotImplementedError()"
   ]
  },
  {
   "cell_type": "markdown",
   "metadata": {},
   "source": [
    "**Interpretation Question**: From examination and/or reading online documentation of meshgrid, what does each element in each array correspond to?"
   ]
  },
  {
   "cell_type": "markdown",
   "metadata": {},
   "source": [
    "Meshgrid outputs the x, y, and z coordinate values for every point in the meshgrid.  "
   ]
  },
  {
   "cell_type": "code",
   "execution_count": null,
   "metadata": {
    "deletable": false,
    "editable": false,
    "nbgrader": {
     "cell_type": "code",
     "checksum": "8f4a212fe6b85a48b70bcaf479b3a6ba",
     "grade": true,
     "grade_id": "Tutorial_meshgrid",
     "locked": true,
     "points": 2,
     "schema_version": 3,
     "solution": false,
     "task": false
    }
   },
   "outputs": [],
   "source": [
    "\"\"\"Run this cell to make sure you have properly defined sample_points\"\"\"\n",
    "assert((sample_points == np.linspace(-1,1,num_points_1d)).all())\n",
    "xtest, ytest, ztest = np.meshgrid(sample_points, sample_points, sample_points, indexing='ij')\n",
    "assert((xtest==xarray).all())\n",
    "assert((ytest==yarray).all())\n",
    "assert((ztest==zarray).all())"
   ]
  },
  {
   "cell_type": "markdown",
   "metadata": {},
   "source": [
    "**Electric field in 3 dimensions** Let us now define a function that outputs the 3 dimensional electric field due to a point charge.  First, it is useful to have a function that outputs the euclidean distance between two points.  "
   ]
  },
  {
   "cell_type": "markdown",
   "metadata": {},
   "source": [
    " This can be accomplished with the numpy built-in function, `np.linalg.norm`.  This function is in the `linalg` module of the `numpy` library. You can think of a module as a unit collection of common tools.  In this case, `linalg` has a bunch of linear algebra operations.   Note, this is the same as doing something along the lines of:\n",
    " ```\n",
    " np.sqrt((a[0]-b[0])**2+(a[1]-b[1])**2+(a[2]-b[2])**2)\n",
    " ```"
   ]
  },
  {
   "cell_type": "code",
   "execution_count": null,
   "metadata": {},
   "outputs": [],
   "source": [
    "# First, we define two position vectors\n",
    "a = np.array([1,1,1])\n",
    "b = np.array([0,0,1])\n",
    "\n",
    "# Now we find the euclidean distance between the to positions\n",
    "np.linalg.norm(a-b)"
   ]
  },
  {
   "cell_type": "code",
   "execution_count": null,
   "metadata": {},
   "outputs": [],
   "source": [
    "def calculate_efield_at_point(charge_position, field_position, q=1) :\n",
    "    '''Return the electric field due to a point charge.\n",
    "    \n",
    "    Inputs:\n",
    "    charge_position (n-darray) : x, y, and z position vector\n",
    "    field_positions_x (n-darray) : x coordinates of the field\n",
    "    field_positions_y (n-darray) : y coordinates of the field\n",
    "    field_positions_z (n-darray) : z coordinates of the field\n",
    "    q (float or int) : charge of the point\n",
    "    Outputs:\n",
    "    vector_efield (n-darray) : x, y, z components of the e-field at the point field_position\n",
    "    '''\n",
    "    \n",
    "    r = field_position-charge_position\n",
    "    r_magnitude = np.linalg.norm(field_position-charge_position)\n",
    "    r_unit = r/r_magnitude\n",
    "    \n",
    "    return k*q / r_magnitude**2 * r_unit"
   ]
  },
  {
   "cell_type": "markdown",
   "metadata": {},
   "source": [
    "You can now imagine calculating the e-field due to a charge at the origin, where we've now calculated the field at at every point generated by the meshgrid.  We can do this for the meshgrid we generated comprised of four points.  It would look like the following:"
   ]
  },
  {
   "cell_type": "code",
   "execution_count": null,
   "metadata": {},
   "outputs": [],
   "source": [
    "# First unravel the xarray, yarray, and zarray so we can loop over the elements:\n",
    "# In the loop calculate the e-field, collect into a list\n",
    "# Convert list into a numpy array that gets reshaped\n",
    "\n",
    "efield_list = []\n",
    "charge_position = np.array([0,0,0])\n",
    "\n",
    "for x, y, z in zip(np.ravel(xarray), np.ravel(yarray), np.ravel(zarray)) :\n",
    "    field_position = np.array([x,y,z])\n",
    "    print(\"Calculating efield at: \", field_position)\n",
    "    efield_at_point = calculate_efield_at_point(charge_position, field_position, q=1) \n",
    "    print(\"efield is: \", efield_at_point)\n",
    "    efield_list.append(efield_at_point)\n",
    "    "
   ]
  },
  {
   "cell_type": "markdown",
   "metadata": {},
   "source": [
    "**Note:** I should emphasize that this is *not* how you will want to do calculations with numpy arrays.  But, this is the most illustrative so you can see what we want to do in a step-by-step manner.  You should be able to *vectorize* the action of calculating the electric field.  We will do that in the second week.  The code above is to illustrate how you might perform this type of an action, and you will see how to do it in a vectorized fashion later.\n",
    "\n",
    "**Exercise**: Based on what was illustrated in the preflight, explain why this is not what you want to do with numpy arrays. e.g. \"We don't want to... when we calculate the electric field at all points in the grid because...\""
   ]
  },
  {
   "cell_type": "markdown",
   "metadata": {},
   "source": [
    "We don't want to loop over individual elements when we calculate the electric field at all points in the grid.  This is because it is slow, and possibly even more prone to mistakes."
   ]
  },
  {
   "cell_type": "markdown",
   "metadata": {},
   "source": [
    "### Plotting the vector field\n",
    "\n",
    "You will notice that the e-field at each point is a vector (electric field is a vector field).  Let's visualize the electric field in 3 dimensions.  There are multiple ways to do this with matplotlib tools.  I personally like the `streamplot` method [documentation here](https://matplotlib.org/3.3.1/api/_as_gen/matplotlib.pyplot.streamplot.html).  \n",
    "\n",
    "Note, we will later want to color code the arrows based on the magnitude of the electric field.  We can quickly calculate the magnitude with the same `np.linalg.norm` function.  But, now, we need to do this along a specified axis (axis is a kwarg for this function) corresponding to each point in space.  \n",
    "\n",
    "**Exercise 1** (1 points):  In the cell below, first define `efield_vectors` by turning `efield_list` into a numpy array.  For any list of numbers, `list`, you can use this to define an array with, `new_array=np.array(list)`."
   ]
  },
  {
   "cell_type": "code",
   "execution_count": null,
   "metadata": {
    "deletable": false,
    "nbgrader": {
     "cell_type": "code",
     "checksum": "7799d101db2f02cea1ad4c7f93c28609",
     "grade": false,
     "grade_id": "cell-a01c9d5043a3ba7f",
     "locked": false,
     "schema_version": 3,
     "solution": true,
     "task": false
    }
   },
   "outputs": [],
   "source": [
    "# Define the variable efield_vectors in this cell\n",
    "\n",
    "# YOUR CODE HERE\n",
    "raise NotImplementedError()\n",
    "\n",
    "print(efield_vectors.shape)\n",
    "print(efield_vectors[:,1])"
   ]
  },
  {
   "cell_type": "code",
   "execution_count": null,
   "metadata": {
    "deletable": false,
    "editable": false,
    "nbgrader": {
     "cell_type": "code",
     "checksum": "170e68b37b60e8d26b84f0e14e5965c5",
     "grade": true,
     "grade_id": "Tutorial_efield_vector",
     "locked": true,
     "points": 1,
     "schema_version": 3,
     "solution": false,
     "task": false
    }
   },
   "outputs": [],
   "source": [
    "\"\"\"Run this cell to check that you have properly defined efield_vectors\"\"\"\n",
    "assert(efield_vectors[0][0] == efield_list[0][0])\n",
    "assert((efield_vectors == np.array(efield_list)).all())"
   ]
  },
  {
   "cell_type": "markdown",
   "metadata": {},
   "source": [
    "**Exercise 2** (1 points):  Next, define a variable `efield_magnitude` that corresponds to the magnitude of the electric field at each point.  Use the `np.linalg.norm` function.  You'll need to input the array form of the efield_list, i.e. `np.array(efield_list)` as an argument to the function.  Note, I always lose track of which axis to use, but I know I should have as many values of a magnitude as I have points.  So, trial-and-error is a fair approach.  \n",
    "You can try defining `efield_magnitude`, and printing its contents immediately after."
   ]
  },
  {
   "cell_type": "code",
   "execution_count": null,
   "metadata": {
    "deletable": false,
    "nbgrader": {
     "cell_type": "code",
     "checksum": "d29f6dc5a708ff2fe99ef64c44480fdb",
     "grade": false,
     "grade_id": "cell-d68a224c14ce0fb0",
     "locked": false,
     "schema_version": 3,
     "solution": true,
     "task": false
    }
   },
   "outputs": [],
   "source": [
    "# YOUR CODE HERE\n",
    "raise NotImplementedError()\n",
    "\n",
    "print(efield_magnitude)\n"
   ]
  },
  {
   "cell_type": "code",
   "execution_count": null,
   "metadata": {
    "deletable": false,
    "editable": false,
    "nbgrader": {
     "cell_type": "code",
     "checksum": "76ba5cd743e1268aaa1c316d50a93e87",
     "grade": true,
     "grade_id": "cell-e6ce0d3643395a21",
     "locked": true,
     "points": 1,
     "schema_version": 3,
     "solution": false,
     "task": false
    }
   },
   "outputs": [],
   "source": [
    "\"\"\"Run this cell to check that you have defined efield_magnitude\"\"\"\n",
    "try:\n",
    "   efield_magnitude\n",
    "except NameError:\n",
    "    raise AssertionError(\"efield_magnitude has not yet been defined\")"
   ]
  },
  {
   "cell_type": "markdown",
   "metadata": {},
   "source": [
    "Now, we plot the vector field.  Let's first try the method `quiver` [quiver documentation](https://matplotlib.org/3.3.0/api/_as_gen/matplotlib.pyplot.quiver.html).  Note, next time we experiment with using the `streamplot` method [streamplot documentation](https://matplotlib.org/3.3.1/api/_as_gen/matplotlib.pyplot.streamplot.html)."
   ]
  },
  {
   "cell_type": "code",
   "execution_count": null,
   "metadata": {},
   "outputs": [],
   "source": [
    "#  Plot the vector field using the quiver method\n",
    "fig, ax1 = plt.subplots(1, figsize=(8,8))\n",
    "ax1.quiver(xarray, yarray, efield_vectors[:,0], efield_vectors[:,1], pivot='mid', color='r')\n",
    "ax1.set_xlabel('x (meters)')\n",
    "ax1.set_ylabel('y (meters)')\n",
    "ax1.set_title('E Field of Point Charge', fontsize=16)"
   ]
  },
  {
   "cell_type": "markdown",
   "metadata": {},
   "source": [
    "**Exercise**:  Let's describe plot behavior changes when we change input arguments (args) or key word arguments (kwargs).  Now, go back to where we defined the `efield_vectors` by calculating the electric field at each point, and change the calculation for a charge `q=-1`.  Execute that cell and following cells to remake the above plot.  What happened?  Now, go back to where we defined the number of points along each axis, and change the number of steps, `num_points_1d` to 10. Execute all of the cells to re-remake the above plot.  What happened?"
   ]
  },
  {
   "cell_type": "markdown",
   "metadata": {},
   "source": [
    "The points point inwards when we change the sign of the charge.  We sample more points in the field when we increase `num_points_1d`."
   ]
  },
  {
   "cell_type": "markdown",
   "metadata": {},
   "source": [
    "# Phys 260 Python Lab 1: Introduction to Python: Homework (10 points total)\n",
    "\n",
    "\n",
    "Your homework assignment begins here.  Note, the homework below relies on code built during the tutorial (above)\n",
    "\n",
    "## Homework summary\n",
    "- Calculate the electric field due to a dipole\n",
    "- Plot the electric field due to a dipole"
   ]
  },
  {
   "cell_type": "markdown",
   "metadata": {},
   "source": [
    "## Calculating the electric field (4 points)\n",
    "A dipole consists of a pair of charges one positive and one negative (with the same charge magnitude) separated by a fixed distance. Consider a dipole consisting of a q$_-$ = -1 C charge located at $x = 0, y = 0, z = 0.5$ and a q$_+$ = 1 C charge located at $x = 0, y = 0, z = -0.5$.\n",
    "\n",
    "Below is the skeleton of the function `calculate_efield_from_dipole`.  It contains the name of the function, the names of the input arguments and key word arguments.  You'll notice that this is very similar to `calculate_efield_at_point`.  \n",
    "\n",
    "(1) Appropriately **fill in the docstrings** (documentation string) enclosed by triple quotes, and see the `calculate_efield_at_point` as an example. (1pts)\n",
    "\n",
    "(2) **Fill in the function** to calculate the efield due to a dipole by using `calculate_efield_at_point` to calculate the efield due to the q$_-$ and the efield due to the q$_+$ charge, the use the principle of superposition.  You should be able to do this in 1-3 lines of code.  Full credit for using `calculate_efield_at_point` appropriately *instead of rewriting code.* (3 pts, but only 1 pt if you rewrote code)"
   ]
  },
  {
   "cell_type": "code",
   "execution_count": null,
   "metadata": {
    "deletable": false,
    "nbgrader": {
     "cell_type": "code",
     "checksum": "8473092477127a3251641fc3fe2cb47a",
     "grade": false,
     "grade_id": "cell-cbc98b5fdc39349e",
     "locked": false,
     "schema_version": 3,
     "solution": true,
     "task": false
    }
   },
   "outputs": [],
   "source": [
    "def calculate_efield_from_two_charges(charge_1_position, charge_2_position, field_position, q1=-1, q2=1) :\n",
    "    '''Return the electric field due to two charges.\n",
    "    \n",
    "    Inputs:\n",
    "    \n",
    "    Outputs:\n",
    "    \n",
    "    '''\n",
    "    # YOUR CODE HERE\n",
    "    raise NotImplementedError()"
   ]
  },
  {
   "cell_type": "code",
   "execution_count": null,
   "metadata": {
    "deletable": false,
    "editable": false,
    "nbgrader": {
     "cell_type": "code",
     "checksum": "560d92b15b19e6868b5b34005636e014",
     "grade": true,
     "grade_id": "HW_dipole_function",
     "locked": true,
     "points": 4,
     "schema_version": 3,
     "solution": false,
     "task": false
    }
   },
   "outputs": [],
   "source": [
    "\"\"\"Execute this cell to check if you've properly defined the function above\"\"\"\n",
    "from math import isclose\n",
    "\n",
    "charge_1_pos = np.array([0,0,0.5])\n",
    "charge_2_pos = np.array([0,0,-0.5])\n",
    "test_point = np.array([0,0,10])\n",
    "test_efield = calculate_efield_from_two_charges(charge_1_pos, charge_2_pos, test_point)\n",
    "assert(isclose(test_efield[2], -18073865.75603393, rel_tol=1e-10))"
   ]
  },
  {
   "cell_type": "markdown",
   "metadata": {},
   "source": [
    "## Calculate the dipole electric field on the meshgrid (3 points)\n",
    "\n",
    "Look back at the loop we used to calculate the electric field due to a point.  Use similar code to do this for the dipole electric field.  The skeleton for this is below.  \n",
    "\n",
    "Hints:\n",
    "- You will want to change how you define the variable `efield_at_point` inside the loop.\n",
    "- You will need to use the charge_1_pos and charge_2_pos defined in the cell above as arguments."
   ]
  },
  {
   "cell_type": "code",
   "execution_count": null,
   "metadata": {
    "deletable": false,
    "nbgrader": {
     "cell_type": "code",
     "checksum": "4d7e74eb703bc1e3a548d580cb366c92",
     "grade": false,
     "grade_id": "cell-df89e0a1787cec09",
     "locked": false,
     "schema_version": 3,
     "solution": true,
     "task": false
    }
   },
   "outputs": [],
   "source": [
    "dipole_efield_list = []\n",
    "\n",
    "for x, y, z in zip(np.ravel(xarray), np.ravel(yarray), np.ravel(zarray)) :\n",
    "    field_position = np.array([x,y,z])\n",
    "    print(\"Calculating efield at: \", field_position)\n",
    "\n",
    "# YOUR CODE HERE\n",
    "raise NotImplementedError()\n",
    "    \n",
    "    dipole_efield_list.append(efield_at_point)\n",
    "    \n",
    "dipole_efield_vectors = np.array(dipole_efield_list)"
   ]
  },
  {
   "cell_type": "code",
   "execution_count": null,
   "metadata": {
    "deletable": false,
    "editable": false,
    "nbgrader": {
     "cell_type": "code",
     "checksum": "3b335413fd20105d78cc611b61ee907d",
     "grade": true,
     "grade_id": "HW_dipole_meshgrid",
     "locked": true,
     "points": 3,
     "schema_version": 3,
     "solution": false,
     "task": false
    }
   },
   "outputs": [],
   "source": [
    "\"\"\"Execute this cell to check that you have properly defined the dipole efield vectors\"\"\"\n",
    "charge_1_pos = np.array([0,0,0.5])\n",
    "charge_2_pos = np.array([0,0,-0.5])\n",
    "test_point = np.array([-1,-1,-1])\n",
    "test_efield = calculate_efield_from_two_charges(charge_1_pos, charge_2_pos, test_point)\n",
    "\n",
    "assert((test_efield==dipole_efield_vectors[0]).all())"
   ]
  },
  {
   "cell_type": "markdown",
   "metadata": {},
   "source": [
    "##  Plot on plane of dipole (3 pts)\n",
    "\n",
    "Plot on a plane parallel to that of the dipole (i.e. the yz-plane)"
   ]
  },
  {
   "cell_type": "code",
   "execution_count": null,
   "metadata": {
    "deletable": false,
    "nbgrader": {
     "cell_type": "code",
     "checksum": "1d0e7cbfd533349fe92553a393321b4e",
     "grade": true,
     "grade_id": "HW_plot_dipole",
     "locked": false,
     "points": 3,
     "schema_version": 3,
     "solution": true,
     "task": false
    }
   },
   "outputs": [],
   "source": [
    "#  Plot the vector field using the quiver method\n",
    "fig, ax1 = plt.subplots(1, figsize=(8,8))\n",
    "\n",
    "# YOUR CODE HERE\n",
    "raise NotImplementedError()\n",
    "\n",
    "ax1.set_xlabel('y (meters)')\n",
    "ax1.set_ylabel('z (meters)')\n",
    "ax1.set_title('E Field of Dipole', fontsize=16)"
   ]
  },
  {
   "cell_type": "code",
   "execution_count": null,
   "metadata": {},
   "outputs": [],
   "source": []
  }
 ],
 "metadata": {
  "kernelspec": {
   "display_name": "Python 3",
   "language": "python",
   "name": "python3"
  },
  "language_info": {
   "codemirror_mode": {
    "name": "ipython",
    "version": 3
   },
   "file_extension": ".py",
   "mimetype": "text/x-python",
   "name": "python",
   "nbconvert_exporter": "python",
   "pygments_lexer": "ipython3",
   "version": "3.8.3"
  }
 },
 "nbformat": 4,
 "nbformat_minor": 4
}

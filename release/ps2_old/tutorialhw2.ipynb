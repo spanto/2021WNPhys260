{
 "cells": [
  {
   "cell_type": "markdown",
   "metadata": {},
   "source": [
    "# Phys 260: Python assignment header\n",
    "\n",
    "### (1) Fill out the cell below.  \n",
    "The cell below is a **code cell**.  Fill out your University of Michigan uniqname, then your name, and collaborators in the cell below **inside the quotes**.  \n",
    "\n",
    "**Do not delete the quotes.**  We will use this information to organize your assignments.  To edit and execute cells, double click inside the cell, type, and press \\<shift\\>+\\<enter\\> to execute."
   ]
  },
  {
   "cell_type": "code",
   "execution_count": null,
   "metadata": {},
   "outputs": [],
   "source": [
    "UNIQNAME = \"spanton\"\n",
    "NAME = \"ems\"\n",
    "COLLABORATORS = \"\""
   ]
  },
  {
   "cell_type": "markdown",
   "metadata": {},
   "source": [
    "### (2) Check your python version.  \n",
    "**Execute the cell below** (double click in the cell and press \\<shift\\>+\\<enter\\>, or click in the cell and press the Run button) to check that you are using a version of python that is compatible with the tool we are using to grade your assignments.  If your ```IPython``` version is too old, we will *not* be able to grade your assignments."
   ]
  },
  {
   "cell_type": "code",
   "execution_count": null,
   "metadata": {},
   "outputs": [],
   "source": [
    "import IPython\n",
    "assert IPython.version_info[0] >= 3, \"Your version of IPython is too old, please update it.\""
   ]
  },
  {
   "cell_type": "markdown",
   "metadata": {},
   "source": [
    "### (3) Do your best to answer all questions in the assignment.  \n",
    "To answer questions, **replace** anything that says either\n",
    "- \"YOUR ANSWER HERE\" \n",
    "- \n",
    "```\n",
    "YOUR CODE HERE\n",
    "raise NotImplementedError\n",
    "``` \n",
    "\n",
    "with your answer/code.  Cells with either of the two bullet points above are cells of the notebook that will be graded.\n",
    "\n",
    "**To edit markdown** cells (e.g. this one),  *double click in the cell to type*.  Press \\<shift\\>+\\<enter\\> to execute the cell.  Try editing the text below to replace the with your information (e.g. Camille Avestruz, cavestru):  \n",
    "\n",
    "[first name] [last name], uniqname\n"
   ]
  },
  {
   "cell_type": "markdown",
   "metadata": {},
   "source": [
    "### (4) Make sure your notebook runs sequentially.\n",
    "After you complete this assignment, make sure everything runs as expected. First, **restart the kernel** (in the menubar, select Kernel$\\rightarrow$Restart) and then **run all cells** (in the menubar, select Cell$\\rightarrow$Run All)."
   ]
  },
  {
   "cell_type": "code",
   "execution_count": null,
   "metadata": {},
   "outputs": [],
   "source": []
  },
  {
   "cell_type": "markdown",
   "metadata": {},
   "source": [
    "# Introduction -- Reminder\n",
    "\n",
    "Each Python lab will start with a pre-flight exercise that walks through building some of the set up and tools ($\\sim$ 30 min), followed by an in-class tutorial with time for Q+A (50 min) so you can walk through steps that will be necessary for the homework assignment you will submit ($\\sim$ 3 hrs).  Each lab will contain starter code, similar to what you see below.  Please fill in the code to complete the pre-flight assignment in preparation for the in-class tutorial.  \n",
    "\n",
    "Preflight ($\\sim$30-60 min, 10 points) **Typically due: Thursdays 3pm EST**\n",
    "\n",
    "*Preflight typically graded by Wednesday 5p EST*\n",
    "\n",
    "In-class tutorial and Q+A ($\\sim$ 50 min, 10 points) **Typically occurs: Fridays EST**\n",
    "\n",
    "Homework assignment ($\\sim$ 3-5 hrs, 30 points) **Typically due: Tuesdays 12pm EST**  \n",
    "\n",
    "\n",
    "When we grade your homework, we will not run your code. Once submitted, your notebook should have the outputs for all of your results.  Please do not include long outputs from debugging, beyond a few print statements and the requested visualimzations (i.e. plots).\n",
    "\n",
    "**Grading:** When we grade your notebook, we will convert the .ipynb file to an HTML file.  We will be using [nbgrader](https://nbgrader.readthedocs.io/en/stable/) to grade your notebooks.  **Note:** Execute the cell below (click in the cell and press shift+enter, or click in the cell and press the Run button) to check that you are using a version of python that is compatible with the tool we are using to grade your assignments.  If your ```IPython``` version is too old, we will *not* be able to grade your assignments.\n"
   ]
  },
  {
   "cell_type": "markdown",
   "metadata": {},
   "source": [
    "# Phys 260 Python Lab 2: More Python: Tutorial (20 points total)\n",
    "\n",
    "## Tutorial summary\n",
    "- Discussion of meshgrid inputs (args and kwargs) and outputs (returned values/objects). \n",
    "- Efield calculation for more than one point with `np.apply_along_axis` (two point example, extended to arbitrary number of points).\n",
    "- Discretize a charge distribution (sphere example, exercise with cube example)\n",
    "- Build a function to take arbitrary points, arbitrary charges, and arbitrary `points_in_meshgrid`. \n",
    "- Define the points and dq's due to a spherical insulator of charge."
   ]
  },
  {
   "cell_type": "code",
   "execution_count": 3,
   "metadata": {},
   "outputs": [],
   "source": [
    "import numpy as np\n",
    "from matplotlib import pyplot as plt\n",
    "import time # We'll see an example of timing your code\n",
    "import matplotlib.patches as patches # Utility for drawing shapes"
   ]
  },
  {
   "cell_type": "code",
   "execution_count": null,
   "metadata": {},
   "outputs": [],
   "source": [
    "#  Here we set up the points in our vector field\n",
    "numpoints_1d = 10\n",
    "\n",
    "sample_points = np.linspace(-3,3,num=numpoints_1d)\n",
    " \n",
    "xarray, yarray, zarray = np.meshgrid(sample_points,\n",
    "                                     sample_points,\n",
    "                                     sample_points,\n",
    "                                     indexing='ij'\n",
    "                                    )\n",
    "\n",
    "points_in_meshgrid = np.array([xarray, yarray, zarray])\n",
    "sample_points.shape"
   ]
  },
  {
   "cell_type": "markdown",
   "metadata": {},
   "source": [
    "## Brief review (3 points)\n",
    "**Quick questions for the class** (class discussion -- 10 min 3 points): \n",
    "- What do the first three arguments of `np.meshgrid` do?\n",
    "- What happens when we switch indexing to 'xy' (or if we leave out the kwarg indexing altogether)?\n",
    "- What shape should `sample_points`, `xarray`, `yarray`, `zarray`, and points_in_meshgrid have?"
   ]
  },
  {
   "cell_type": "markdown",
   "metadata": {
    "deletable": false,
    "nbgrader": {
     "cell_type": "markdown",
     "checksum": "de5276ffd5a46ee9597a07ca7a5661ed",
     "grade": true,
     "grade_id": "Tutorial_Review",
     "locked": false,
     "points": 3,
     "schema_version": 3,
     "solution": true,
     "task": false
    }
   },
   "source": [
    "YOUR ANSWER HERE"
   ]
  },
  {
   "cell_type": "markdown",
   "metadata": {},
   "source": [
    "## The efield calculator"
   ]
  },
  {
   "cell_type": "code",
   "execution_count": null,
   "metadata": {},
   "outputs": [],
   "source": [
    "def calculate_efield_at_point(field_position, charge_position, q=1) :\n",
    "    '''Return the electric field due to a point charge.\n",
    "    \n",
    "    Inputs:\n",
    "    field_position shape (3,) array : x, y, and z position vector for field point\n",
    "    charge_position shape (3,) array : x, y, and z position vector for charge \n",
    "    q (float or int) : charge of the point\n",
    "\n",
    "    Outputs:\n",
    "    vector_efield shape (3,) array : x, y, z components of the e-field at the point field_position\n",
    "    '''\n",
    "\n",
    "    r = field_position-charge_position\n",
    "    r_magnitude = np.linalg.norm(r)\n",
    "    r_unit = r/r_magnitude\n",
    "    \n",
    "    k = 1  #  To make plotting extents easier to deal with\n",
    "    \n",
    "    return k*q / r_magnitude**2 * r_unit"
   ]
  },
  {
   "cell_type": "markdown",
   "metadata": {},
   "source": [
    "## Finding the e-field due to a point charge\n",
    "\n",
    "Let us recall the one line calculation for a point charge."
   ]
  },
  {
   "cell_type": "code",
   "execution_count": null,
   "metadata": {},
   "outputs": [],
   "source": [
    "charge_position = np.array([0,0,0])\n",
    "efield_vectors_for_point_charge = np.apply_along_axis(calculate_efield_at_point, 0, \n",
    "                                                         points_in_meshgrid, charge_position)"
   ]
  },
  {
   "cell_type": "code",
   "execution_count": null,
   "metadata": {},
   "outputs": [],
   "source": [
    "# Quick recall of what this looks like projected down the z-axis\n",
    "\n",
    "# Note you can shortcut a plot with plt.<method name> to skip over defining a figure and axes. \n",
    "# However, you have less control over things like the figure size.\n",
    "plt.quiver(points_in_meshgrid[0].ravel(), \n",
    "           points_in_meshgrid[1].ravel(), \n",
    "           efield_vectors_for_point_charge[0].ravel(), \n",
    "           efield_vectors_for_point_charge[1].ravel())\n",
    "\n",
    "plt.gca().set_aspect('equal') # The set_aspect is a method of an axis, so we \"get current axes\", gca"
   ]
  },
  {
   "cell_type": "markdown",
   "metadata": {},
   "source": [
    "**Slice of vector field**: Side note, we can also take a slice of the vector field along the xy-plane, where z=0.  You'd notice that the overlapping arrow heads are now gone (and I believe the arrow lengths are normalized to one another, so the ones closest to the center are noticeably longer). "
   ]
  },
  {
   "cell_type": "code",
   "execution_count": null,
   "metadata": {},
   "outputs": [],
   "source": [
    "z_index_xy_plane = int(numpoints_1d/2) # Pick the middle z-index closest to xy-plane\n",
    "\n",
    "# Check that this is the proper index\n",
    "assert((np.abs(points_in_meshgrid[2,:,:,z_index_xy_plane])==np.min(np.abs(points_in_meshgrid[2]))).all())\n",
    "\n",
    "plt.quiver(points_in_meshgrid[0,:,:,z_index_xy_plane].ravel(), \n",
    "           points_in_meshgrid[1,:,:,z_index_xy_plane].ravel(), \n",
    "           efield_vectors_for_point_charge[0,:,:,z_index_xy_plane].ravel(), \n",
    "           efield_vectors_for_point_charge[1,:,:,z_index_xy_plane].ravel())\n",
    "\n",
    "plt.gca().set_aspect('equal')"
   ]
  },
  {
   "cell_type": "markdown",
   "metadata": {},
   "source": [
    "## Find the e-field due to multiple point charges: loop version (6 points)\n",
    "\n",
    "**Group Exercise** (10min -- 3 points): Assume that you have a point charge at (1,0,0) and at (-1,0,0) each with charge 0.5C.   Calculate the `efield_vectors_for_two_charges` below.  This is similar to the dipole calculation you did in the first tutorial/hw in that you will use the fact that you can add the contribution of each charge to the electric field.  \n",
    "- We set up an array representing the vector field, `efield_vectors_for_two_charges`, that is initially zero everywhere using `np.zeros` [documentation](https://numpy.org/doc/stable/reference/generated/numpy.zeros.html).  \n",
    "- Then, we loop over both point charge positions.\n",
    "- In the loop, you will want to use the function `calculate_efield_at_point`, incorporating the keyword argument `q=0.5`.\n",
    "- Use the principle of superposition here, and fill out the for-loop. *Hint*: You'll want to add the output of the `np.apply_along_axis` call to efield_vectors_for_two_charges. The `+=` might be useful here:\n",
    "```\n",
    "x = 1\n",
    "x += 5 # This makes the value of x be 6\n",
    "```"
   ]
  },
  {
   "cell_type": "markdown",
   "metadata": {},
   "source": [
    "**Class exercise** (discussion -- 5 min): Fill in the loop below. Aim to do this in 1-2 lines, see hint above. (2/6 points)"
   ]
  },
  {
   "cell_type": "code",
   "execution_count": null,
   "metadata": {
    "deletable": false,
    "nbgrader": {
     "cell_type": "code",
     "checksum": "8cfa75a0035ec10305f0ea73b515488a",
     "grade": false,
     "grade_id": "cell-66bfa32f324d4d57",
     "locked": false,
     "schema_version": 3,
     "solution": true,
     "task": false
    }
   },
   "outputs": [],
   "source": [
    "start = time.time() # We'll time the loop\n",
    "\n",
    "# Define the charge positions\n",
    "charge_pos_1 = np.array([1,0,0])\n",
    "charge_pos_2 = np.array([-1,0,0])\n",
    "\n",
    "# Initial array for efield is filled with zeros\n",
    "efield_vectors_for_two_charges = np.zeros((3, numpoints_1d, numpoints_1d, numpoints_1d))\n",
    "\n",
    "# Let's create an iterable of charge positions\n",
    "charge_positions = [charge_pos_1, charge_pos_2]\n",
    "\n",
    "# Calculate efield_vectors_for_two_charges here\n",
    "for charge_pos in charge_positions :\n",
    "# YOUR CODE HERE\n",
    "raise NotImplementedError()\n",
    "\n",
    "print('Loop took: ',time.time() - start, ' sec')"
   ]
  },
  {
   "cell_type": "code",
   "execution_count": null,
   "metadata": {
    "deletable": false,
    "editable": false,
    "nbgrader": {
     "cell_type": "code",
     "checksum": "2cf5c344415f4082c076f9394e9d75a4",
     "grade": true,
     "grade_id": "Tutorial_2charge_loop",
     "locked": true,
     "points": 2,
     "schema_version": 3,
     "solution": false,
     "task": false
    }
   },
   "outputs": [],
   "source": [
    "\"\"\"Execute to check you are on the right track\"\"\"\n",
    "assert(efield_vectors_for_two_charges.shape == (3, numpoints_1d, numpoints_1d, numpoints_1d))"
   ]
  },
  {
   "cell_type": "markdown",
   "metadata": {},
   "source": [
    "### Setting up to do this in one step (with other functions)\n",
    "\n",
    "You should now be able to imagine how you might numerically calculate the efield due to any discretized charge configuration.  One option is to loop over the positions over each charge element, `dq`, as we did with two discrete charges above.  Below is how we would do this avoiding any for-loops, where we now will define `efield_vectors_two_charges_along_axis`.\n",
    "- First we define `calculate_efield_two_points_on_grid` with `charge_position` as the first argument"
   ]
  },
  {
   "cell_type": "code",
   "execution_count": null,
   "metadata": {},
   "outputs": [],
   "source": [
    "# Calculate efield on whole meshgrid with the charge_position as the first argument \n",
    "def calculate_efield_on_grid(charge_position, pts_in_meshgrid, dq) :\n",
    "    \"\"\" Find the efield on a grid of field points due to a single charge.\n",
    "\n",
    "    Inputs:\n",
    "    charge_position (n-darray) : x, y, and z position for charge, shape (3,) \n",
    "    pts_in_meshgrid (n-darray) : x, y, and z positions for field points, shape (3,m,m,m)\n",
    "    dq (float or int) : charge element value\n",
    "\n",
    "    Outputs:\n",
    "    vector_efield (n-darray) : x, y, z components of the e-field at the point field_position, shape (3,m,m,m) \n",
    "\n",
    "    \"\"\"\n",
    "    assert(charge_position.shape[0]==3)\n",
    "    assert(pts_in_meshgrid.shape[0]==3)\n",
    "    return np.apply_along_axis(calculate_efield_at_point, 0, \n",
    "                                pts_in_meshgrid, charge_position, q=dq)"
   ]
  },
  {
   "cell_type": "markdown",
   "metadata": {},
   "source": [
    "### Test the code on two charges\n",
    "\n",
    "Now, we *nest* our use of `np.apply_along_axis`.  \n",
    "\n",
    "- First we create an array of all charge positions (two in this case).   \n",
    "\n",
    "- Then, we use `np.apply_along_axis` with the function `calculate_efield_on_grid` to simultaneously calculate the efield contributions to both charges.  The resulting array, `efield_vectors_for_two_charges_along_axis` has shape (3,10,10,10,2).  \n",
    "- Slicing `efield_vectors_for_two_charges_along_axis[:,:,:,:,0]` gives the d$\\vec{E}$ contribution due to the first charge \n",
    "- Slicing `efield_vectors_for_two_charges_along_axis[:,:,:,:,1]` gives the d$\\vec{E}$ contribution due to the second charge.\n",
    "\n",
    "- As a side note, `efield_vectors_for_two_charges_along_axis[0,:,:,:,0]` gives the dE$_x$ contribution due to the first charge, and `efield_vectors_for_two_charges_along_axis[1,:,:,:,0]` gives the dE$_y$ contribution due to the first charge\n",
    "\n",
    "- We want to sum all of the d$\\vec{E}$'s, which vary along the fourth axis.  Recall, either the `np.sum` function, or the `sum` method of arrays, e.g. `myarray.sum()`.  You'll want to use a key word argument."
   ]
  },
  {
   "cell_type": "code",
   "execution_count": null,
   "metadata": {},
   "outputs": [],
   "source": [
    "# Let's create an array of all charge positions\n",
    "charge_pos_array = np.array(charge_positions).T # T is for transpose so we get a (3,2) instead of (2,3)\n",
    "print('array of charge positions has shape: ', charge_pos_array.shape)\n",
    "\n",
    "# Calculating all efield vectors due to all charges\n",
    "efield_vectors_for_two_charges_along_axis = np.apply_along_axis(calculate_efield_on_grid, 0, \n",
    "                                                                charge_pos_array, \n",
    "                                                                pts_in_meshgrid=points_in_meshgrid, \n",
    "                                                                dq=0.5)\n",
    "\n",
    "print(\"Not yet summed, the array has shape: \", efield_vectors_for_two_charges_along_axis.shape)"
   ]
  },
  {
   "cell_type": "markdown",
   "metadata": {},
   "source": [
    "**Group Exercise** (5 min -- 2 points): Now, we sum along the appropriate axis (2/6 points)"
   ]
  },
  {
   "cell_type": "code",
   "execution_count": null,
   "metadata": {
    "deletable": false,
    "nbgrader": {
     "cell_type": "code",
     "checksum": "3e8ff38d72a9bc611ea0dca62a9ff851",
     "grade": false,
     "grade_id": "cell-230377218e38648c",
     "locked": false,
     "schema_version": 3,
     "solution": true,
     "task": false
    }
   },
   "outputs": [],
   "source": [
    "# Sum along the appropriate axis to define summed_efield_vectors_for_two_charges below\n",
    "# YOUR CODE HERE\n",
    "raise NotImplementedError()\n",
    "\n",
    "print(\"After summing contributions due to all charges, array has shape: \", \n",
    "      summed_efield_vectors_for_two_charges.shape)"
   ]
  },
  {
   "cell_type": "code",
   "execution_count": null,
   "metadata": {
    "deletable": false,
    "editable": false,
    "nbgrader": {
     "cell_type": "code",
     "checksum": "f9c5e7edcb3c6adb55b566fd6ef72f52",
     "grade": true,
     "grade_id": "Tutorial_2charge_function",
     "locked": true,
     "points": 2,
     "schema_version": 3,
     "solution": false,
     "task": false
    }
   },
   "outputs": [],
   "source": [
    "\"\"\"Execute to check you're on the right track\"\"\"\n",
    "# Check that the loop is the same as applying along an axis\n",
    "assert((efield_vectors_for_two_charges == summed_efield_vectors_for_two_charges).all())"
   ]
  },
  {
   "cell_type": "markdown",
   "metadata": {},
   "source": [
    "### The function that wraps all steps\n",
    "\n",
    "Now, we turn the above code into a function, `calculate_efield_from_charges`.  Note, this uses `calculate_efield_on_grid`, which uses `calculate_efield_at_point`.  This is the function you will want to use for the sphere and cube of charge later in this notebook."
   ]
  },
  {
   "cell_type": "markdown",
   "metadata": {},
   "source": [
    "Note, the one line in the function below has not yet summed all d$\\vec{E}$ contributions.  Return the appropriately summed array, similar to what you did above. (2/6 points)"
   ]
  },
  {
   "cell_type": "code",
   "execution_count": null,
   "metadata": {
    "deletable": false,
    "nbgrader": {
     "cell_type": "code",
     "checksum": "a402130584583b02d53fd1f97ae42cde",
     "grade": false,
     "grade_id": "cell-5bf5ef4333566a46",
     "locked": false,
     "schema_version": 3,
     "solution": true,
     "task": false
    }
   },
   "outputs": [],
   "source": [
    "def calculate_efield_from_charges(charge_position_array, pts_in_meshgrid, dq) :\n",
    "    \"\"\" Find the efield on a grid of field points due to a multiple charges.\n",
    "\n",
    "    Inputs:\n",
    "    charge_position_array (n-darray) : x, y, and z positions for charges, shape (3,m) \n",
    "    pts_in_meshgrid (n-darray) : x, y, and z positions for field points, shape (3,l,l,l)\n",
    "    dq (float or int) : charge element value\n",
    "\n",
    "    Outputs:\n",
    "    vector_efield (n-darray) : x, y, z components of the e-field at the point field_position, shape (3,l,l,l) \n",
    "    \n",
    "    \"\"\"\n",
    "    assert(charge_position_array.shape[0] == 3)\n",
    "    efield_vectors_along_axis = np.apply_along_axis(calculate_efield_on_grid, 0, \n",
    "                                                    charge_position_array, \n",
    "                                                    pts_in_meshgrid=pts_in_meshgrid, \n",
    "                                                                dq=dq)\n",
    "\n",
    "    # YOUR CODE HERE\n",
    "    raise NotImplementedError()"
   ]
  },
  {
   "cell_type": "code",
   "execution_count": null,
   "metadata": {},
   "outputs": [],
   "source": [
    "# Let's time it!\n",
    "start = time.time()\n",
    "efield_to_time = calculate_efield_from_charges(charge_pos_array, \n",
    "                                                      points_in_meshgrid, dq=0.5)\n",
    "print('Our function using np.apply_along_axis took: ', time.time()-start, ' sec')"
   ]
  },
  {
   "cell_type": "code",
   "execution_count": null,
   "metadata": {
    "deletable": false,
    "editable": false,
    "nbgrader": {
     "cell_type": "code",
     "checksum": "07a5820cd138023c87c8fc22e41239c5",
     "grade": true,
     "grade_id": "Tutorial_time_function",
     "locked": true,
     "points": 2,
     "schema_version": 3,
     "solution": false,
     "task": false
    }
   },
   "outputs": [],
   "source": [
    "\"\"\"Execute to check you are on the right track\"\"\"\n",
    "assert((efield_to_time == efield_vectors_for_two_charges).all())"
   ]
  },
  {
   "cell_type": "markdown",
   "metadata": {},
   "source": [
    "## Timing excursion -- not the main benefit of apply along axis\n",
    "For only two charges, the times for me were: \n",
    "- Loop took:  0.041071414947509766  sec \n",
    "- Our function using np.apply_along_axis took:  0.045400142669677734  sec\n",
    "\n",
    "so we didn't get a speed up.  Now, when I multiply the original `charge_positions` definition by 500 several cells up, i.e.\n",
    "```\n",
    "charge_positions = [charge_pos_1, charge_pos_2]*500\n",
    "```\n",
    "and *run everything after*.  How long did the loop vs. using the function take?\n",
    "\n",
    "Mine was:\n",
    "\n",
    "- Loop took:  12.683035373687744  sec\n",
    "- Our function using np.apply_along_axis took:  11.76368260383606  sec\n",
    "\n",
    "When I multiplied by 2000, I got:\n",
    "\n",
    "- Loop took:  50.451897382736206  sec\n",
    "- Our function using np.apply_along_axis took:  47.71536564826965  sec\n",
    "\n",
    "Note - `apply_along_axis` is less for speed up than it is for **writing more concise code**.  But, this at least shows that you won't be suffering a loss.  There are ways to truly [\"vectorize\"](https://www.pythonlikeyoumeanit.com/Module3_IntroducingNumpy/VectorizedOperations.html) your operations, and many of the numpy built in functions/methods do that (e.g. `np.sum`).  I should add, writing concise code should not come at the expense of writing readable code.  I have tried to come up with function names and variable names that illustrate what is being done at each step.  Code readability evolves with [\"code review\"](https://en.wikipedia.org/wiki/Code_review).  \n",
    "\n",
    "**Alert** Make sure to change back your `charge_positions` definition to the original line (no multiplying by some large number) before turning this in.\n"
   ]
  },
  {
   "cell_type": "markdown",
   "metadata": {},
   "source": [
    "## Discretizing a charge distribution (11 points)\n",
    "\n",
    "Let's say that instead of a point charge, we now have a *charge distribution*.  For initial simplicity, let us consider an origin centered spherical insulator (charges are bound in place), total charge $Q=1$C, with radius r=1m.  We will discretize this sphere in a few steps:\n",
    "- Discretize the volume containing the insulator with `np.meshgrid`. Let's call the output `x_volume_samples`, `y_volume_samples`, and `z_volume_samples`. \n",
    "- *Note*, the output of `np.meshgrid` gives you a cube or rectangular prism of points.  Not all of these will be in the volume of the sphere.  Think of how, if you put a sphere in a box that snugly fits around it, there will still be space between the sphere and the corners of the box.  Use `np.where` to identify the points acutally in the sphere.  \n",
    "- Use `np.where` to define the variables `x_sphere_samples`, `y_sphere_samples`, and `z_sphere_samples`, where you have selected the relevant points from `x_volume_samples`, `y_volume_samples`, and `z_volume_samples` respectively.  \n",
    "- You can then use these to define `points_in_sphere`, but make sure that this has shape (3, `num_points_in_sphere`)  \n",
    "- Given `num_points_in_sphere`, divide the total charge Q into the number of points sampling the sphere.  Use this to define `dq_sphere` (the discretized charges).  This is a rough approximation.  "
   ]
  },
  {
   "cell_type": "markdown",
   "metadata": {},
   "source": [
    "Let's first create the points that sample the volume enclosing the sphere (1/11 points)"
   ]
  },
  {
   "cell_type": "code",
   "execution_count": null,
   "metadata": {
    "deletable": false,
    "nbgrader": {
     "cell_type": "code",
     "checksum": "3410b44b3da71904efc991a1713b74eb",
     "grade": false,
     "grade_id": "cell-3d4b02335c2e8674",
     "locked": false,
     "schema_version": 3,
     "solution": true,
     "task": false
    }
   },
   "outputs": [],
   "source": [
    "# Discretize the space around the sphere, defining x_volume_samples, y_volume_samples, z_volume_samples\n",
    "num_volume_pts_1d = 8\n",
    "volume_points_1d = np.linspace(-1,1, num=num_volume_pts_1d)\n",
    "sphere_radius = 1.\n",
    "\n",
    "# YOUR CODE HERE\n",
    "raise NotImplementedError()"
   ]
  },
  {
   "cell_type": "code",
   "execution_count": null,
   "metadata": {
    "deletable": false,
    "editable": false,
    "nbgrader": {
     "cell_type": "code",
     "checksum": "a418692f7e7c031dbab202b9230a28e9",
     "grade": true,
     "grade_id": "Tutorial_volume_mesh",
     "locked": true,
     "points": 1,
     "schema_version": 3,
     "solution": false,
     "task": false
    }
   },
   "outputs": [],
   "source": [
    "\"\"\"Execute this cell to check that you are on the right track\"\"\"\n",
    "assert(x_volume_samples.shape == (num_volume_pts_1d, num_volume_pts_1d, num_volume_pts_1d))"
   ]
  },
  {
   "cell_type": "markdown",
   "metadata": {},
   "source": [
    "Use `np.where` (see [documentation](https://numpy.org/doc/stable/reference/generated/numpy.where.html)) to select points from `meshgrid_samples` that are actually in the sphere.  You can calculate the radial distance of each point with,\n",
    "```\n",
    "radial_distance_meshgrid_points = np.linalg.norm(np.array([x_volume_samples, \n",
    "                                                            y_volume_samples, \n",
    "                                                            z_volume_samples]), axis=0)\n",
    "```\n",
    "and the points in the sphere correspond to points *where* the `radial_distance_meshgrid_points <= sphere_radius`.  Let us use that criterion to define `sphere_mask`,\n",
    "```\n",
    "mask_criterion = radial_distance_meshgrid_points <= sphere_radius\n",
    "sphere_mask = np.where(radial_distance_meshgrid_points <= sphere_radius)\n",
    "```"
   ]
  },
  {
   "cell_type": "markdown",
   "metadata": {},
   "source": [
    "Now, create the mask of points that identify sphere locations in the volume you just sampled (2/11 points)"
   ]
  },
  {
   "cell_type": "code",
   "execution_count": null,
   "metadata": {
    "deletable": false,
    "nbgrader": {
     "cell_type": "code",
     "checksum": "23b9e7da461f926d265c28a2a781037b",
     "grade": false,
     "grade_id": "cell-41172da9e649afda",
     "locked": false,
     "schema_version": 3,
     "solution": true,
     "task": false
    }
   },
   "outputs": [],
   "source": [
    "# Create the radial_distance_meshgrid_points array here, and the sphere_mask here\n",
    "# YOUR CODE HERE\n",
    "raise NotImplementedError()"
   ]
  },
  {
   "cell_type": "code",
   "execution_count": null,
   "metadata": {
    "deletable": false,
    "editable": false,
    "nbgrader": {
     "cell_type": "code",
     "checksum": "3b678ca174ac3ec5ef4f70d48efa1973",
     "grade": true,
     "grade_id": "Tutorial_sphere_mask",
     "locked": true,
     "points": 2,
     "schema_version": 3,
     "solution": false,
     "task": false
    }
   },
   "outputs": [],
   "source": [
    "\"\"\"Execute to check you are on the right track\"\"\"\n",
    "assert((radial_distance_meshgrid_points == np.linalg.norm(np.array([x_volume_samples, \n",
    "                                                            y_volume_samples, \n",
    "                                                            z_volume_samples]), axis=0)).all())"
   ]
  },
  {
   "cell_type": "markdown",
   "metadata": {},
   "source": [
    "Thought questions (3/11 points)\n",
    "- What is the shape of `radial_distance_meshgrid_points` and the shape of `mask_criterion`?  How do their shapes and sizes compare with x_volume_samples (or y, or z)?\n",
    "- What does `mask_criterion` indicate?  *Hint*: Print out to check, but delete before submission because the output will be large.\n",
    "- What does the `sphere_mask` indicate? *Hint*: Google \"how does numpy where work\"."
   ]
  },
  {
   "cell_type": "markdown",
   "metadata": {
    "deletable": false,
    "nbgrader": {
     "cell_type": "markdown",
     "checksum": "08b72b43a5a8d0b87381540e9851153f",
     "grade": true,
     "grade_id": "Tutorial_mask_questions",
     "locked": false,
     "points": 3,
     "schema_version": 3,
     "solution": true,
     "task": false
    }
   },
   "source": [
    "YOUR ANSWER HERE"
   ]
  },
  {
   "cell_type": "markdown",
   "metadata": {},
   "source": [
    "Now, we define `x_sphere_samples`, `y_sphere_samples`, and `z_sphere_samples`, *where* we have selected the relevant points from `x_volume_samples`, `y_volume_samples`, and `z_volume_samples`  (2/11 points)"
   ]
  },
  {
   "cell_type": "code",
   "execution_count": null,
   "metadata": {
    "deletable": false,
    "nbgrader": {
     "cell_type": "code",
     "checksum": "63d780d3b56f2d10e12cc01ff0925789",
     "grade": false,
     "grade_id": "Tutorial_using_mask",
     "locked": false,
     "schema_version": 3,
     "solution": true,
     "task": false
    }
   },
   "outputs": [],
   "source": [
    "# Define the x_sphere_samples, y_sphere_samples, and z_sphere_samples here\n",
    "# YOUR CODE HERE\n",
    "raise NotImplementedError()"
   ]
  },
  {
   "cell_type": "code",
   "execution_count": null,
   "metadata": {},
   "outputs": [],
   "source": [
    "# Now, we create points_in_sphere, check that this is a 3,m shape array\n",
    "points_in_sphere = np.array([x_sphere_samples, y_sphere_samples, z_sphere_samples])\n",
    "print(points_in_sphere.shape)"
   ]
  },
  {
   "cell_type": "code",
   "execution_count": null,
   "metadata": {
    "deletable": false,
    "editable": false,
    "nbgrader": {
     "cell_type": "code",
     "checksum": "14e4a7302d5d195713d63311a4360d26",
     "grade": true,
     "grade_id": "cell-862c133b01d66f6e",
     "locked": true,
     "points": 2,
     "schema_version": 3,
     "solution": false,
     "task": false
    }
   },
   "outputs": [],
   "source": [
    "\"\"\"Execute to make sure you are on the right track\"\"\"\n",
    "assert((np.linalg.norm(points_in_sphere, axis=0)<=sphere_radius).all())"
   ]
  },
  {
   "cell_type": "markdown",
   "metadata": {},
   "source": [
    "Now, define `dq_sphere`, given that the total charge is Q=1C, and you can also figure out the number of points sampling in the sphere. *Hint:* Use its shape. (2/11 points)"
   ]
  },
  {
   "cell_type": "code",
   "execution_count": null,
   "metadata": {
    "deletable": false,
    "nbgrader": {
     "cell_type": "code",
     "checksum": "69388e860d41499345e292e77f922810",
     "grade": false,
     "grade_id": "cell-57752b59e4bb5398",
     "locked": false,
     "schema_version": 3,
     "solution": true,
     "task": false
    }
   },
   "outputs": [],
   "source": [
    "# Define dq_sphere here\n",
    "# YOUR CODE HERE\n",
    "raise NotImplementedError()"
   ]
  },
  {
   "cell_type": "code",
   "execution_count": null,
   "metadata": {
    "deletable": false,
    "editable": false,
    "nbgrader": {
     "cell_type": "code",
     "checksum": "e6658f9cebbb317db82c5af97a0319d9",
     "grade": true,
     "grade_id": "Tutorial_dq_sphere",
     "locked": true,
     "points": 2,
     "schema_version": 3,
     "solution": false,
     "task": false
    }
   },
   "outputs": [],
   "source": [
    "\"\"\"Execute to make sure you are on the right track\"\"\"\n",
    "assert(dq_sphere == 1./points_in_sphere.shape[1])"
   ]
  },
  {
   "cell_type": "markdown",
   "metadata": {},
   "source": [
    "Now, you can calculate the electric field!  Define `efield_from_sphere` using the function `calculate_efield_from_charges`, your `points_in_sphere`, `points_in_meshgrid`, and the `dq_sphere` you calculated. (1/11 points)"
   ]
  },
  {
   "cell_type": "code",
   "execution_count": null,
   "metadata": {
    "deletable": false,
    "nbgrader": {
     "cell_type": "code",
     "checksum": "ef9fa12db0619bdb52e7f24de28bd835",
     "grade": false,
     "grade_id": "cell-a06b01c863292874",
     "locked": false,
     "schema_version": 3,
     "solution": true,
     "task": false
    }
   },
   "outputs": [],
   "source": [
    "# Define efield_sphere here\n",
    "print(points_in_sphere[:,0])\n",
    "print(points_in_sphere[:,int(1*points_in_sphere.shape[1]/8):int(2*points_in_sphere.shape[1]/8)])\n",
    "# YOUR CODE HERE\n",
    "raise NotImplementedError()"
   ]
  },
  {
   "cell_type": "code",
   "execution_count": null,
   "metadata": {
    "deletable": false,
    "editable": false,
    "nbgrader": {
     "cell_type": "code",
     "checksum": "47efefa714b54b63de3f4748195c93f0",
     "grade": true,
     "grade_id": "Tutoiral_calculate_efield_from_sphere",
     "locked": true,
     "points": 1,
     "schema_version": 3,
     "solution": false,
     "task": false
    }
   },
   "outputs": [],
   "source": [
    "\"\"\"Execute to check you are on the right track\"\"\"\n",
    "assert(efield_from_sphere.shape == (3, numpoints_1d, numpoints_1d, numpoints_1d))"
   ]
  },
  {
   "cell_type": "markdown",
   "metadata": {},
   "source": [
    "## Plotting excursion -- slicing along a plane or an axis\n",
    "Below, we illustrate slicing a plane and an axis. Below is a quick version of how we've used quiver, projecting down the z-axis."
   ]
  },
  {
   "cell_type": "code",
   "execution_count": null,
   "metadata": {},
   "outputs": [],
   "source": [
    "plt.quiver(points_in_meshgrid[0].ravel(),\n",
    "        points_in_meshgrid[1].ravel(),\n",
    "          efield_from_sphere[0].ravel(),\n",
    "          efield_from_sphere[1].ravel())"
   ]
  },
  {
   "cell_type": "markdown",
   "metadata": {},
   "source": [
    "Below, we slice along the points closest to the xy plane"
   ]
  },
  {
   "cell_type": "code",
   "execution_count": null,
   "metadata": {},
   "outputs": [],
   "source": [
    "z_index_xy_plane = int(numpoints_1d/2) # Pick the middle z-index corresponding to xy-plane\n",
    "\n",
    "fig, ax1 = plt.subplots(1, figsize=(8,8))\n",
    "ax1.quiver(points_in_meshgrid[0,:,:,z_index_xy_plane], \n",
    "           points_in_meshgrid[1,:,:,z_index_xy_plane],  \n",
    "           efield_from_sphere[0,:,:,z_index_xy_plane], \n",
    "           efield_from_sphere[1,:,:,z_index_xy_plane])\n",
    "\n",
    "# Illustrate sampled sphere\n",
    "ax1.scatter(points_in_sphere[0], points_in_sphere[1])\n",
    "\n",
    "# Draw the actual sphere - just to illustrate in solutions\n",
    "sphere = patches.Circle((0,0),radius=sphere_radius, edgecolor='k', facecolor='b', alpha=0.2)\n",
    "ax1.add_patch(sphere) \n",
    "ax1.set_aspect('equal')    # forces axes to have same scale\n",
    "ax1.set_xlabel('x (meters)')\n",
    "ax1.set_ylabel('y (meters)')"
   ]
  },
  {
   "cell_type": "markdown",
   "metadata": {},
   "source": [
    "Here, we show an alternative visualization, with the `streamplot` method.  **Note**: Streamplot expects 'xy' indexing, so you'll have to switch the order of the efield."
   ]
  },
  {
   "cell_type": "code",
   "execution_count": null,
   "metadata": {},
   "outputs": [],
   "source": [
    "fig, ax1 = plt.subplots(1,1, figsize=(7,7))\n",
    "efield_magnitude = np.linalg.norm(efield_from_sphere, axis=0)\n",
    "colors = 2 * np.log(efield_magnitude)    # colors the arrows based on field strength\n",
    "\n",
    "ax1.streamplot(sample_points, sample_points,  \n",
    "               efield_from_sphere[1,:,:,z_index_xy_plane], efield_from_sphere[0,:,:,z_index_xy_plane], \n",
    "              color=colors[:,:,z_index_xy_plane], linewidth=1, cmap=plt.cm.inferno,\n",
    "              density=2, arrowstyle='->', arrowsize=1.5)\n",
    "ax1.set_aspect('equal')\n",
    "\n",
    "# Draw the sphere:\n",
    "ball = patches.Circle((0,0),radius=1, edgecolor='k', facecolor='b', alpha=0.2)\n",
    "ax1.add_patch(ball)"
   ]
  },
  {
   "cell_type": "markdown",
   "metadata": {},
   "source": [
    "For fun, we build a line of charge across the diagonal on the xy-plane.  This should be reminiscent of the previous homework."
   ]
  },
  {
   "cell_type": "code",
   "execution_count": null,
   "metadata": {},
   "outputs": [],
   "source": [
    "efield_point_function = calculate_efield_from_charges(np.array([[.5,.5,0],[1,1,0],[0,0,0],[-1,-1,0],[-.5,-.5,0]]).T, points_in_meshgrid, 1)\n",
    "plt.quiver(points_in_meshgrid[0,:,:,z_index_xy_plane], \n",
    "           points_in_meshgrid[1,:,:,z_index_xy_plane],  \n",
    "           efield_point_function[0,:,:,z_index_xy_plane], \n",
    "           efield_point_function[1,:,:,z_index_xy_plane])"
   ]
  },
  {
   "cell_type": "markdown",
   "metadata": {},
   "source": [
    "# Phys 260 Python Lab 2: More Python: Homework (10 points total)\n",
    "\n",
    "\n",
    "Your homework assignment begins here.  Note, the homework below relies on code built during the tutorial (above)\n",
    "\n",
    "## Homework summary\n",
    "- Key Tasks: Define charge points and dq for a cube\n",
    "- Visualize the field on two planes"
   ]
  },
  {
   "cell_type": "markdown",
   "metadata": {},
   "source": [
    "## Discretize a cube charge distribution (5 points)\n",
    "Go through the *same* steps as what we did for the spherical distribution to discretize the charge distribution.  Note, however, that you will *not* have to use the `np.where` statement if you specify points already in the cube as the `points_in_cube`.  Let us do this for an origin centered cube, total charge $Q=1$C, whose volume lies within $-1.25\\leq x,y,z\\leq 1.25$.\n",
    "\n",
    "- First, define your sample points, `cube_sample_points` to span only the extent of the cube, and let's sample 10 points across again.  Use `cube_sample_points` as the `np.meshgrid` arguments.  Use the output of `np.meshgrid`, `x_cube_points`, `y_cube_points`, and `z_cube_points`. \n",
    "- Ravel each of the outputs so you can define `points_in_cube` that is of shape (3,n).  Note, `points_in_cube` should be a single array comprised of the outputs of `np.meshgrid`."
   ]
  },
  {
   "cell_type": "markdown",
   "metadata": {},
   "source": [
    "First, define the x, y, z points of the cube (2/5 points)"
   ]
  },
  {
   "cell_type": "code",
   "execution_count": null,
   "metadata": {
    "deletable": false,
    "nbgrader": {
     "cell_type": "code",
     "checksum": "9a966b9a0887a9457bb74fa502ad9fb8",
     "grade": false,
     "grade_id": "cell-333db21a14e7b0db",
     "locked": false,
     "schema_version": 3,
     "solution": true,
     "task": false
    }
   },
   "outputs": [],
   "source": [
    "# Define x_cube_points, y_cube_points, z_cube_points here \n",
    "num_cube_points_1d = 10\n",
    "cube_width = 2.5\n",
    "cube_sample_points = np.linspace(-cube_width/2, cube_width/2,num=num_cube_points_1d)\n",
    "# YOUR CODE HERE\n",
    "raise NotImplementedError()"
   ]
  },
  {
   "cell_type": "code",
   "execution_count": null,
   "metadata": {
    "deletable": false,
    "editable": false,
    "nbgrader": {
     "cell_type": "code",
     "checksum": "e02f803cb26a3b9839ceeec286c78cd9",
     "grade": true,
     "grade_id": "HW_define_cube_points",
     "locked": true,
     "points": 2,
     "schema_version": 3,
     "solution": false,
     "task": false
    }
   },
   "outputs": [],
   "source": [
    "\"\"\"Execute to make sure you are on the right track\"\"\"\n",
    "assert(x_cube_points.shape == (num_cube_points_1d, num_cube_points_1d, num_cube_points_1d))"
   ]
  },
  {
   "cell_type": "markdown",
   "metadata": {},
   "source": [
    "Now, define `points_in_cube` such that you can use the function `calculate_efield_from_charges`.  You may want to first ravel each of the meshgrid outputs, then put them into an array. (2/5 points)"
   ]
  },
  {
   "cell_type": "code",
   "execution_count": null,
   "metadata": {
    "deletable": false,
    "nbgrader": {
     "cell_type": "code",
     "checksum": "6dfdb9fc9d263220f2dd314ba334f8e6",
     "grade": false,
     "grade_id": "cell-154d7b8d0dd33c9e",
     "locked": false,
     "schema_version": 3,
     "solution": true,
     "task": false
    }
   },
   "outputs": [],
   "source": [
    "# Define points_in_cube such that it is shape 3,n\n",
    "# YOUR CODE HERE\n",
    "raise NotImplementedError()"
   ]
  },
  {
   "cell_type": "code",
   "execution_count": null,
   "metadata": {
    "deletable": false,
    "editable": false,
    "nbgrader": {
     "cell_type": "code",
     "checksum": "0068e3173e213f32f95133d0a60cab8f",
     "grade": true,
     "grade_id": "HW_points_in_cube",
     "locked": true,
     "points": 2,
     "schema_version": 3,
     "solution": false,
     "task": false
    }
   },
   "outputs": [],
   "source": [
    "\"\"\"Execute to make sure you are on the right track\"\"\"\n",
    "assert(points_in_cube.shape == (3, num_cube_points_1d**3))"
   ]
  },
  {
   "cell_type": "markdown",
   "metadata": {},
   "source": [
    "Define `dq_cube` here in terms of the shape of `points_in_cube`. (1/5 points)"
   ]
  },
  {
   "cell_type": "code",
   "execution_count": null,
   "metadata": {
    "deletable": false,
    "nbgrader": {
     "cell_type": "code",
     "checksum": "617fa44c94e4b160f8411055e44570b3",
     "grade": false,
     "grade_id": "cell-ea1eb36b8133b69f",
     "locked": false,
     "schema_version": 3,
     "solution": true,
     "task": false
    }
   },
   "outputs": [],
   "source": [
    "# Define dq_cube here\n",
    "Q = 1.\n",
    "# YOUR CODE HERE\n",
    "raise NotImplementedError()"
   ]
  },
  {
   "cell_type": "code",
   "execution_count": null,
   "metadata": {
    "deletable": false,
    "editable": false,
    "nbgrader": {
     "cell_type": "code",
     "checksum": "8cf5e91f4810b408ed1208e5a71d63a6",
     "grade": true,
     "grade_id": "HW_dq_cube",
     "locked": true,
     "points": 1,
     "schema_version": 3,
     "solution": false,
     "task": false
    }
   },
   "outputs": [],
   "source": [
    "\"\"\"Execute to make sure you are on the right track\"\"\"\n",
    "assert(type(dq_cube) == float)"
   ]
  },
  {
   "cell_type": "markdown",
   "metadata": {},
   "source": [
    "## Calculate the efield due to the cube (1 point)\n",
    "\n",
    "Use the function we defined in the tutorial to calculate the efield, `efield_cube_insulator`.  Note, you'll need `points_in_cube` and you `dq_cube` as new arguments (you'll still need `points_in_meshgrid`)."
   ]
  },
  {
   "cell_type": "code",
   "execution_count": null,
   "metadata": {
    "deletable": false,
    "nbgrader": {
     "cell_type": "code",
     "checksum": "5cb15060cf7ba542525b7d59023e5253",
     "grade": false,
     "grade_id": "cell-0ce8393e4df1394d",
     "locked": false,
     "schema_version": 3,
     "solution": true,
     "task": false
    }
   },
   "outputs": [],
   "source": [
    "# Define efield_cube_insulator here\n",
    "# YOUR CODE HERE\n",
    "raise NotImplementedError()"
   ]
  },
  {
   "cell_type": "code",
   "execution_count": null,
   "metadata": {
    "deletable": false,
    "editable": false,
    "nbgrader": {
     "cell_type": "code",
     "checksum": "c45f835c1fbb5c8e39e3128095382ab8",
     "grade": true,
     "grade_id": "HW_calculate_cube_charge",
     "locked": true,
     "points": 1,
     "schema_version": 3,
     "solution": false,
     "task": false
    }
   },
   "outputs": [],
   "source": [
    "\"\"\"Execute to check that you're on the right track\"\"\"\n",
    "assert(efield_cube_insulator.shape == (3, num_cube_points_1d, num_cube_points_1d, num_cube_points_1d))"
   ]
  },
  {
   "cell_type": "markdown",
   "metadata": {},
   "source": [
    "## Visualize the efield due to a cube charge (2 points)\n",
    "\n",
    "Use the `quiver` method to visualize the efield.  Let us do this: \n",
    "- For the slice of 2d space that is closest to the xy-plane (e.g. z=0).\n",
    "- For the slice of 2d space that is parallel to the xy-plane, but on the top edge of our sampled meshgrid points (e.g. $z=3$m)"
   ]
  },
  {
   "cell_type": "code",
   "execution_count": null,
   "metadata": {
    "deletable": false,
    "nbgrader": {
     "cell_type": "code",
     "checksum": "f64f8557ed95d95ac0bc1665696e2d2c",
     "grade": true,
     "grade_id": "HW_plot_quiver_z_0",
     "locked": false,
     "points": 1,
     "schema_version": 3,
     "solution": true,
     "task": false
    }
   },
   "outputs": [],
   "source": [
    "#  Use the quiver plot to visualize the efield on the xy plane\n",
    "fig, ax = plt.subplots(1,1,figsize=(7,7))\n",
    "\n",
    "# YOUR CODE HERE\n",
    "raise NotImplementedError()\n",
    "\n",
    "# Here, we overplot the cube itself\n",
    "square = patches.Rectangle((-cube_width/2,-cube_width/2),cube_width,cube_width,linewidth=1,edgecolor='k',lw=2, facecolor='b', alpha=0.2)\n",
    "ax.add_patch(square)\n",
    "ax.set_aspect('equal')\n",
    "ax.set_xlabel('x (meters)')\n",
    "ax.set_ylabel('y (meters)')\n",
    "\n",
    "# Here, we overplot the points sampling the cube\n",
    "ax.scatter(points_in_cube[0], points_in_cube[1], alpha=.2, color='r')"
   ]
  },
  {
   "cell_type": "code",
   "execution_count": null,
   "metadata": {
    "deletable": false,
    "nbgrader": {
     "cell_type": "code",
     "checksum": "9bf3357e000573e5b87eaeafeb1fa01c",
     "grade": true,
     "grade_id": "HW_plot_quiver_z_3",
     "locked": false,
     "points": 1,
     "schema_version": 3,
     "solution": true,
     "task": false
    }
   },
   "outputs": [],
   "source": [
    "#  Use the quiver plot to visualize the efield on z=-3m\n",
    "#  Use the quiver plot to visualize the efield on the xy plane\n",
    "fig, ax = plt.subplots(1,1,figsize=(7,7))\n",
    "\n",
    "# YOUR CODE HERE\n",
    "raise NotImplementedError()\n",
    "\n",
    "# Here, we overplot the cube itself\n",
    "square = patches.Rectangle((-cube_width/2,-cube_width/2),cube_width,cube_width,linewidth=1,edgecolor='k',lw=2, facecolor='b', alpha=0.2)\n",
    "ax.add_patch(square)\n",
    "ax.set_aspect('equal')\n",
    "ax.set_xlabel('x (meters)')\n",
    "ax.set_ylabel('y (meters)')\n",
    "\n",
    "# Here, we overplot the points sampling the cube\n",
    "ax.scatter(points_in_cube[0], points_in_cube[1], alpha=.2, color='r')"
   ]
  },
  {
   "cell_type": "markdown",
   "metadata": {},
   "source": [
    "## Description question (1 points): \n",
    "\n",
    "What is the qualitative difference in the vector field between both planes?  (How do they differ, and why?)"
   ]
  },
  {
   "cell_type": "markdown",
   "metadata": {
    "deletable": false,
    "nbgrader": {
     "cell_type": "markdown",
     "checksum": "4fb685b3853655359d68d4e99ea94ac4",
     "grade": true,
     "grade_id": "HW_cube_field_comparison",
     "locked": false,
     "points": 1,
     "schema_version": 3,
     "solution": true,
     "task": false
    }
   },
   "source": [
    "YOUR ANSWER HERE"
   ]
  },
  {
   "cell_type": "markdown",
   "metadata": {},
   "source": [
    "## Think about the cube setup (1 points)\n",
    "\n",
    "**Open question**: Can we do this with Gauss' law?  Why or why not?"
   ]
  },
  {
   "cell_type": "markdown",
   "metadata": {
    "deletable": false,
    "nbgrader": {
     "cell_type": "markdown",
     "checksum": "ba8c3520f9f935f7f99a1babefe235df",
     "grade": true,
     "grade_id": "HW_cube_field_Gauss_Law_question",
     "locked": false,
     "points": 1,
     "schema_version": 3,
     "solution": true,
     "task": false
    }
   },
   "source": [
    "YOUR ANSWER HERE"
   ]
  }
 ],
 "metadata": {
  "kernelspec": {
   "display_name": "Python 3",
   "language": "python",
   "name": "python3"
  },
  "language_info": {
   "codemirror_mode": {
    "name": "ipython",
    "version": 3
   },
   "file_extension": ".py",
   "mimetype": "text/x-python",
   "name": "python",
   "nbconvert_exporter": "python",
   "pygments_lexer": "ipython3",
   "version": "3.8.3"
  }
 },
 "nbformat": 4,
 "nbformat_minor": 2
}

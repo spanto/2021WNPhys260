{
 "cells": [
  {
   "cell_type": "markdown",
   "metadata": {},
   "source": [
    "# Phys 260: Python assignment header\n",
    "\n",
    "### (1) Fill out the cell below.  \n",
    "The cell below is a **code cell**.  Fill out your University of Michigan uniqname, then your name, and collaborators in the cell below **inside the quotes**.  \n",
    "\n",
    "**Do not delete the quotes.**  We will use this information to organize your assignments.  To edit and execute cells, double click inside the cell, type, and press \\<shift\\>+\\<enter\\> to execute."
   ]
  },
  {
   "cell_type": "code",
   "execution_count": null,
   "metadata": {},
   "outputs": [],
   "source": [
    "UNIQNAME = \"\"\n",
    "NAME = \"\"\n",
    "COLLABORATORS = \"\""
   ]
  },
  {
   "cell_type": "markdown",
   "metadata": {},
   "source": [
    "### (2) Check your python version.  \n",
    "**Execute the cell below** (double click in the cell and press \\<shift\\>+\\<enter\\>, or click in the cell and press the Run button) to check that you are using a version of python that is compatible with the tool we are using to grade your assignments.  If your ```IPython``` version is too old, we will *not* be able to grade your assignments."
   ]
  },
  {
   "cell_type": "code",
   "execution_count": null,
   "metadata": {},
   "outputs": [],
   "source": [
    "import IPython\n",
    "assert IPython.version_info[0] >= 3, \"Your version of IPython is too old, please update it.\""
   ]
  },
  {
   "cell_type": "markdown",
   "metadata": {},
   "source": [
    "### (3) Do your best to answer all questions in the assignment.  \n",
    "To answer questions, **replace** anything that says either\n",
    "- \"YOUR ANSWER HERE\" \n",
    "- \n",
    "```\n",
    "YOUR CODE HERE\n",
    "raise NotImplementedError\n",
    "``` \n",
    "\n",
    "with your answer/code.  Cells with either of the two bullet points above are cells of the notebook that will be graded.\n",
    "\n",
    "**To edit markdown** cells (e.g. this one),  *double click in the cell to type*.  Press \\<shift\\>+\\<enter\\> to execute the cell.  Try editing the text below to replace the with your information (e.g. Camille Avestruz, cavestru):  \n",
    "\n",
    "[first name] [last name], uniqname\n"
   ]
  },
  {
   "cell_type": "markdown",
   "metadata": {},
   "source": [
    "### (4) Make sure your notebook runs sequentially.\n",
    "After you complete this assignment, make sure everything runs as expected. First, **restart the kernel** (in the menubar, select Kernel$\\rightarrow$Restart) and then **run all cells** (in the menubar, select Cell$\\rightarrow$Run All)."
   ]
  },
  {
   "cell_type": "code",
   "execution_count": null,
   "metadata": {},
   "outputs": [],
   "source": []
  },
  {
   "cell_type": "markdown",
   "metadata": {},
   "source": [
    "# Phys 260 Python Lab 3: Numpy tools in review (10 points)"
   ]
  },
  {
   "cell_type": "markdown",
   "metadata": {},
   "source": [
    "# Introduction\n",
    "\n",
    "Each Python lab will start with a pre-flight exercise that walks through building some of the set up and tools ($\\sim$ 30 min), followed by an in-class tutorial with time for Q+A (50 min) so you can walk through steps that will be necessary for the homework assignment you will submit ($\\sim$ 3 hrs).  Each lab will contain starter code, similar to what you see below.  Please fill in the code to complete the pre-flight assignment in preparation for the in-class tutorial.  \n",
    "\n",
    "Preflight ($\\sim$30-60 min, 10 points) **Typically due: Thursdays 3pm ET**\n",
    "\n",
    "*Preflight typically graded by Wednesday 5p EST -- see your feedback in html (launch a browser)*\n",
    "\n",
    "In-class tutorial and Q+A ($\\sim$ 50 min, 10 points) **Typically occurs: Fridays Noon**\n",
    "\n",
    "Homework assignment ($\\sim$ 3-5 hrs, 30 points) **Typically due: Tuesday Noon**\n",
    "\n",
    "*Homework typically graded by Thursday 5p -- see your feedback in html (launch a browser)*\n",
    "\n",
    "When we grade your homework, we will not run your code. Once submitted, your notebook should have the outputs for all of your results.  Please do not include long outputs from debugging, beyond a few print statements and the requested visualizations (i.e. plots).\n",
    "\n",
    "**Grading:** When we grade your notebook, we will convert the .ipynb file to an HTML file.  We will be using [nbgrader](https://nbgrader.readthedocs.io/en/stable/) to grade your notebooks.  "
   ]
  },
  {
   "cell_type": "markdown",
   "metadata": {},
   "source": [
    "## Preflight summary\n",
    "- Brief review of actions along axes\n",
    "- Useful numpy tools for derivatives\n",
    "- Effects of discretization: Example with Gauss' Law"
   ]
  },
  {
   "cell_type": "code",
   "execution_count": null,
   "metadata": {},
   "outputs": [],
   "source": [
    "# Import relevant modules\n",
    "import numpy as np\n",
    "from matplotlib import pyplot as plt"
   ]
  },
  {
   "cell_type": "markdown",
   "metadata": {},
   "source": [
    "## Brief review of actions along axes (5 points)\n",
    "\n",
    "Below, we review the effects of doing things \"along axes\"\n",
    "- With `np.linalg.norm`, \n",
    "- with `np.sum`,\n",
    "- with `np.apply_along_axis`.\n",
    "\n",
    "First, we use `np.reshape` to create a (4,5) array and examine how this function works."
   ]
  },
  {
   "cell_type": "code",
   "execution_count": null,
   "metadata": {},
   "outputs": [],
   "source": [
    "test_array = np.arange(20)\n",
    "reshaped_array = np.reshape(test_array, (4,5))"
   ]
  },
  {
   "cell_type": "markdown",
   "metadata": {},
   "source": [
    "**Practice inspection** (1 point):\n",
    "Inspect both `test_array` and `reshaped_array` (you can print both, and/or print both sizes in the cell above).  What does `np.reshape` do? "
   ]
  },
  {
   "cell_type": "markdown",
   "metadata": {
    "deletable": false,
    "nbgrader": {
     "cell_type": "markdown",
     "checksum": "97e7b6589d028910659d60469f036f42",
     "grade": true,
     "grade_id": "PF_reshape_question",
     "locked": false,
     "points": 1,
     "schema_version": 3,
     "solution": true,
     "task": false
    }
   },
   "source": [
    "YOUR ANSWER HERE"
   ]
  },
  {
   "cell_type": "markdown",
   "metadata": {},
   "source": [
    "**Norm of different axes** (1 point): \n",
    "\n",
    "- Use `np.reshape` with `test_array` to create a `(2,10)` array called `reshaped_2_10`.  Assume these are (x,y) coordinates.  Use `np.linalg.norm` to find the 2-d radius of each of these coordinates, called `radii_2_10`.\n",
    "\n",
    "- Use Use `np.reshape` with `test_array` to create a `(10,2)` array called `reshaped_10_2`.  Assume these are (x,y) coordinates.  Use `np.linalg.norm` to find the 2-d radius of each of these coordinates, called `radii_10_2`."
   ]
  },
  {
   "cell_type": "code",
   "execution_count": null,
   "metadata": {
    "deletable": false,
    "nbgrader": {
     "cell_type": "code",
     "checksum": "9d01d21974e4c87c444ffaac8eb118cf",
     "grade": false,
     "grade_id": "cell-5d8ceee85d3fe403",
     "locked": false,
     "schema_version": 3,
     "solution": true,
     "task": false
    }
   },
   "outputs": [],
   "source": [
    "# Define reshaped_2_10, radii_2_10, reshaped_10_2, radii_10_2 here\n",
    "# YOUR CODE HERE\n",
    "raise NotImplementedError()"
   ]
  },
  {
   "cell_type": "code",
   "execution_count": null,
   "metadata": {
    "deletable": false,
    "editable": false,
    "nbgrader": {
     "cell_type": "code",
     "checksum": "b4365da34fdf4ebc379d8e565c870630",
     "grade": true,
     "grade_id": "PF_reshape_radii",
     "locked": true,
     "points": 1,
     "schema_version": 3,
     "solution": false,
     "task": false
    }
   },
   "outputs": [],
   "source": [
    "\"\"\"Execute to check you're on the right track\"\"\"\n",
    "assert(radii_10_2.shape == radii_2_10.shape)\n",
    "assert((reshaped_2_10 == np.reshape(test_array, (2,10))).all())"
   ]
  },
  {
   "cell_type": "markdown",
   "metadata": {},
   "source": [
    "**Question for inspection** (1 point): Are `radii_10_2` and `radii_2_10` the same as one another?  How would you check? (*Hint*: some of the assertion tests show how to do this.)  Why or why are they not the same."
   ]
  },
  {
   "cell_type": "markdown",
   "metadata": {
    "deletable": false,
    "nbgrader": {
     "cell_type": "markdown",
     "checksum": "0629ef663aa23a1305425cc687cc2631",
     "grade": true,
     "grade_id": "PF_radii_comparison",
     "locked": false,
     "points": 1,
     "schema_version": 3,
     "solution": true,
     "task": false
    }
   },
   "source": [
    "YOUR ANSWER HERE"
   ]
  },
  {
   "cell_type": "markdown",
   "metadata": {},
   "source": [
    "**Quick exercise** (1 point): Use the appropriately reshaped array from the previous exercise (hint: one of the `reshaped_?_?` arrays) and the function `np.sum` with the appropriate key word argument to return a (2,) array, `sum_even_odd`, where one element corresponds to the sum of all even integers less than 20, and the other element corresponds to all odd integers less than 20."
   ]
  },
  {
   "cell_type": "code",
   "execution_count": null,
   "metadata": {
    "deletable": false,
    "nbgrader": {
     "cell_type": "code",
     "checksum": "f8a2a67c735518c4e74cb6629f81b8d2",
     "grade": false,
     "grade_id": "cell-585b25eff6f56cef",
     "locked": false,
     "schema_version": 3,
     "solution": true,
     "task": false
    }
   },
   "outputs": [],
   "source": [
    "# Define sum_even_odd here\n",
    "# YOUR CODE HERE\n",
    "raise NotImplementedError()"
   ]
  },
  {
   "cell_type": "code",
   "execution_count": null,
   "metadata": {
    "deletable": false,
    "editable": false,
    "nbgrader": {
     "cell_type": "code",
     "checksum": "7fcf0f66f7ae4619ca62918ecfba802d",
     "grade": true,
     "grade_id": "PF_sum_even_odd",
     "locked": true,
     "points": 1,
     "schema_version": 3,
     "solution": false,
     "task": false
    }
   },
   "outputs": [],
   "source": [
    "\"\"\"Execute to check you're on the right track\"\"\"\n",
    "assert(sum_even_odd.shape == (2,))\n",
    "assert(sum_even_odd[0] == np.sum(np.arange(0,20,2)))\n",
    "assert(sum_even_odd[1] == np.sum(np.arange(1,21,2)))"
   ]
  },
  {
   "cell_type": "markdown",
   "metadata": {},
   "source": [
    "**Quick exercise** (1 point):  Use `np.apply_along_axis` to calculate the same array as `sum_even_odd`, now called `sum_even_odd_from_axis`.  Note, here, you will also need to use `np.sum`, but will not use the key word `axis=`."
   ]
  },
  {
   "cell_type": "code",
   "execution_count": null,
   "metadata": {
    "deletable": false,
    "nbgrader": {
     "cell_type": "code",
     "checksum": "2894c8478370edb7684e8b46aab9f20c",
     "grade": false,
     "grade_id": "cell-65f68f1f9fdff8cf",
     "locked": false,
     "schema_version": 3,
     "solution": true,
     "task": false
    }
   },
   "outputs": [],
   "source": [
    "# Define sum_even_odd_from_axis here\n",
    "# YOUR CODE HERE\n",
    "raise NotImplementedError()"
   ]
  },
  {
   "cell_type": "code",
   "execution_count": null,
   "metadata": {
    "deletable": false,
    "editable": false,
    "nbgrader": {
     "cell_type": "code",
     "checksum": "bf3eec6e2d061f5ec3ec2255aacf608d",
     "grade": true,
     "grade_id": "PF_sum_even_odd_from_axis",
     "locked": true,
     "points": 1,
     "schema_version": 3,
     "solution": false,
     "task": false
    }
   },
   "outputs": [],
   "source": [
    "\"\"\"Execute to check you're on the right track\"\"\"\n",
    "assert(sum_even_odd_from_axis.shape == (2,))"
   ]
  },
  {
   "cell_type": "markdown",
   "metadata": {},
   "source": [
    "## Useful numpy tools for derivatives\n",
    "\n",
    "In the next tutorial/hw, you will need to numerically evaluate derivatives.   The derivative is defined as $$\\frac {df}{dx} = \\lim_{\\epsilon \\to 0} \\frac {f(x+\\epsilon) - f(x)}{\\epsilon}.$$  To evaulate this numerically we make $\\epsilon$ small but finite.  For example if we are calculating a function on a grid of spacing $\\delta$  we can approximate the derivative as $$\\frac {df}{dx} \\approx \\frac {f(x+\\delta) - f(x)}{\\delta}$$  However, we can do a better job by making the derivative symmetric about the point at which we are calculating it:\n",
    "$$\\frac {df}{dx} \\approx \\frac {f(x+\\delta) - f(x - \\delta)}{2 \\delta}$$ \n",
    "To calculate derivatives elements to the right and left of an element.   Array operations give us an easy way to do this.\n",
    "\n",
    "\n",
    "- `np.roll` applied to taking the numerical derivative (see how it works!)\n",
    "- `np.gradient` pretty much what you were doing before, but with a built-in function"
   ]
  },
  {
   "cell_type": "markdown",
   "metadata": {},
   "source": [
    "Let's say our function is $f=x^2$, and x is our `test_array` so each element corresponds to our spacign where $\\delta=1$.  First, let's find the $f(x+\\delta)$, which we will call `f_right`:"
   ]
  },
  {
   "cell_type": "code",
   "execution_count": null,
   "metadata": {},
   "outputs": [],
   "source": [
    "f = test_array**2\n",
    "f_right = np.roll(f,-1)"
   ]
  },
  {
   "cell_type": "markdown",
   "metadata": {},
   "source": [
    "**Quick exercise** (1 point): Use `np.roll` (examine what happened with `f_right` above, and see the [documentation](https://numpy.org/doc/stable/reference/generated/numpy.roll.html)) to find `f_left` ($f(x-\\delta)$), and calculate `df_dx`."
   ]
  },
  {
   "cell_type": "code",
   "execution_count": null,
   "metadata": {
    "deletable": false,
    "nbgrader": {
     "cell_type": "code",
     "checksum": "1c99a0ad1de5ad58c461c15d42c03240",
     "grade": false,
     "grade_id": "cell-1f7dbfc9406d7de9",
     "locked": false,
     "schema_version": 3,
     "solution": true,
     "task": false
    }
   },
   "outputs": [],
   "source": [
    "# Calculate f_left and df_dx here\n",
    "# YOUR CODE HERE\n",
    "raise NotImplementedError()"
   ]
  },
  {
   "cell_type": "code",
   "execution_count": null,
   "metadata": {
    "deletable": false,
    "editable": false,
    "nbgrader": {
     "cell_type": "code",
     "checksum": "d2900e1afd0ed8783bd9e04da2d97bf3",
     "grade": true,
     "grade_id": "PF_df_dx",
     "locked": true,
     "points": 1,
     "schema_version": 3,
     "solution": false,
     "task": false
    }
   },
   "outputs": [],
   "source": [
    "\"\"\"Execute to check you're on the right track\"\"\"\n",
    "assert((f_left == np.roll(f,1)).all())"
   ]
  },
  {
   "cell_type": "markdown",
   "metadata": {},
   "source": [
    "**Plot to check** (1 point) You'll likely notice that the boundaries (i.e. first and last elements) look funky.  With general simulations of physical systems, one often creates boundary conditions (e.g. periodic boundary conditions) or ignores the results in the boundary.  Plot `df_dx` vs. `test_array`, ignoring the first and last elements.  You'll need to recall array slicing to do that (*Hint*: the first element is indexed by 0, so you'll want to start at index 1, and the last element is indexed by -1).  Does this look like what you expect given the derivative of $x^2$?  Full credit with labeled axes and legible axes (I like to recomment 'xx-large' fontsize for axes labels)."
   ]
  },
  {
   "cell_type": "code",
   "execution_count": null,
   "metadata": {
    "deletable": false,
    "nbgrader": {
     "cell_type": "code",
     "checksum": "66383daec9c009a83f6ae3fd3e3cd3b0",
     "grade": true,
     "grade_id": "PF_plot_derivative",
     "locked": false,
     "points": 1,
     "schema_version": 3,
     "solution": true,
     "task": false
    }
   },
   "outputs": [],
   "source": [
    "# Plot df_dx here\n",
    "# YOUR CODE HERE\n",
    "raise NotImplementedError()"
   ]
  },
  {
   "cell_type": "markdown",
   "metadata": {},
   "source": [
    "**Quick exercise** (1 point):  Now, find `df_dx_gradient` using `np.gradient` (see [documentation](https://numpy.org/doc/stable/reference/generated/numpy.gradient.html))."
   ]
  },
  {
   "cell_type": "code",
   "execution_count": null,
   "metadata": {
    "deletable": false,
    "nbgrader": {
     "cell_type": "code",
     "checksum": "16b1a44e24a1ae298e0ed95319c5475e",
     "grade": false,
     "grade_id": "cell-a8bb560e32057ea2",
     "locked": false,
     "schema_version": 3,
     "solution": true,
     "task": false
    }
   },
   "outputs": [],
   "source": [
    "# Find df_dx_gradient here\n",
    "# YOUR CODE HERE\n",
    "raise NotImplementedError()"
   ]
  },
  {
   "cell_type": "code",
   "execution_count": null,
   "metadata": {
    "deletable": false,
    "editable": false,
    "nbgrader": {
     "cell_type": "code",
     "checksum": "2f100bd34626e9b716c51b1143052372",
     "grade": true,
     "grade_id": "PF_np_gradient",
     "locked": true,
     "points": 1,
     "schema_version": 3,
     "solution": false,
     "task": false
    }
   },
   "outputs": [],
   "source": [
    "\"\"\"Execute to check you're on the right track\"\"\"\n",
    "assert(df_dx_gradient.shape == f.shape)"
   ]
  },
  {
   "cell_type": "markdown",
   "metadata": {},
   "source": [
    "**Quick comparison** (1 point):  You'll notice a key difference between doing the `np.roll` then `np.difference` with doing the `np.gradient`.  Describe the difference in output.  (*Hint:* The difference is because there's an under-the-hood treatment for edges with `np.gradient`.)"
   ]
  },
  {
   "cell_type": "markdown",
   "metadata": {
    "deletable": false,
    "nbgrader": {
     "cell_type": "markdown",
     "checksum": "a87c35dd0ef0a4a6cfdb5b6ed539cb24",
     "grade": true,
     "grade_id": "PF_np_gradient_comparison",
     "locked": false,
     "points": 1,
     "schema_version": 3,
     "solution": true,
     "task": false
    }
   },
   "source": [
    "YOUR ANSWER HERE"
   ]
  },
  {
   "cell_type": "markdown",
   "metadata": {},
   "source": [
    "**Overplot** (1 point):  Overplot the gradient of f using the `kwargs` `edge_order=1` and `edge_order=2` in `np.gradient`.  Label these with \"edge order 1\" and \"edge order 2\", create a legend.  Observe the difference between first order accurate difference and second order accurate difference (you can think of this as similar to taking the Taylor expansion to first or second order... the further out you go, the more accurate the approximation).  First order essentially linearly extrapolates to the left and right of the edges of f to calculate the derivative at the edges, and second order essentially fits a second order (parabola) through three points on the left and on the right to extrapolate and calculate the derivative."
   ]
  },
  {
   "cell_type": "code",
   "execution_count": null,
   "metadata": {
    "deletable": false,
    "nbgrader": {
     "cell_type": "code",
     "checksum": "f1b74bdea94b3291217921210ac21a72",
     "grade": true,
     "grade_id": "PF_plot_Gradient_edge_order",
     "locked": false,
     "points": 1,
     "schema_version": 3,
     "solution": true,
     "task": false
    }
   },
   "outputs": [],
   "source": [
    "# YOUR CODE HERE\n",
    "raise NotImplementedError()"
   ]
  }
 ],
 "metadata": {
  "kernelspec": {
   "display_name": "Python 3",
   "language": "python",
   "name": "python3"
  },
  "language_info": {
   "codemirror_mode": {
    "name": "ipython",
    "version": 3
   },
   "file_extension": ".py",
   "mimetype": "text/x-python",
   "name": "python",
   "nbconvert_exporter": "python",
   "pygments_lexer": "ipython3",
   "version": "3.8.3"
  }
 },
 "nbformat": 4,
 "nbformat_minor": 2
}

{
 "cells": [
  {
   "cell_type": "markdown",
   "metadata": {},
   "source": [
    "# Phys 260: Python assignment header\n",
    "\n",
    "### (1) Fill out the cell below.  \n",
    "The cell below is a **code cell**.  Fill out your University of Michigan uniqname, then your name, and collaborators in the cell below **inside the quotes**.  \n",
    "\n",
    "**Do not delete the quotes.**  We will use this information to organize your assignments.  To edit and execute cells, double click inside the cell, type, and press \\<shift\\>+\\<enter\\> to execute."
   ]
  },
  {
   "cell_type": "code",
   "execution_count": null,
   "metadata": {},
   "outputs": [],
   "source": [
    "UNIQNAME = \"\"\n",
    "NAME = \"\"\n",
    "COLLABORATORS = \"\""
   ]
  },
  {
   "cell_type": "markdown",
   "metadata": {},
   "source": [
    "### (2) Check your python version.  \n",
    "**Execute the cell below** (double click in the cell and press \\<shift\\>+\\<enter\\>, or click in the cell and press the Run button) to check that you are using a version of python that is compatible with the tool we are using to grade your assignments.  If your ```IPython``` version is too old, we will *not* be able to grade your assignments."
   ]
  },
  {
   "cell_type": "code",
   "execution_count": null,
   "metadata": {},
   "outputs": [],
   "source": [
    "import IPython\n",
    "assert IPython.version_info[0] >= 3, \"Your version of IPython is too old, please update it.\""
   ]
  },
  {
   "cell_type": "markdown",
   "metadata": {},
   "source": [
    "### (3) Do your best to answer all questions in the assignment.  \n",
    "To answer questions, **replace** anything that says either\n",
    "- \"YOUR ANSWER HERE\" \n",
    "- \n",
    "```\n",
    "YOUR CODE HERE\n",
    "raise NotImplementedError\n",
    "``` \n",
    "\n",
    "with your answer/code.  Cells with either of the two bullet points above are cells of the notebook that will be graded.\n",
    "\n",
    "**To edit markdown** cells (e.g. this one),  *double click in the cell to type*.  Press \\<shift\\>+\\<enter\\> to execute the cell.  Try editing the text below to replace the with your information (e.g. Camille Avestruz, cavestru):  \n",
    "\n",
    "[first name] [last name], uniqname\n"
   ]
  },
  {
   "cell_type": "markdown",
   "metadata": {},
   "source": [
    "### (4) Make sure your notebook runs sequentially.\n",
    "After you complete this assignment, make sure everything runs as expected. First, **restart the kernel** (in the menubar, select Kernel$\\rightarrow$Restart) and then **run all cells** (in the menubar, select Cell$\\rightarrow$Run All)."
   ]
  },
  {
   "cell_type": "code",
   "execution_count": null,
   "metadata": {},
   "outputs": [],
   "source": []
  },
  {
   "cell_type": "markdown",
   "metadata": {},
   "source": [
    "# Phys 260 Python Lab 2: Numpy tools for vectorized actions"
   ]
  },
  {
   "cell_type": "markdown",
   "metadata": {},
   "source": [
    "# Introduction -- Reminder\n",
    "\n",
    "Each Python lab will start with a pre-flight exercise that walks through building some of the set up and tools ($\\sim$ 30 min), followed by an in-class tutorial with time for Q+A (50 min) so you can walk through steps that will be necessary for the homework assignment you will submit ($\\sim$ 3 hrs).  Each lab will contain starter code, similar to what you see below.  Please fill in the code to complete the pre-flight assignment in preparation for the in-class tutorial.  \n",
    "\n",
    "Preflight ($\\sim$30-60 min, 10 points) **Typically due: Thursdays 3pm EST**\n",
    "\n",
    "*Preflight typically graded by Fridays 5p EST*\n",
    "\n",
    "In-class tutorial and Q+A ($\\sim$ 50 min, 10 points) **Typically occurs: Fridays EST**\n",
    "\n",
    "Homework assignment ($\\sim$ 3-5 hrs, 30 points) **Typically due: Tuesdays 12pm EST**  \n",
    "\n",
    "\n",
    "When we grade your homework, we will not run your code. Once submitted, your notebook should have the outputs for all of your results.  Please do not include long outputs from debugging, beyond a few print statements and the requested visualimzations (i.e. plots).\n",
    "\n",
    "**Grading:** Your notebook will be graded using [nbgrader](https://nbgrader.readthedocs.io/en/stable/), implemented using Gradescope's autograder function .  **Note:** Execute the cell below (click in the cell and press shift+enter, or click in the cell and press the Run button) to check that you are using a version of python that is compatible with the tool we are using to grade your assignments.  If your ```IPython``` version is too old, we will *not* be able to grade your assignments.\n"
   ]
  },
  {
   "cell_type": "markdown",
   "metadata": {},
   "source": [
    "## Preflight summary\n",
    "- Brief review of creating arrays\n",
    "- Creating an (n,m,...) shaped array and examining the contents (2 points)\n",
    "- Example of array operations using explicit power notation and a logarithm. (2 points)\n",
    "- Calculate the electric field in a vectorized fashion (loop vs. one-liner!). (3 points)\n",
    "- Calculate efield magnitude with different dimensions (1 point)\n",
    "- Quiver plot (1 points) "
   ]
  },
  {
   "cell_type": "code",
   "execution_count": null,
   "metadata": {},
   "outputs": [],
   "source": [
    "# Import relevant modules\n",
    "import numpy as np\n",
    "from matplotlib import pyplot as plt"
   ]
  },
  {
   "cell_type": "markdown",
   "metadata": {},
   "source": [
    "## Brief review of creating arrays\n",
    "\n",
    "Numpy arrays are simply a grid of values, which are 0-indexed.  There are a number of ways to create a numpy array.  Below, we show: \n",
    "- Creating a numpy array from a list\n",
    "- Creating a numpy array using `arange`\n",
    "- Creating a numpy array using `linspace`\n",
    "\n",
    "These are all shape (n,), essentially 1-d arrays."
   ]
  },
  {
   "cell_type": "code",
   "execution_count": null,
   "metadata": {},
   "outputs": [],
   "source": [
    "# Manually input a list of values and enclose in np.array()\n",
    "test_list = [0.5, 1, 0, 20]\n",
    "array_from_list = np.array(test_list)\n",
    "print(\"array from list: \",array_from_list)\n",
    "print(\"shape: \", array_from_list.shape)\n",
    "\n",
    "# Use a numpy function to generate a certain kind of array\n",
    "array_from_arange = np.arange(1, 10, 0.5)\n",
    "print(\"array from arange: \", array_from_arange)\n",
    "print(\"shape: \", array_from_arange.shape)\n",
    "\n",
    "array_from_linspace = np.linspace(1,10,20)\n",
    "print(\"array from linspace: \", array_from_linspace)\n",
    "print(\"shape: \", array_from_linspace.shape)"
   ]
  },
  {
   "cell_type": "markdown",
   "metadata": {},
   "source": [
    "## Creating an (n,m,...) shaped array and examining the contents (2 points)\n",
    "With the numpy function `meshgrid`, we can also create shape (n,m,...) arrays.  In homework/tutorial 1, we created arrays that were 3-d arrays sampling space in a **cube**.  Let's try to cement our intuition about meshgrid by creating a square 2D array and examining its outputs. \n"
   ]
  },
  {
   "cell_type": "code",
   "execution_count": null,
   "metadata": {},
   "outputs": [],
   "source": [
    "# setting up a 2D, square meshgrid\n",
    "\n",
    "sample_points_square = np.linspace(0,5,num=6)\n",
    "print(\"sample_points_square shape: \", sample_points_square.shape)\n",
    "\n",
    "square_points_x, square_points_y = np.meshgrid(sample_points_square,\n",
    "                                              sample_points_square)\n",
    "\n",
    "print(\"x coordinates of points in square: \\n\", square_points_x)\n",
    "print(\"y coordinates of points in square: \\n\", square_points_y)"
   ]
  },
  {
   "cell_type": "markdown",
   "metadata": {},
   "source": [
    "Then, we apply (3,3,3) array that samples a meshgrid and examine its contents. It is hard to represent 3D structures on your 2D montior. One way of visualizing the structure of a 3D array as 2D squre slices of our 'cube' which are represented by 2D arrays. \n",
    "\n",
    "Finally, we can use a different 1D array input to make a **rectangular prism** instead of a cube. "
   ]
  },
  {
   "cell_type": "code",
   "execution_count": null,
   "metadata": {},
   "outputs": [],
   "source": [
    "# Setting up points in a cube\n",
    "sample_points_cube = np.linspace(0,2,num=3)\n",
    "print(\"sample_points_cube shape: \", sample_points_cube.shape)\n",
    "cube_points_x, cube_points_y, cube_points_z = np.meshgrid(sample_points_cube, \n",
    "                                                          sample_points_cube, \n",
    "                                                          sample_points_cube, \n",
    "                                                          indexing='ij')\n",
    "print(\"x coordinates of points in cube: \\n\", cube_points_x)\n",
    "print(\"\\n shape of x coordinates\", cube_points_x.shape)\n",
    "\n",
    "# Setting up points in a rectangular prism\n",
    "sample_points_prism_x = np.linspace(0,3,num=4)\n",
    "print(\"\\n sample_points_prism_x: \", sample_points_prism_x.shape)\n",
    "\n",
    "#notice we are using a different array for the first input\n",
    "prism_points_x, prism_points_y, prism_points_z = np.meshgrid(sample_points_prism_x, \n",
    "                                                             sample_points_cube, \n",
    "                                                             sample_points_cube, \n",
    "                                                             indexing='ij')\n",
    "print(\"\\n x coordinates of points in cube: \\n\", prism_points_x)\n",
    "print(\"\\n shape of x coordinates\", prism_points_x.shape)"
   ]
  },
  {
   "cell_type": "markdown",
   "metadata": {},
   "source": [
    "**Explain:** \n",
    "- How many points sample the cube (how might you find this out)? What would you have to change for there to be 64 points sampling the cube? (1 point)\n",
    "- We can imagine the output of the cube meshgrid as a list of more intuitive 2D arrays. Based on the output of the cube meshgrid, which coordinate is held constant in a given 2D array? What happens if you change the kwarg `indexing='ij'` to `indexing='xy'`? (1 point)\n"
   ]
  },
  {
   "cell_type": "markdown",
   "metadata": {
    "deletable": false,
    "nbgrader": {
     "cell_type": "markdown",
     "checksum": "27aa67312917eaa04272be66d27cca0e",
     "grade": true,
     "grade_id": "PF_3D_Array_Questionss",
     "locked": false,
     "points": 2,
     "schema_version": 3,
     "solution": true,
     "task": false
    }
   },
   "source": [
    "YOUR ANSWER HERE"
   ]
  },
  {
   "cell_type": "markdown",
   "metadata": {},
   "source": [
    "## Array operations (2 points)\n",
    "\n",
    "Oftentimes, we want to perform an operation on every element of an `ndarray` (e.g. raising them to a power, multiply them, add a constant, etc.). Perhaps the most obvious way to accomplish this is to use a for loop (or many for loops) to iterate over each element of the `ndarray`.\n",
    "\n",
    "Let's write code to cube every element of an input array.  First, let's define the variable, `base_array` using `np.arange`, starting at 1, stopping at 10.5 in steps of 0.5 (recall, `np.arange` will not include the stopping point)."
   ]
  },
  {
   "cell_type": "code",
   "execution_count": null,
   "metadata": {
    "deletable": false,
    "nbgrader": {
     "cell_type": "code",
     "checksum": "f4c87aa523597008354011b4335931eb",
     "grade": false,
     "grade_id": "cell-e87192e148072856",
     "locked": false,
     "schema_version": 3,
     "solution": true,
     "task": false
    }
   },
   "outputs": [],
   "source": [
    "# Define base_array below\n",
    "# YOUR CODE HERE\n",
    "raise NotImplementedError()"
   ]
  },
  {
   "cell_type": "code",
   "execution_count": null,
   "metadata": {
    "deletable": false,
    "editable": false,
    "nbgrader": {
     "cell_type": "code",
     "checksum": "6c0f6c5c4c8bbf0ddb4bc22cbf69b440",
     "grade": true,
     "grade_id": "PF_arange",
     "locked": true,
     "points": 1,
     "schema_version": 3,
     "solution": false,
     "task": false
    }
   },
   "outputs": [],
   "source": [
    "\"\"\"Execute this to test that you have properly defined base_array\"\"\"\n",
    "assert(base_array[0]==1)"
   ]
  },
  {
   "cell_type": "markdown",
   "metadata": {},
   "source": [
    "Next, let us create a new array that contains each element of `base_array` cubed using a for loop.  There are two ways to do this. Let's start with an implementation using a for loop, which I will do for you. In this code, we:\n",
    "- Create an empty list, `powered_list_from_loop`.  This is where we will collect the value of each `base_array` element raised to the third power.\n",
    "- Create a `for` loop to iterate over each `base_array` element, which we will call `base_value`.\n",
    "- In the `for` loop, set the variable `powered_value` equal to `base_value` to the third power. \n",
    "- Still in the `for` loop, append the `powered_value` to the list `powered_list_from_loop`.\n",
    "- After exiting the `for` loop, create an array, `powered_array_from_loop`,  out of the list `powered_list_from_loop`."
   ]
  },
  {
   "cell_type": "code",
   "execution_count": null,
   "metadata": {},
   "outputs": [],
   "source": [
    "# Create an empty array where we will collect the powered values\n",
    "powered_list_from_loop = []\n",
    "\n",
    "# Looping over each value in base_array\n",
    "for base_value in base_array :\n",
    "    # set powered_value equal to base_value cubed\n",
    "    powered_value = base_value**3\n",
    "    \n",
    "    # Append powered_value to the list\n",
    "    powered_list_from_loop.append(powered_value)\n",
    "    \n",
    "# Create an array from a list    \n",
    "powered_array_from_loop = np.array(powered_list_from_loop)\n",
    "    \n",
    "print(powered_array_from_loop)"
   ]
  },
  {
   "cell_type": "markdown",
   "metadata": {},
   "source": [
    "One very useful feature of numpy is that both python's basic mathematical functions and numpy's built in functions just *work* on ndarray objects of arbitrary dimension. These array operations can be implemented in a single line of code as if you are just performing the operation on a single value, and for larger datasets can be signficantly faster!\n",
    "\n",
    "Now, **define a variable**, `powered_array` that is the cube of each value in `base_array`, but do this in one step.  Recall, raising something to a power uses two asterisks, \\*\\*"
   ]
  },
  {
   "cell_type": "code",
   "execution_count": null,
   "metadata": {
    "deletable": false,
    "nbgrader": {
     "cell_type": "code",
     "checksum": "e7f89aaa6fd4502cdd83ba4abc427311",
     "grade": false,
     "grade_id": "cell-50e1afd860f0a3e6",
     "locked": false,
     "schema_version": 3,
     "solution": true,
     "task": false
    }
   },
   "outputs": [],
   "source": [
    "# Define powered_array here\n",
    "\n",
    "# YOUR CODE HERE\n",
    "raise NotImplementedError()\n",
    "\n",
    "print(powered_array)"
   ]
  },
  {
   "cell_type": "code",
   "execution_count": null,
   "metadata": {
    "deletable": false,
    "editable": false,
    "nbgrader": {
     "cell_type": "code",
     "checksum": "658cb1f937beaa15d7e634543fccd405",
     "grade": true,
     "grade_id": "PF_cubed_array",
     "locked": true,
     "points": 1,
     "schema_version": 3,
     "solution": false,
     "task": false
    }
   },
   "outputs": [],
   "source": [
    "\"\"\"Execute this cell to check that your solution is on the right track\"\"\"\n",
    "assert(powered_array[0] == powered_array_from_loop[0])"
   ]
  },
  {
   "cell_type": "markdown",
   "metadata": {},
   "source": [
    "Here are some other [array operations](https://problemsolvingwithpython.com/05-NumPy-and-Arrays/05.07-Array-Opperations/) you can do.  Output the base 10 log of of `powered_array` in one line. (Note: the last element is 3, because we just did $10^3$, then took the base 10 log of that.)"
   ]
  },
  {
   "cell_type": "code",
   "execution_count": null,
   "metadata": {},
   "outputs": [],
   "source": [
    "# Output the base 10 log here\n",
    "\n",
    "np.log10(powered_array)\n"
   ]
  },
  {
   "cell_type": "markdown",
   "metadata": {},
   "source": [
    "## Calculating the electric field in a vectorized fashion (3 points)\n",
    "\n",
    "In the first tutorial/hw, we calculated the electric field at a single point in the field due to a point charge.  To find the electric field at all points we sampled in the field (i.e. the meshgrid), we ended up doing a big loop where we effectively found the euclidean distance between the charge position and each point in the meshgrid.  \n",
    "\n",
    "```\n",
    "### THIS IS WHAT WE DID IN TUTORIAL/HW 1\n",
    "\n",
    "# Create an empty list to collect the electric field at each field position\n",
    "efield_list = []\n",
    "\n",
    "charge_position = np.array([0,0,0])\n",
    "\n",
    "# Loop over all points in the meshgrid\n",
    "for x, y, z in zip(np.ravel(xarray), np.ravel(yarray), np.ravel(zarray)) :\n",
    "    field_position = np.array([x,y,z])\n",
    "    print(\"Calculating efield at: \", field_position)\n",
    "    \n",
    "    # Calculate the electric field at each point\n",
    "    efield_at_point = calculate_efield_at_point(charge_position, field_position, q=1) \n",
    "    print(\"efield is: \", efield_at_point)\n",
    "    \n",
    "    # Append the electric field to a list\n",
    "    efield_list.append(efield_at_point)\n",
    "    \n",
    "efield_vectors = np.array(efield_list)\n",
    "    \n",
    "```\n",
    "\n",
    "Note the parallels between this and the earlier exercise of the preflight.  We will do a similar thing, but will use the `apply_along_axis` function of numpy to do this *all in one line*.   \n",
    "\n",
    "First, **define your meshgrid points** the same way we did in tutorial/hw 1.\n",
    "\n",
    "```\n",
    "num_points_1d = 2\n",
    "sample_points = np.linspace(-1, 1, num=num_points_1d)\n",
    "xarray, yarray, zarray = np.meshgrid(sample_points, sample_points, sample_points, indexing='ij')\n",
    "```"
   ]
  },
  {
   "cell_type": "code",
   "execution_count": null,
   "metadata": {
    "deletable": false,
    "nbgrader": {
     "cell_type": "code",
     "checksum": "cda74409e9e748ddcacc0ecd426726a0",
     "grade": false,
     "grade_id": "cell-0c0bb8b1995fda5c",
     "locked": false,
     "schema_version": 3,
     "solution": true,
     "task": false
    }
   },
   "outputs": [],
   "source": [
    "#  Define your meshgrid points here\n",
    "# YOUR CODE HERE\n",
    "raise NotImplementedError()"
   ]
  },
  {
   "cell_type": "code",
   "execution_count": null,
   "metadata": {
    "deletable": false,
    "editable": false,
    "nbgrader": {
     "cell_type": "code",
     "checksum": "18e776055af071102201f44a78f20de2",
     "grade": true,
     "grade_id": "PF_efield_define_array",
     "locked": true,
     "points": 1,
     "schema_version": 3,
     "solution": false,
     "task": false
    }
   },
   "outputs": [],
   "source": [
    "\"\"\"Execute this cell to check that your sample points and meshgrid points are defined correctly\"\"\"\n",
    "assert((sample_points == np.linspace(-1,1,num_points_1d)).all())\n",
    "assert(xarray[0][0][0]==-1)\n",
    "assert(yarray[0][0][0]==-1)\n",
    "assert(zarray[0][0][0]==-1)\n"
   ]
  },
  {
   "cell_type": "markdown",
   "metadata": {},
   "source": [
    "Let us now create one big array with all points in the meshgrid:\n",
    "```\n",
    "points_in_meshgrid = np.array([xarray, yarray, zarray])\n",
    "```\n",
    "Print out the shape of this new array that you created."
   ]
  },
  {
   "cell_type": "code",
   "execution_count": null,
   "metadata": {
    "deletable": false,
    "nbgrader": {
     "cell_type": "code",
     "checksum": "b78ff0503135d8e6c45cf23141294734",
     "grade": false,
     "grade_id": "cell-930ddee173aa1aa3",
     "locked": false,
     "schema_version": 3,
     "solution": true,
     "task": false
    }
   },
   "outputs": [],
   "source": [
    "# Define points_in_meshgrid below\n",
    "# YOUR CODE HERE\n",
    "raise NotImplementedError()\n",
    "print(points_in_meshgrid.shape)"
   ]
  },
  {
   "cell_type": "code",
   "execution_count": null,
   "metadata": {
    "deletable": false,
    "editable": false,
    "nbgrader": {
     "cell_type": "code",
     "checksum": "cc2b1ab644b4250ff89ff647b43ed9a9",
     "grade": true,
     "grade_id": "PF_points_in_meshgrid",
     "locked": true,
     "points": 1,
     "schema_version": 3,
     "solution": false,
     "task": false
    }
   },
   "outputs": [],
   "source": [
    "\"\"\"Execute this cell to check that you've properly defined points_in_meshgrid\"\"\"\n",
    "assert(points_in_meshgrid.shape == (3,num_points_1d,num_points_1d,num_points_1d))"
   ]
  },
  {
   "cell_type": "markdown",
   "metadata": {},
   "source": [
    "You'll notice that this is now a 4-d array.  The first dimension corresponds to the number of axes (i.e. x, y, and z means there are three axes). The next 3 dimensions correspond to values of x, y, and z coordinates.  Equivalently, we could have directly defined `points_in_meshgrid`,\n",
    "```\n",
    "direct_points_in_meshgrid = np.array(np.meshgrid(sample_points, sample_points, sample_points, indexing='ij'))\n",
    "```\n",
    "Define the above in the cell below, and print its shape."
   ]
  },
  {
   "cell_type": "code",
   "execution_count": null,
   "metadata": {
    "deletable": false,
    "nbgrader": {
     "cell_type": "code",
     "checksum": "0c51efc0ad9600f14bbcfbb4565f98db",
     "grade": false,
     "grade_id": "cell-d38dfe3fec03bfe2",
     "locked": false,
     "schema_version": 3,
     "solution": true,
     "task": false
    }
   },
   "outputs": [],
   "source": [
    "#  Define direct_points_in_meshgrid here, and print the shape\n",
    "# YOUR CODE HERE\n",
    "raise NotImplementedError()\n",
    "print(direct_points_in_meshgrid.shape)"
   ]
  },
  {
   "cell_type": "code",
   "execution_count": null,
   "metadata": {
    "deletable": false,
    "editable": false,
    "nbgrader": {
     "cell_type": "code",
     "checksum": "1e013fd5f89dbd540bb6b5bcf46c3aa3",
     "grade": true,
     "grade_id": "PF_direct_points_in_meshgrid",
     "locked": true,
     "points": 1,
     "schema_version": 3,
     "solution": false,
     "task": false
    }
   },
   "outputs": [],
   "source": [
    "\"\"\"Execute this cell to check that you have done the above cell correctly\"\"\"\n",
    "assert((direct_points_in_meshgrid[0] == xarray).all() )"
   ]
  },
  {
   "cell_type": "markdown",
   "metadata": {},
   "source": [
    "Next, we use the same function from the tutorial/hw to calculate the efield at a single field point, but we switch `field_position` with `charge_position` in the order of function arguments.  This is because field position is what gets varied over the entire `points_in_meshgrid`, and we want that to be the first argument of `calculate_efield_at_point`.  Also, let us set `k=1` to simplify visualizations in plots."
   ]
  },
  {
   "cell_type": "code",
   "execution_count": null,
   "metadata": {},
   "outputs": [],
   "source": [
    "def calculate_efield_at_point(field_position, charge_position, q=1) :\n",
    "    '''Return the electric field due to a point charge.\n",
    "    \n",
    "    Inputs:\n",
    "    field_position (n-darray) : x, y, and z position vector of a field point\n",
    "    charge_position (n-darray) : x, y, and z position vector of a charge point\n",
    "    q (float or int) : charge of the point\n",
    "    Outputs:\n",
    "    vector_efield (n-darray) : x, y, z components of the e-field at the point field_position\n",
    "    '''\n",
    "    \n",
    "    k = 1 # A choice to simplify plots\n",
    "    \n",
    "    r = field_position-charge_position\n",
    "    r_magnitude = np.linalg.norm(field_position-charge_position)\n",
    "    r_unit = r/r_magnitude\n",
    "    \n",
    "    return k*q / r_magnitude**2 * r_unit"
   ]
  },
  {
   "cell_type": "markdown",
   "metadata": {},
   "source": [
    "With a `charge_position` at the origin, we now calculate `efield_vectors` all in a single line with `apply_along_axis`, see [documentation](https://numpy.org/doc/stable/reference/generated/numpy.apply_along_axis.html),  \n",
    "```\n",
    "efield_vectors = np.apply_along_axis(calculate_efield_at_point, 0, points_in_meshgrid, charge_position)\n",
    "```\n",
    "the second argument corresponds to the axis along which we apply `calculate_efield_at_point`.  However, our resulting array will have a different shape than when we did it in the loop (n,n,n,3) vs. (3,n,n,n). We will have to take this into account."
   ]
  },
  {
   "cell_type": "code",
   "execution_count": null,
   "metadata": {
    "deletable": false,
    "nbgrader": {
     "cell_type": "code",
     "checksum": "ac14ce0ac7517f8c5b897f14cb0e3354",
     "grade": false,
     "grade_id": "cell-084f73b178a18f7b",
     "locked": false,
     "schema_version": 3,
     "solution": true,
     "task": false
    }
   },
   "outputs": [],
   "source": [
    "charge_position = np.array([0,0,0])\n",
    "\n",
    "# Define efield_vectors below\n",
    "# YOUR CODE HERE\n",
    "raise NotImplementedError()\n",
    "print(efield_vectors.shape)"
   ]
  },
  {
   "cell_type": "code",
   "execution_count": null,
   "metadata": {
    "deletable": false,
    "editable": false,
    "nbgrader": {
     "cell_type": "code",
     "checksum": "02d8be2e452fd1f1e30a4207cacef7ac",
     "grade": true,
     "grade_id": "PF_apply_along_axis_check",
     "locked": true,
     "points": 1,
     "schema_version": 3,
     "solution": false,
     "task": false
    }
   },
   "outputs": [],
   "source": [
    "\"\"\"Execute this to check that you've run the correct code\"\"\"\n",
    "assert(efield_vectors.shape == (3,num_points_1d,num_points_1d,num_points_1d))\n",
    "efield_vectors[0].ravel().shape\n",
    "xarray.ravel().shape"
   ]
  },
  {
   "cell_type": "markdown",
   "metadata": {},
   "source": [
    "##  Calculate the efield magnitude (1 point)\n",
    "Similar to the tutorial/hw 1, we calculate the `efield_magnitude` using `np.linalg.norm`.  We will later use this in a visualization.  First, we have to account for the different shapes.  In the loop, the x, y, z axes varied over the last dimension.  Now, it varies over the first dimension, so the shape is (3,n,n,n).  Note, the axis we take the magnitude over is now the 0th axis (i.e. an $x^2+y^2+z^2$ over each of the points).  So, we will want to calculate the magnitude (norm) of efield_vectors, across the 0th axis,\n",
    "```\n",
    "np.linalg.norm(efield_vectors, axis=0)\n",
    "```"
   ]
  },
  {
   "cell_type": "code",
   "execution_count": null,
   "metadata": {
    "deletable": false,
    "nbgrader": {
     "cell_type": "code",
     "checksum": "847a366e6ba2285b6da426f7dc86e5ff",
     "grade": false,
     "grade_id": "cell-d43e919f5409d14c",
     "locked": false,
     "schema_version": 3,
     "solution": true,
     "task": false
    }
   },
   "outputs": [],
   "source": [
    "# Define the efield_magnitude in this cell.\n",
    "print(\"Vectors have shape\", efield_vectors.shape)\n",
    "\n",
    "# YOUR CODE HERE\n",
    "raise NotImplementedError()\n",
    "\n",
    "print(\"Magnitude has shape\", efield_magnitude.shape)"
   ]
  },
  {
   "cell_type": "code",
   "execution_count": null,
   "metadata": {
    "deletable": false,
    "editable": false,
    "nbgrader": {
     "cell_type": "code",
     "checksum": "5ced76967027307ddedc37dff712f811",
     "grade": true,
     "grade_id": "PF_efield_magnitude",
     "locked": true,
     "points": 1,
     "schema_version": 3,
     "solution": false,
     "task": false
    }
   },
   "outputs": [],
   "source": [
    "\"\"\"Execute this cell to check that your efield_magnitude has been properly defined\"\"\"\n",
    "print(efield_vectors[:,0,0,0])\n",
    "assert(efield_magnitude[0][0][0] == np.linalg.norm(efield_vectors[:,0,0,0], axis=0))"
   ]
  },
  {
   "cell_type": "markdown",
   "metadata": {},
   "source": [
    "## Visualize with quiver (1 point)\n",
    "\n",
    "Similar to tutorial/hw1, we visualize the vector field with quiver.  Let's ravel everything (ravel the xarray, yarray, efield_vectors[0], efield_vectors[1]) so we don't have to worry about aligned shape.  You can do this since `ravel` is a *method* of any numpy array, and all of these are numpy arrays. Or, you can use the function `np.ravel`.  See [documentation](https://numpy.org/doc/stable/reference/generated/numpy.ravel.html). \n",
    "\n",
    "Then, go back to where we define `num_points_1d` and change that value to 4.  Run all cells after."
   ]
  },
  {
   "cell_type": "code",
   "execution_count": null,
   "metadata": {
    "deletable": false,
    "nbgrader": {
     "cell_type": "code",
     "checksum": "3696522e870cefa453d4810d56efa2eb",
     "grade": true,
     "grade_id": "PF_quiver_plot",
     "locked": false,
     "points": 1,
     "schema_version": 3,
     "solution": true,
     "task": false
    }
   },
   "outputs": [],
   "source": [
    "# Use quiver here\n",
    "#  Plot the vector field using the quiver method\n",
    "fig, ax1 = plt.subplots(1, figsize=(8,8))\n",
    "\n",
    "# YOUR CODE HERE\n",
    "raise NotImplementedError()\n",
    "\n",
    "ax1.set_xlabel('x (meters)')\n",
    "ax1.set_ylabel('y (meters)')\n",
    "ax1.set_title('E Field of Point Charge', fontsize=16)"
   ]
  }
 ],
 "metadata": {
  "kernelspec": {
   "display_name": "Python 3",
   "language": "python",
   "name": "python3"
  },
  "language_info": {
   "codemirror_mode": {
    "name": "ipython",
    "version": 3
   },
   "file_extension": ".py",
   "mimetype": "text/x-python",
   "name": "python",
   "nbconvert_exporter": "python",
   "pygments_lexer": "ipython3",
   "version": "3.8.3"
  }
 },
 "nbformat": 4,
 "nbformat_minor": 2
}

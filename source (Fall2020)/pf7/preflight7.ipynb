{
 "cells": [
  {
   "cell_type": "markdown",
   "metadata": {},
   "source": [
    "# Introduction -- Reminder\n",
    "\n",
    "Each Python lab will start with a pre-flight exercise that walks through building some of the set up and tools ($\\sim$ 30 min), followed by an in-class tutorial with time for Q+A (50 min) so you can walk through steps that will be necessary for the homework assignment you will submit ($\\sim$ 3 hrs).  Each lab will contain starter code, similar to what you see below.  Please fill in the code to complete the pre-flight assignment in preparation for the in-class tutorial.  \n",
    "\n",
    "Preflight ($\\sim$30-60 min, 10 points) **Typically due: Wednesdays 3pm EST**\n",
    "\n",
    "*Preflight typically graded by Wednesday 5p EST*\n",
    "\n",
    "In-class tutorial and Q+A ($\\sim$ 50 min, 10 points) **Typically occurs: Thursdays 9am EST**\n",
    "\n",
    "Homework assignment ($\\sim$ 3-5 hrs, 30 points) **Typically due: Mondays 9am EST** \n",
    "\n",
    "*Homework typically graded by Thursday 5p*\n",
    "\n",
    "When we grade your homework, we will not run your code. Once submitted, your notebook should have the outputs for all of your results.  Please do not include long outputs from debugging, beyond a few print statements and the requested visualizations (i.e. plots).\n",
    "\n",
    "**Grading:** When we grade your notebook, we will convert the .ipynb file to an HTML file.  We will be using [nbgrader](https://nbgrader.readthedocs.io/en/stable/) to grade your notebooks.  **Note:** If your ```IPython``` version is too old, we will *not* be able to grade your assignments.\n"
   ]
  },
  {
   "cell_type": "markdown",
   "metadata": {},
   "source": [
    "# Phys 260 Python Preflight 7: Simulating charged particles in fields (10 points total)\n",
    "\n",
    "## Preflight Summary\n",
    "- Practice writing functions: fields and equations of motion\n",
    "- Review of discretized time evolution: Euler's method\n",
    "- Using your functions in a class\n",
    "- Plotting your result"
   ]
  },
  {
   "cell_type": "markdown",
   "metadata": {},
   "source": [
    "## Equations of Motion:  Numerically solving differential equations\n",
    "\n",
    "In this excercise we will simulate how particles move in electric and magnetic fields.  For the preflight, we will do this for the simplest case.  \n",
    "\n",
    "The motion of charged particles is affected by forces due to electric and magnetic fields.  Force causes an acceleration, which in turn changes the velocity and subsequent position of a charged particle.  Motions depend on the initial position and velocity. "
   ]
  },
  {
   "cell_type": "code",
   "execution_count": 1,
   "metadata": {},
   "outputs": [],
   "source": [
    "import numpy as np\n",
    "from matplotlib import pyplot as plt\n",
    "from mpl_toolkits.mplot3d import Axes3D    "
   ]
  },
  {
   "cell_type": "markdown",
   "metadata": {},
   "source": [
    "### Practice writing functions (2 points)\n",
    "\n",
    "In the cell below, fill out the functions `calc_force_on_charge_by_efield` and `calc_force_on_charge_by_bfield`.  These could be written as one-liners.  \n",
    "\n",
    "Note, you will need to look up the documentation of `np.cross` for the second function.  "
   ]
  },
  {
   "cell_type": "code",
   "execution_count": 2,
   "metadata": {
    "nbgrader": {
     "grade": false,
     "grade_id": "cell-552f90a8fd0459e4",
     "locked": false,
     "schema_version": 3,
     "solution": true,
     "task": false
    }
   },
   "outputs": [],
   "source": [
    "def calc_force_on_charge_by_efield(electric_field, q = 1) :\n",
    "    '''Returns the force on a charge by an electric field at a given point\n",
    "    Parameters\n",
    "    ----------\n",
    "    electric_field : n-darray\n",
    "        Electric field at a point in space\n",
    "    q : float \n",
    "        Charge in Coulombs, default 1C\n",
    "\n",
    "    Returns\n",
    "    -------\n",
    "    force : n-darray\n",
    "        Force on charge due to electric field\n",
    "    '''\n",
    "    ### BEGIN SOLUTION\n",
    "    force = q*electric_field\n",
    "    return force\n",
    "    ### END SOLUTION\n",
    "\n",
    "def calc_force_on_charge_by_bfield(magnetic_field, charge_velocity, q = 1) :\n",
    "    '''Returns the force on a charge by an electric field at a given point\n",
    "    Parameters\n",
    "    ----------\n",
    "    magnetic_field : n-darray\n",
    "        magnetic field at a point in space\n",
    "    charge_velocity : n-darray\n",
    "        velocity of charge in m/s\n",
    "    q : float \n",
    "        Charge in Coulombs, default 1C\n",
    "\n",
    "    Returns\n",
    "    -------\n",
    "    force : n-darray\n",
    "        Force on charge due to magnetic field\n",
    "    '''\n",
    "    ### BEGIN SOLUTION\n",
    "    force = q*np.cross(charge_velocity, magnetic_field)\n",
    "    return force\n",
    "    ### END SOLUTION"
   ]
  },
  {
   "cell_type": "code",
   "execution_count": 3,
   "metadata": {
    "nbgrader": {
     "grade": true,
     "grade_id": "cell-c63ff07d455a39b7",
     "locked": true,
     "points": 2,
     "schema_version": 3,
     "solution": false,
     "task": false
    }
   },
   "outputs": [],
   "source": [
    "\"\"\"Execute to check you're on the right track\"\"\"\n",
    "assert((calc_force_on_charge_by_efield(np.array([1,0,0])) == np.array([1,0,0])).all())\n",
    "assert((calc_force_on_charge_by_bfield(np.array([1,0,0]), np.array([0,1,0])) == np.array([0,0,-1])).all())"
   ]
  },
  {
   "cell_type": "markdown",
   "metadata": {},
   "source": [
    "**Use both functions above in a new function** (1 point): In the cell below, fill out the function `calc_acceleration_of_charge_in_ebfields`, to calculate the acceleration on a charged particle in the presence of both an electric and magnetic field.  Full credit for using already defined functions instead of re-writing code."
   ]
  },
  {
   "cell_type": "code",
   "execution_count": 4,
   "metadata": {
    "nbgrader": {
     "grade": false,
     "grade_id": "cell-7ad9bff6f1eff788",
     "locked": false,
     "schema_version": 3,
     "solution": true,
     "task": false
    }
   },
   "outputs": [],
   "source": [
    "def calc_acceleration_of_charge_in_ebfields(electric_field, magnetic_field, charge_velocity, q=1, m=1) :\n",
    "    ''' Calculate the acceleration of a charge in the presence of both an electric and magnetic field.\n",
    "    Parameters\n",
    "    ----------\n",
    "    electric_field : n-darray\n",
    "        electric field at a point in space\n",
    "    magnetic_field : n-darray\n",
    "        magnetic field at a point in space\n",
    "    charge_velocity : n-darray\n",
    "        velocity of charge in m/s\n",
    "    q : float \n",
    "        Charge in Coulombs, default 1C\n",
    "    m : mass \n",
    "        Mass of charge, default to 1\n",
    "    Returns\n",
    "    -------\n",
    "    acceleration : n-darray\n",
    "        acceleration of charge due to force from magnetic and electric fields\n",
    "    '''\n",
    "    ### BEGIN SOLUTION\n",
    "    acceleration = (calc_force_on_charge_by_efield(electric_field,q) + \\\n",
    "                    calc_force_on_charge_by_bfield(magnetic_field, charge_velocity, q))/m\n",
    "    ### END SOLUTION\n",
    "    return acceleration"
   ]
  },
  {
   "cell_type": "code",
   "execution_count": 5,
   "metadata": {
    "nbgrader": {
     "grade": true,
     "grade_id": "cell-95a8999f45ccba3d",
     "locked": true,
     "points": 1,
     "schema_version": 3,
     "solution": false,
     "task": false
    }
   },
   "outputs": [],
   "source": [
    "\"\"\"Execute to check you're on the right track\"\"\"\n",
    "assert((calc_acceleration_of_charge_in_ebfields(np.array([1,0,0]), np.array([1,0,0]), np.array([1,0,0]),\n",
    "                                       1, 1) == np.array([1,0,0])).all())\n",
    "### BEGIN HIDDEN TESTS\n",
    "# Test dependence on efield function\n",
    "orig_calc_force_efield = calc_force_on_charge_by_efield\n",
    "del calc_force_on_charge_by_efield\n",
    "try:\n",
    "    calc_acceleration_of_charge_in_ebfields(np.array([1,0,0]), np.array([1,0,0]), np.array([1,0,0]),\n",
    "                                       1, 1)\n",
    "except NameError:\n",
    "    pass\n",
    "else:\n",
    "    raise AssertionError(\"calc_acceleration_of_charge_in_ebfields does not use calc_force_on_charge_by_efield\")\n",
    "finally:\n",
    "    calc_force_on_charge_by_efield = orig_calc_force_efield\n",
    "    \n",
    "# Test dependence on bfield function\n",
    "orig_calc_force_bfield = calc_force_on_charge_by_bfield\n",
    "del calc_force_on_charge_by_bfield\n",
    "try:\n",
    "    calc_acceleration_of_charge_in_ebfields(np.array([1,0,0]), np.array([1,0,0]), np.array([1,0,0]),\n",
    "                                       1, 1)\n",
    "except NameError:\n",
    "    pass\n",
    "else:\n",
    "    raise AssertionError(\"calc_acceleration_of_charge_in_ebfields does not use calc_force_on_charge_by_bfield\")\n",
    "finally:\n",
    "    calc_force_on_charge_by_bfield = orig_calc_force_bfield    \n",
    "### END HIDDEN TESTS"
   ]
  },
  {
   "cell_type": "markdown",
   "metadata": {},
   "source": [
    "### Example electric and magnetic field functions independent of position (1 point)\n",
    "\n",
    "Note, the `calc_force_on_charge_by_?` functions above require a vector for the electric or magnetic field.  These, however, may vary depending on the charged particle's position.  For example, in the electric field due to a point charge, the field has a $1/r^2$ dependence.  \n",
    "\n",
    "Below, fill out the example functions to return the electric and magnetic fields that are parallel to the x-axis and parallel to the y-axis, respectively.  In these simplified cases, the electric and magnetic fields are independent of the charged particle position (Hint:  You will not need to use the argument `charge_position` in the body of the functions.).  We will later write an example where this is *not* the case, but we want to keep the form of the function calls similar."
   ]
  },
  {
   "cell_type": "code",
   "execution_count": 6,
   "metadata": {
    "nbgrader": {
     "grade": false,
     "grade_id": "cell-a45860a749b9a8b2",
     "locked": false,
     "schema_version": 3,
     "solution": true,
     "task": false
    }
   },
   "outputs": [],
   "source": [
    "def constant_electric_field(charge_position) :\n",
    "    '''Example constant electric field along x-axis [1,0,0]\n",
    "    Parameters\n",
    "    ----------\n",
    "    charge_position : n-darray\n",
    "        position of charged particle\n",
    "\n",
    "    Returns\n",
    "    -------\n",
    "    electric field : n-darray\n",
    "        electric field at charge_position\n",
    "    \n",
    "    '''\n",
    "    ### BEGIN SOLUTION\n",
    "    return np.array([1,0,0])\n",
    "    ### END SOLUTION\n",
    "    \n",
    "    \n",
    "def constant_magnetic_field(charge_position) :\n",
    "    '''Example constant magnetic field along y axis, [0,1,0], magnitude 1 T\n",
    "        Parameters\n",
    "    ----------\n",
    "    charge_position : n-darray\n",
    "        position of charged particle\n",
    "\n",
    "    Returns\n",
    "    -------\n",
    "    magnetic field : n-darray\n",
    "        magnetic field at charge_position\n",
    "    '''\n",
    "    ### BEGIN SOLUTION\n",
    "    return np.array([0,1,0])\n",
    "    ### END SOLUTION"
   ]
  },
  {
   "cell_type": "code",
   "execution_count": 7,
   "metadata": {
    "nbgrader": {
     "grade": true,
     "grade_id": "cell-d76b28006bbb7205",
     "locked": true,
     "points": 1,
     "schema_version": 3,
     "solution": false,
     "task": false
    }
   },
   "outputs": [],
   "source": [
    "\"\"\"Execute to check you're on the right track\"\"\"\n",
    "test_efield1 = constant_electric_field(np.array([0,0,0]))\n",
    "test_efield2 = constant_electric_field(np.array([0,0,1]))\n",
    "#  Test if the electric field is indeed constant at both positions\n",
    "assert((test_efield1 == test_efield2).all())\n",
    "\n",
    "test_bfield1 = constant_magnetic_field(np.array([0,0,0]))\n",
    "test_efield2 = constant_electric_field(np.array([0,0,1]))\n",
    "#  Test if the electric field is indeed constant at both positions\n",
    "assert((test_efield1 == test_efield2).all())\n",
    "\n",
    "### BEGIN HIDDEN TESTS\n",
    "assert((test_efield1 == np.array([1,0,0])).all())\n",
    "assert((test_bfield1 == np.array([0,1,0])).all())\n",
    "### END HIDDEN TESTS"
   ]
  },
  {
   "cell_type": "markdown",
   "metadata": {},
   "source": [
    "### A position-dependent field (contrived example) (2 points)\n",
    "\n",
    "In general, the electric and/or magnetic fields may depend on the position of the particle.\n",
    "\n",
    "In the cell below, write your own function, `linearly_increasing_bfield` that takes in the `charge_position` as an argument and optionally takes in a key word argument for `b_0`.  Here, the function should return a magnetic field linearly increasing with the z position of a charged particle,\n",
    "\\begin{eqnarray}\n",
    "\\vec{B} = B_0z\\hat{z},\n",
    "\\end{eqnarray}\n",
    "with default keyword argument `b_0=0.1`, where $B_0=0.1$T/m (so $B_0z$ has units of T, as a magnetic field should).  Note, this does not obey Maxwell's equations, but is a simple example of a position-dependent field.  Full credit for use of docstrings in the function."
   ]
  },
  {
   "cell_type": "code",
   "execution_count": 8,
   "metadata": {
    "nbgrader": {
     "grade": false,
     "grade_id": "cell-96a07eb261cbc79c",
     "locked": false,
     "schema_version": 3,
     "solution": true,
     "task": false
    }
   },
   "outputs": [],
   "source": [
    "# Define linearly_increasing_bfield below\n",
    "### BEGIN SOLUTION\n",
    "def linearly_increasing_bfield(charge_position) :\n",
    "    '''Magnetic field that happens to linearly increase with z, with proportionality 0.1 T/m.  \n",
    "    Parameters\n",
    "    ----------\n",
    "    charge_position : n-darray\n",
    "        position of charged particle\n",
    "\n",
    "    Returns\n",
    "    -------\n",
    "    magnetic field : n-darray\n",
    "        magnetic field at charge_position\n",
    "    '''\n",
    "    z = charge_position[2]\n",
    "    bfield = np.array([0,0,0.1]) * z\n",
    "    return bfield\n",
    "\n",
    "### END SOLUTION"
   ]
  },
  {
   "cell_type": "code",
   "execution_count": 9,
   "metadata": {
    "nbgrader": {
     "grade": true,
     "grade_id": "cell-acbf1228d923ff8a",
     "locked": true,
     "points": 1,
     "schema_version": 3,
     "solution": false,
     "task": false
    }
   },
   "outputs": [],
   "source": [
    "\"\"\"Execute to check you're on the right track\"\"\"\n",
    "assert(np.linalg.norm(linearly_increasing_bfield(np.array([0,0,1]))) <  \n",
    "       np.linalg.norm(linearly_increasing_bfield(np.array([0,0,2]))))\n"
   ]
  },
  {
   "cell_type": "markdown",
   "metadata": {},
   "source": [
    "### Review: Solving the equations of motion with Euler's method (Analog to circuit evolution)\n",
    "\n",
    "Analogous to the previous computer assignment on circuits (and a more direct analog to the `Spring` in the preflight), we have a change in position and a change in velocity\n",
    "\n",
    "\\begin{eqnarray}\n",
    "\\frac{d\\vec{x}}{dt}&=&\\vec{v}\\\\\n",
    "\\frac{d\\vec{v}}{dt}&=&\\vec{a}\n",
    "\\end{eqnarray}\n",
    "You previously used Euler's method to update the next ith step based on the i-1th step in numerically solving the motion for a `Spring`:\n",
    "\\begin{eqnarray}\n",
    "\\vec{x}_i&+=&\\frac{d\\vec{x}_{i-1}}{dt}\\times dt\\\\\n",
    "&=&\\vec{v}_{i-1}\\times dt\\\\\n",
    "\\vec{v}_i&+=&\\frac{d\\vec{v}_{i-1}}{dt}\\times dt\\\\\n",
    "&=&\\vec{a}_{i-1}\\times dt\n",
    "\\end{eqnarray}\n",
    "\n",
    "This is an approximation for time evolution, and is less approximate for larger values of `dt`.  We will go over a more accurate method to model time evolution in the tutorial/hw, the Runge-Kutta method.  We write a function for updating according to the Euler method below, including `dt` as an unused argument to keep similar function calls with the function we will write using the Runge-Kutta method."
   ]
  },
  {
   "cell_type": "code",
   "execution_count": 10,
   "metadata": {},
   "outputs": [],
   "source": [
    "def get_rates_of_change_euler(particle_position, particle_velocity, efield_function,\n",
    "                                        bfield_function, q, m, dt) :\n",
    "    '''Use Euler's method to calculate the rates of change of particle motion in an \n",
    "    electric and/or magnetic field\n",
    "    '''\n",
    "    \n",
    "    electric_field_at_position = efield_function(particle_position)\n",
    "    magnetic_field_at_position = bfield_function(particle_position)\n",
    "    \n",
    "    particle_acceleration = calc_acceleration_of_charge_in_ebfields(electric_field_at_position, \n",
    "                                                                    magnetic_field_at_position, \n",
    "                                                                        particle_velocity, q, m)\n",
    "    return particle_velocity, particle_acceleration"
   ]
  },
  {
   "cell_type": "markdown",
   "metadata": {},
   "source": [
    "### Modeling a Charged Particle (2 points)\n",
    "\n",
    "Below, we define a class that models the motion of a charged particle in an electric and magnetic field.  Note, the default parameters describe a system that should be familiar to you (recall a previous written assignment).  \n",
    "\n",
    "In the cell below, \n",
    "- Complete the `def __init__` by defining attributes for every input parameter  \n",
    "- Complete the `def evolve_particle`, which is missing a body of the for-loop.  You'll need to both update attributes and append current timestep values to the lists `self.x_vals`, `self.v_vals`, etc.  Note, there is an internal method, `self._update_now_values` that you should use.  There is some flexibility in the order of appending to the lists and updating.  "
   ]
  },
  {
   "cell_type": "code",
   "execution_count": 11,
   "metadata": {
    "nbgrader": {
     "grade": false,
     "grade_id": "cell-e8f629d51af73118",
     "locked": false,
     "schema_version": 3,
     "solution": true,
     "task": false
    }
   },
   "outputs": [],
   "source": [
    "class ChargedParticle : \n",
    "    \"\"\"Creates an instance of a charged particle, which can be time evolved\n",
    "    Parameters\n",
    "    ----------\n",
    "    mass : float\n",
    "        mass of particle.  default 1\n",
    "    charge : float\n",
    "        charge of particle in Coulombs. default 1\n",
    "    x0 : nd-array\n",
    "        initial position of mass. default np.array([0,0,0])\n",
    "    v0 : float\n",
    "        initial velocity of mass. default np.array([0,0,0])\n",
    "    efield_method : func\n",
    "        function to calculate electric field for a charged particle at a given position\n",
    "    bfield_method : func\n",
    "        function to calculate magnetic field for a charged particle at a given position and velocity\n",
    "    \"\"\"\n",
    "    def __init__(self, mass, charge, x0=np.array([0,0,0]), v0=np.array([0,0,0]), \n",
    "                    efield_method=constant_electric_field, bfield_method=constant_magnetic_field) :\n",
    "\n",
    "        # Keep all input values as attributes\n",
    "        ### BEGIN SOLUTION\n",
    "        self.mass = mass\n",
    "        self.charge = charge\n",
    "        self.x_now = x0\n",
    "        self.v_now = v0\n",
    "    \n",
    "        self.efield_method = efield_method\n",
    "        self.bfield_method = bfield_method\n",
    "\n",
    "        ### END SOLUTION\n",
    "        \n",
    "        self.x_vals = []\n",
    "        self.v_vals = []\n",
    "        self.a_vals = []\n",
    "        \n",
    "        self.timesteps = np.array([])     \n",
    "        \n",
    "    def _set_timesteps(self, num_timesteps, dt) :        \n",
    "        \"\"\"Internal method. Sets the attributes timesteps and dt.\n",
    "        Parameters\n",
    "        ----------\n",
    "        num_timesteps : int\n",
    "            number of timesteps to evolve over\n",
    "        dt : float\n",
    "            size of timesteps, defines the time resolution \n",
    "        \"\"\"\n",
    "        \n",
    "        self.dt = dt\n",
    "        next_timesteps = np.arange(0, num_timesteps, dt)\n",
    "\n",
    "        try :\n",
    "            last_timestep = self.timesteps[-1]\n",
    "            next_timesteps += last_timestep\n",
    "            self.timesteps = np.concatenate([self.timesteps, next_timesteps])\n",
    "            \n",
    "        except IndexError : \n",
    "            self.timesteps = next_timesteps\n",
    "                \n",
    "    def _update_now_values(self) :\n",
    "        ''' Internal method to calculate the rate of change based on class attributes.\n",
    "        '''\n",
    "        x_rate_of_change, v_rate_of_change = self.rate_of_change_method(self.x_now, self.v_now, \n",
    "                                                                        self.efield_method,\n",
    "                                                                        self.bfield_method, \n",
    "                                                                        self.charge, self.mass, self.dt)\n",
    "        self.a_now = v_rate_of_change\n",
    "        self.v_now = self.v_now + v_rate_of_change * self.dt\n",
    "        self.x_now = self.x_now + x_rate_of_change * self.dt\n",
    "\n",
    "    def evolve_particle(self, num_timesteps, dt, rate_of_change_method=get_rates_of_change_euler) :\n",
    "        \"\"\"Evolve the charged particle, populate the acceleration, velocity and position (a_vals, v_vals, x_vals)\n",
    "        Parameters\n",
    "        ----------\n",
    "        num_timesteps : int\n",
    "            number of timesteps to evolve over\n",
    "        dt : float\n",
    "            size of timesteps, defines the time resolution \n",
    "        rate_of_change_method : func\n",
    "            function to use to calculate change in velocity and change in position\n",
    "        \"\"\"\n",
    "        \n",
    "        self._set_timesteps(num_timesteps, dt)\n",
    "        self.rate_of_change_method = rate_of_change_method\n",
    "        \n",
    "        for timestep in np.arange(num_timesteps) :\n",
    "            ### BEGIN SOLUTION\n",
    "            # Populate\n",
    "            \n",
    "            self.v_vals.append(self.v_now)\n",
    "            self.x_vals.append(self.x_now)\n",
    "\n",
    "            # Update \"now\" values based on rate of change         \n",
    "            self._update_now_values()            \n",
    "\n",
    "            self.a_vals.append(self.a_now)\n",
    "            ### END SOLUTION"
   ]
  },
  {
   "cell_type": "code",
   "execution_count": 12,
   "metadata": {
    "nbgrader": {
     "grade": true,
     "grade_id": "cell-3f3aff6bc878dc2e",
     "locked": true,
     "points": 2,
     "schema_version": 3,
     "solution": false,
     "task": false
    }
   },
   "outputs": [
    {
     "name": "stdout",
     "output_type": "stream",
     "text": [
      "10.704888434306454\n"
     ]
    }
   ],
   "source": [
    "\"\"\"Execute to check you're on the right track\"\"\"\n",
    "test_charged_particle = ChargedParticle(1,1)\n",
    "test_charged_particle.evolve_particle(10000, 0.001)\n",
    "print(np.linalg.norm(test_charged_particle.x_vals[-1]) )\n",
    "assert(np.abs(np.linalg.norm(test_charged_particle.x_vals[-1]) - 10.8) < 0.1)"
   ]
  },
  {
   "cell_type": "markdown",
   "metadata": {},
   "source": [
    "### Talk through differences in code (1 point)\n",
    "\n",
    "There is some portions of the code that are different than the `Spring` class.  For example there are functions as inputs to the class.  These are then used as methods of the class.  Also, the updating of values at a given timestep occurs in a separate function.  Talk through pros/cons of changes you observe."
   ]
  },
  {
   "cell_type": "markdown",
   "metadata": {
    "nbgrader": {
     "grade": true,
     "grade_id": "cell-1bc8b162a5e824dd",
     "locked": false,
     "points": 1,
     "schema_version": 3,
     "solution": true,
     "task": false
    }
   },
   "source": [
    "- Having functions as inputs to the class means we can use the same class for other electric and magnetic field configurations.  But, you will need to keep track of what kinds of functions work (in this case, we need functions that take in a single argument, an array corresponding to a position, and output an array corresponding to the field). \n",
    "- Having a separate function for updating values makes the code in the `evolve_particle` block more readable, but you do have to search through for what is going on in the code."
   ]
  },
  {
   "cell_type": "markdown",
   "metadata": {},
   "source": [
    "### Make a 3-d plot of the test particle trajectory (2 points)\n",
    "\n",
    "We will make a 3-d plot of the particle trajectory in the cell below.  Since the axis has been defined with the key word argument, `projection='3d'`, we can execute an `ax.plot` method with *three* arguments, corresponding to the x-values, the y-values, and the z-values of coordinates.  Below is an example 3-d plot with 2 points.  In the following cell, make a 3-d plot for all points in the charged particle's trajectory. (Hint:  You will want to use the attribute `x_vals`, but remember that this is a list of arrays.  If you turn the list into an overall array, you can slice the x, y, and z coordinates.) "
   ]
  },
  {
   "cell_type": "code",
   "execution_count": 13,
   "metadata": {},
   "outputs": [
    {
     "data": {
      "image/png": "[encoded data removed]",
      "text/plain": [
       "<Figure size 432x288 with 1 Axes>"
      ]
     },
     "metadata": {
      "needs_background": "light"
     },
     "output_type": "display_data"
    }
   ],
   "source": [
    "#  Example 3-d Plot\n",
    "fig = plt.figure() # you can specify figsize as a kwarg here\n",
    "ax = plt.gca(projection='3d')\n",
    "\n",
    "# x, y, and z values of a position at the origin and a position at (1,1,1)\n",
    "x_values = [0, 1]\n",
    "y_values = [0, 1]\n",
    "z_values = [0, 1]\n",
    "ax.plot(x_values, y_values, z_values)\n",
    "\n",
    "ax.set_xlabel('x',fontsize='xx-large')\n",
    "ax.set_ylabel('y',fontsize='xx-large')\n",
    "ax.set_zlabel('z',fontsize='xx-large')\n",
    "ax.view_init(60,-75)\n"
   ]
  },
  {
   "cell_type": "code",
   "execution_count": 14,
   "metadata": {
    "nbgrader": {
     "grade": true,
     "grade_id": "cell-6d56e408091facd6",
     "locked": false,
     "points": 2,
     "schema_version": 3,
     "solution": true,
     "task": false
    }
   },
   "outputs": [
    {
     "name": "stdout",
     "output_type": "stream",
     "text": [
      "(10000, 3)\n"
     ]
    },
    {
     "data": {
      "image/png": "[encoded data removed]",
      "text/plain": [
       "<Figure size 432x288 with 1 Axes>"
      ]
     },
     "metadata": {
      "needs_background": "light"
     },
     "output_type": "display_data"
    }
   ],
   "source": [
    "#  Make your 3-d trajectory plot here\n",
    "fig = plt.figure() \n",
    "ax = plt.gca(projection='3d')\n",
    "\n",
    "# Access the particle positions here\n",
    "### BEGIN SOLUTION\n",
    "particle_positions = np.array(test_charged_particle.x_vals)\n",
    "print(particle_positions.shape)                     \n",
    "ax.plot(particle_positions[:,0], particle_positions[:,1], particle_positions[:,2])\n",
    "### END SOLUTION\n",
    "\n",
    "ax.set_xlabel('x',fontsize='xx-large')\n",
    "ax.set_ylabel('y',fontsize='xx-large')\n",
    "ax.set_zlabel('z',fontsize='xx-large')\n",
    "ax.view_init(60,-75)\n"
   ]
  }
 ],
 "metadata": {
  "celltoolbar": "Create Assignment",
  "kernelspec": {
   "display_name": "Python 3",
   "language": "python",
   "name": "python3"
  },
  "language_info": {
   "codemirror_mode": {
    "name": "ipython",
    "version": 3
   },
   "file_extension": ".py",
   "mimetype": "text/x-python",
   "name": "python",
   "nbconvert_exporter": "python",
   "pygments_lexer": "ipython3",
   "version": "3.8.5"
  }
 },
 "nbformat": 4,
 "nbformat_minor": 2
}

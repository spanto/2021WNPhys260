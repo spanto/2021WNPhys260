{
 "cells": [
  {
   "cell_type": "markdown",
   "metadata": {},
   "source": [
    "# Introduction -- Reminder\n",
    "\n",
    "Each Python lab will start with a pre-flight exercise that walks through building some of the set up and tools ($\\sim$ 30 min), followed by an in-class tutorial with time for Q+A (50 min) so you can walk through steps that will be necessary for the homework assignment you will submit ($\\sim$ 3 hrs).  Each lab will contain starter code, similar to what you see below.  Please fill in the code to complete the pre-flight assignment in preparation for the in-class tutorial.  \n",
    "\n",
    "Preflight ($\\sim$30-60 min, 10 points) **Typically due: Wednesdays 3pm EST**\n",
    "\n",
    "*Preflight typically graded by Wednesday 5p EST*\n",
    "\n",
    "In-class tutorial and Q+A ($\\sim$ 50 min, 10 points) **Typically occurs: Thursdays 9am EST**\n",
    "\n",
    "Homework assignment ($\\sim$ 3-5 hrs, 30 points) **Typically due: Mondays 9am EST** \n",
    "\n",
    "*Homework typically graded by Thursday 5p*\n",
    "\n",
    "When we grade your homework, we will not run your code. Once submitted, your notebook should have the outputs for all of your results.  Please do not include long outputs from debugging, beyond a few print statements and the requested visualizations (i.e. plots).\n",
    "\n",
    "**Grading:** When we grade your notebook, we will convert the .ipynb file to an HTML file.  We will be using [nbgrader](https://nbgrader.readthedocs.io/en/stable/) to grade your notebooks.  **Note:** If your ```IPython``` version is too old, we will *not* be able to grade your assignments.\n"
   ]
  },
  {
   "cell_type": "markdown",
   "metadata": {},
   "source": [
    "# Phys 260 Python Preflight 9: Simple circuits with inductors  (10 points total)\n",
    "\n",
    "## Preflight Summary\n",
    "- Model of a circuit with R, L and C components\n",
    "\n",
    "In this assignment we will examine the effect of inductors in circuits.  For the tutorial/hw, we will introduce the concept of alternating-current circuits. \n",
    "\n",
    "The canonical example of an inductor is a solenoid. When you run a current through a solenoid, it develops a magnetic field. If this current is changing, the magnetic field in the solenoid is changing too. And if that happens, the solenoid experiences a changing magnetic flux through itself. Faraday's law tells us that this will result in an emf in the solenoid that's in a direction to oppose the change in flux. \n",
    "\n",
    "The induced emf in the solenoid is proportional to the rate of change of the current, so we can write it as:\n",
    "$$\n",
    "    V_L = -L\\frac{dI}{dt}.\n",
    "$$\n",
    "$L$ is a proportionality constant called the <b>inductance</b>. It's measured in Henries. \n",
    "\n",
    "Like capacitance, inductance is a geometrical quantity. We'll calculate it explicitly for a solenoid in class. Physically, inductors prevent currents from changing too quickly. If $dI/dt$ is large, the inductor will generate a large opposing emf that limits the current. Surge protectors are basically big inductors.\n",
    "\n",
    "Inductors contribute to Kirchhoff's loop rule, just like resistors, capacitors, and batteries do. So we can solve circuits with inductors using techniques similar to what you did in the previous preflight."
   ]
  },
  {
   "cell_type": "code",
   "execution_count": 1,
   "metadata": {},
   "outputs": [],
   "source": [
    "import numpy as np\n",
    "from matplotlib import pyplot as plt"
   ]
  },
  {
   "cell_type": "markdown",
   "metadata": {},
   "source": [
    "## Part 1 (10 points): A simple RL circuit\n",
    "\n",
    "Consider this circuit:\n",
    "\n",
    "<img src=\"http://www-personal.umich.edu/~gerdes/img/LR_DC.jpg\">\n"
   ]
  },
  {
   "cell_type": "markdown",
   "metadata": {},
   "source": [
    "### LaTeX the solution (4 points)\n",
    "At $t=0$ the switch is closed.  Use LaTeX in the cell below to: \n",
    "- Write the loop rule (sum of voltage drops) for this circuit,\n",
    "- Write the solution for the differential equation, $I(t)$, in terms of $V_{\\rm batt}$, R, and L,\n",
    "- Write the expression for the time constant, $\\tau$,\n",
    "- Write the voltage drop across the inductor as a function of time, $V_{L}$, in terms of $V_{\\rm batt}$ and $\\tau$.  Note, $V_{L}=-L\\frac{dI}{dt}$.  This will be useful in modeling the current evolution."
   ]
  },
  {
   "cell_type": "markdown",
   "metadata": {
    "nbgrader": {
     "grade": true,
     "grade_id": "cell-01406401414c8319",
     "locked": false,
     "points": 4,
     "schema_version": 3,
     "solution": true,
     "task": false
    }
   },
   "source": [
    "The loop rule for this circuit reads:\n",
    "$$\n",
    "        V - IR -L\\frac{dI}{dt} = 0.\n",
    "$$\n",
    "This is a first-order differential equation similar to what we encountered earlier for $RC$ circuits. The solution is\n",
    "$$\n",
    "        I(t) = \\frac{V}{R}\\left(1 - e^{-t/\\tau}\\right),\n",
    "$$\n",
    "where \n",
    "$$\n",
    "        \\tau = \\frac{L}{R}\n",
    "$$\n",
    "is the time constant for the circuit (analogous to $RC$ from before). To get the inductor voltage as a function of time, apply the definition from above:\n",
    "$$\n",
    "    V_L = -L\\frac{dI}{dt} = Ve^{-t/\\tau}.\n",
    "$$\n"
   ]
  },
  {
   "cell_type": "markdown",
   "metadata": {},
   "source": [
    "### Create a class to model the RL circuit (2 points)\n",
    "\n",
    "As a check, your LaTeX equations should show that the current starts at zero and exponentially approaches its asymptotic value of $V/R$ (as the inductor approaches the behavior of a wire).  The inductor voltage starts out at $V$ and exponentially decays to zero as the current becomes steady (no change in current means no voltage drop across the inductor).\n",
    "\n",
    "In the cell below, create a class to model the RL circuit.  You may want to refer to the structure from the previous preflight.  Some differences include the fact that there is only one current, the initial current is zero (e.g. the `self.i_now`), and the characteristic timescale `self.tau` is different.\n",
    "\n",
    "One recommendation in updating the now value step is to calculate the voltage drop across the inductor, given the current, then update the current "
   ]
  },
  {
   "cell_type": "code",
   "execution_count": 28,
   "metadata": {
    "nbgrader": {
     "grade": false,
     "grade_id": "cell-c09b769a8d55e1d4",
     "locked": false,
     "schema_version": 3,
     "solution": true,
     "task": false
    }
   },
   "outputs": [],
   "source": [
    "class RLCircuit :\n",
    "    def __init__(self,voltage_battery, resistance, inductance) :\n",
    "        \"\"\"\n",
    "        Parameters\n",
    "        ----------\n",
    "        voltage_battery : float\n",
    "            voltage across battery\n",
    "        resistance : float\n",
    "            value of resistance in ohms\n",
    "        inductance : float \n",
    "            value of inductance in Henries\n",
    "        \"\"\"\n",
    "        \n",
    "        self.voltage_battery = voltage_battery\n",
    "        self.resistance = resistance\n",
    "        self.inductance = inductance\n",
    "        \n",
    "        # Initialize other necessary attributes \n",
    "        ### BEGIN SOLUTION\n",
    "        self.tau = inductance / resistance\n",
    "        self.i_now = 0\n",
    "        self.voltage_L_now = voltage_battery\n",
    "        \n",
    "        # Initialize the relevant\n",
    "        self.i_vals = []\n",
    "        self.vl_vals = []\n",
    "        self.timesteps = np.array([]) \n",
    "        ### END SOLUTION\n",
    "\n",
    "        \n",
    "    def _set_now_vals(self) :\n",
    "        \"\"\"Calculate \"now\" current in terms of other attributes, setting attributes\"\"\"\n",
    "        ### BEGIN SOLUTION\n",
    "        voltage_R = self.i_now*self.resistance\n",
    "        self.voltage_L_now = self.voltage_battery - voltage_R\n",
    "        \n",
    "        self.i_now += self.voltage_L_now/self.inductance * self.dt\n",
    "        ### END SOLUTION\n",
    "        \n",
    "    def _set_timesteps(self, num_timescales, num_timesteps_per_timescale) :        \n",
    "        \"\"\"Internal method. Sets the attributes num_timesteps and dt.\n",
    "        Parameters\n",
    "        ----------\n",
    "        num_timescales : floattimestep \n",
    "            number of timescales to evolve over\n",
    "        num_timesteps_per_timescale : int\n",
    "            number of timesteps per characteristic timescale, defines the time resolution \n",
    "        \"\"\"\n",
    "        \n",
    "        self.dt = self.tau / num_timesteps_per_timescale\n",
    "        print(self.dt)\n",
    "\n",
    "        next_timesteps = np.arange(0, self.tau * num_timescales, self.dt)\n",
    "        print('next_timesteps shape: ',next_timesteps.shape)\n",
    "        try :\n",
    "            last_timestep = self.timesteps[-1]\n",
    "            next_timesteps += last_timestep\n",
    "            self.timesteps = np.concatenate([self.timesteps, next_timesteps])\n",
    "            \n",
    "        except IndexError : \n",
    "            self.timesteps = next_timesteps        \n",
    "\n",
    "    def evolve_circuit(self, num_timescales, num_timesteps_per_timescale) :\n",
    "        \"\"\"Evolve the spring, populate the acceleration, velocity and position (a_vals, v_vals, x_vals)\n",
    "        Parameters\n",
    "        ----------\n",
    "        num_periods : float\n",
    "            number of periods to evolve over\n",
    "        num_timesteps_per_period : int\n",
    "            number of timesteps per period, defines the time resolution         \n",
    "        \"\"\"\n",
    "        \n",
    "        self._set_timesteps(num_timescales, num_timesteps_per_timescale)\n",
    "\n",
    "        # Time evolve the circuit using self._set_now_vals() and store values at each timestep\n",
    "        ### BEGIN SOLUTION\n",
    "        for timestep in np.arange(0, self.tau * num_timescales, self.dt) :\n",
    "            # Populate i_vals and q_vals with current current and charge on capacitor\n",
    "            self.i_vals.append(self.i_now)  \n",
    "            self.vl_vals.append(self.voltage_L_now)\n",
    "            # Update \"now\" values: q_now, and i_now (i_now can be updated with a method)\n",
    "            self._set_now_vals()             \n",
    "        ### END SOLUTION"
   ]
  },
  {
   "cell_type": "code",
   "execution_count": 29,
   "metadata": {
    "nbgrader": {
     "grade": true,
     "grade_id": "cell-a41d7f626ccbd6c1",
     "locked": true,
     "points": 2,
     "schema_version": 3,
     "solution": false,
     "task": false
    }
   },
   "outputs": [
    {
     "name": "stdout",
     "output_type": "stream",
     "text": [
      "0.01\n",
      "next_timesteps shape:  (500,)\n"
     ]
    }
   ],
   "source": [
    "\"\"\"Execute to check you're on the right track\"\"\"\n",
    "test_rl = RLCircuit(10,1,1)\n",
    "test_rl.evolve_circuit(5,100)\n",
    "assert(test_rl.i_vals[0] < test_rl.i_vals[-1])"
   ]
  },
  {
   "cell_type": "markdown",
   "metadata": {},
   "source": [
    "### Create an instance and plot (2 points)\n",
    "Create an instance of `RLCircuit` with the following components:\n",
    "* V = 10 Volts\n",
    "* R = 1 $\\Omega$\n",
    "* L = 1 H\n",
    "\n",
    "Time evolve and plot:\n",
    "* On the same axis: Voltage across the resistor vs. time (in units of $\\tau$) and Voltage across the inductor vs. time.  Note, you may find it useful to store the voltage across the inductor at each timestep, but there are multiple ways to do this.\n",
    "* On the same axis: Power delivered to the resistor vs. time and power delivered to the inductor vs. time (in units of $\\tau$). Recall that $P = IV$. "
   ]
  },
  {
   "cell_type": "code",
   "execution_count": 30,
   "metadata": {
    "nbgrader": {
     "grade": true,
     "grade_id": "cell-8b2ef77437a9350f",
     "locked": false,
     "points": 2,
     "schema_version": 3,
     "solution": true,
     "task": false
    }
   },
   "outputs": [
    {
     "name": "stdout",
     "output_type": "stream",
     "text": [
      "0.01\n",
      "next_timesteps shape:  (500,)\n"
     ]
    },
    {
     "data": {
      "text/plain": [
       "Text(0.5, 0, 'Time [$\\\\tau=L/R$]')"
      ]
     },
     "execution_count": 30,
     "metadata": {},
     "output_type": "execute_result"
    },
    {
     "data": {
      "image/png": "[encoded data removed]",
      "text/plain": [
       "<Figure size 864x432 with 2 Axes>"
      ]
     },
     "metadata": {
      "needs_background": "light"
     },
     "output_type": "display_data"
    }
   ],
   "source": [
    "rl = RLCircuit(10,1,1)\n",
    "rl.evolve_circuit(5,100)\n",
    "\n",
    "fig, (ax1,ax2) = plt.subplots(1,2,figsize=(12,6))\n",
    "# Plot voltage\n",
    "ax1.plot(rl.timesteps/rl.tau, rl.i_vals * rl.resistance, label='$V_R$')\n",
    "ax1.plot(rl.timesteps/rl.tau, rl.vl_vals, label='$V_R$')\n",
    "ax1.set_ylabel('Voltage Drop [V]',fontsize='xx-large')\n",
    "ax1.legend(fontsize='xx-large')\n",
    "\n",
    "# Plot power\n",
    "ax2.plot(rl.timesteps/rl.tau, np.array(rl.i_vals)**2 * rl.resistance, label=\"$P_R$\")\n",
    "ax2.plot(rl.timesteps/rl.tau, np.array(rl.i_vals) * np.array(rl.vl_vals), label=\"$P_L$\")\n",
    "ax2.set_ylabel('Power [W]', fontsize='xx-large')\n",
    "ax2.legend(fontsize='xx-large')\n",
    "ax2.set_xlabel('Time [$\\\\tau=L/R$]', fontsize='xx-large')"
   ]
  },
  {
   "cell_type": "markdown",
   "metadata": {},
   "source": [
    "### Open questions (2 points) :\n",
    "\n",
    "<b>Answer</b> the following questions:\n",
    "* At what time (in units of $\\tau$) is the maximum power being delivered to the inductor? \n",
    "* What is the total energy $U$ delivered to the inductor? Recall, when discretizing, power at a given timestep is energy per unit time.  Multiplying by the timestep size gives the energy over a single timestep.  \n",
    "* If you change $L$ while holding $R$ constant, how does $U$ change? \n",
    "* If you change $R$ while holding $L$ constant, how does $U$ change?\n",
    "* If you simultaneously double $R$ and $L$, you get a circuit with the same time constant as before. Is this new circuit equivalent to your original one?"
   ]
  },
  {
   "cell_type": "markdown",
   "metadata": {
    "nbgrader": {
     "grade": true,
     "grade_id": "cell-b55e989d979c7901",
     "locked": false,
     "points": 2,
     "schema_version": 3,
     "solution": true,
     "task": false
    }
   },
   "source": [
    "-  Peak power is delivered to the inductor at 0.693$\\tau$, which is $(\\ln 2)\\tau$. \n",
    "-  Total energy as calculated by my code is $U = \\int P_L\\, dt = 49.3$ J using the default numbers given.\n",
    "-  For fixed $R$, $U$ depends linearly on $L$.\n",
    "-  For fixed $L$, $U$ scales like $1/R^2$.\n",
    "-  The circuit with $2R$, $2L$ has the same time constant, but delivers different amounts of power to the components. Also, the asymptotic value of the current will be $V/(2R)$ instead of $V/R$."
   ]
  }
 ],
 "metadata": {
  "celltoolbar": "Create Assignment",
  "kernelspec": {
   "display_name": "Python 3",
   "language": "python",
   "name": "python3"
  },
  "language_info": {
   "codemirror_mode": {
    "name": "ipython",
    "version": 3
   },
   "file_extension": ".py",
   "mimetype": "text/x-python",
   "name": "python",
   "nbconvert_exporter": "python",
   "pygments_lexer": "ipython3",
   "version": "3.8.5"
  }
 },
 "nbformat": 4,
 "nbformat_minor": 2
}

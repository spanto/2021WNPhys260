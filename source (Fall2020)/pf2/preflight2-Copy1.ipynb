{
 "cells": [
  {
   "cell_type": "markdown",
   "metadata": {},
   "source": [
    "# Phys 260 Python Lab 2: Numpy tools for vectorized actions"
   ]
  },
  {
   "cell_type": "markdown",
   "metadata": {},
   "source": [
    "# Introduction -- Reminder\n",
    "\n",
    "Each Python lab will start with a pre-flight exercise that walks through building some of the set up and tools ($\\sim$ 30 min), followed by an in-class tutorial with time for Q+A (50 min) so you can walk through steps that will be necessary for the homework assignment you will submit ($\\sim$ 3 hrs).  Each lab will contain starter code, similar to what you see below.  Please fill in the code to complete the pre-flight assignment in preparation for the in-class tutorial.  \n",
    "\n",
    "Preflight ($\\sim$30-60 min, 10 points) **Typically due: Thursdays 3pm EST**\n",
    "\n",
    "*Preflight typically graded by Wednesday 5p EST*\n",
    "\n",
    "In-class tutorial and Q+A ($\\sim$ 50 min, 10 points) **Typically occurs: Fridays EST**\n",
    "\n",
    "Homework assignment ($\\sim$ 3-5 hrs, 30 points) **Typically due: Tuesdays 12pm EST**  \n",
    "\n",
    "\n",
    "When we grade your homework, we will not run your code. Once submitted, your notebook should have the outputs for all of your results.  Please do not include long outputs from debugging, beyond a few print statements and the requested visualimzations (i.e. plots).\n",
    "\n",
    "**Grading:** When we grade your notebook, we will convert the .ipynb file to an HTML file.  We will be using [nbgrader](https://nbgrader.readthedocs.io/en/stable/) to grade your notebooks.  **Note:** Execute the cell below (click in the cell and press shift+enter, or click in the cell and press the Run button) to check that you are using a version of python that is compatible with the tool we are using to grade your assignments.  If your ```IPython``` version is too old, we will *not* be able to grade your assignments.\n"
   ]
  },
  {
   "cell_type": "markdown",
   "metadata": {},
   "source": [
    "## Preflight summary\n",
    "- Brief review of creating arrays\n",
    "- Creating an (n,m,...) shaped array and examining the contents (2 points)\n",
    "- Example of array operations using explicit power notation and a logarithm. (2 points)\n",
    "- Calculate the electric field in a vectorized fashion (loop vs. one-liner!). (3 points)\n",
    "- Calculate efield magnitude with different dimensions (1 point)\n",
    "- Quiver plot (1 points) "
   ]
  },
  {
   "cell_type": "code",
   "execution_count": 37,
   "metadata": {},
   "outputs": [],
   "source": [
    "# Import relevant modules\n",
    "import numpy as np\n",
    "from matplotlib import pyplot as plt\n",
    "from mpl_toolkits.mplot3d import Axes3D"
   ]
  },
  {
   "cell_type": "markdown",
   "metadata": {},
   "source": [
    "## Brief review of creating arrays\n",
    "\n",
    "Numpy arrays are simply a grid of values, which are 0-indexed.  There are a number of ways to create a numpy array.  Below, we show: \n",
    "- Creating a numpy array from a list\n",
    "- Creating a numpy array using `arange`\n",
    "- Creating a numpy array using `linspace`\n",
    "\n",
    "These are all shape (n,), essentially 1-d arrays."
   ]
  },
  {
   "cell_type": "code",
   "execution_count": 38,
   "metadata": {},
   "outputs": [
    {
     "name": "stdout",
     "output_type": "stream",
     "text": [
      "array from list:  [ 0.5  1.   0.  20. ]\n",
      "shape:  (4,)\n",
      "array from arange:  [1.  1.5 2.  2.5 3.  3.5 4.  4.5 5.  5.5 6.  6.5 7.  7.5 8.  8.5 9.  9.5]\n",
      "shape:  (18,)\n",
      "array from linspace:  [ 1.          1.47368421  1.94736842  2.42105263  2.89473684  3.36842105\n",
      "  3.84210526  4.31578947  4.78947368  5.26315789  5.73684211  6.21052632\n",
      "  6.68421053  7.15789474  7.63157895  8.10526316  8.57894737  9.05263158\n",
      "  9.52631579 10.        ]\n",
      "shape:  (20,)\n"
     ]
    }
   ],
   "source": [
    "# Manually input a list of values and enclose in np.array()\n",
    "test_list = [0.5, 1, 0, 20]\n",
    "array_from_list = np.array(test_list)\n",
    "print(\"array from list: \",array_from_list)\n",
    "print(\"shape: \", array_from_list.shape)\n",
    "\n",
    "# Use a numpy function to generate a certain kind of array\n",
    "array_from_arange = np.arange(1, 10, 0.5)\n",
    "print(\"array from arange: \", array_from_arange)\n",
    "print(\"shape: \", array_from_arange.shape)\n",
    "\n",
    "array_from_linspace = np.linspace(1,10,20)\n",
    "print(\"array from linspace: \", array_from_linspace)\n",
    "print(\"shape: \", array_from_linspace.shape)"
   ]
  },
  {
   "cell_type": "markdown",
   "metadata": {},
   "source": [
    "## Creating an (n,m,...) shaped array and examining the contents (2 points)\n",
    "With the numpy function `meshgrid`, we can also create shape (n,m,...) arrays.  In homework/tutorial 1, we created arrays that were (2,2,2) and (10,10,10), all 3-d arrays sampling space in a **cube**.  Below, we review creating the (2,2,2) array that samples a meshgrid, and take a look at how to create a (3,2,2) array sampling a 3-d meshgrid that is a **rectangular prism** instead of a cube. "
   ]
  },
  {
   "cell_type": "code",
   "execution_count": 39,
   "metadata": {},
   "outputs": [
    {
     "name": "stdout",
     "output_type": "stream",
     "text": [
      "sample_points_cube shape:  (2,)\n",
      "x coordinates of points in cube: \n",
      " [[[-1. -1.]\n",
      "  [-1. -1.]]\n",
      "\n",
      " [[ 1.  1.]\n",
      "  [ 1.  1.]]]\n",
      "\n",
      " shape of x coordinates (2, 2, 2)\n",
      "\n",
      " sample_points_prism_x:  (3,)\n",
      "\n",
      " x coordinates of points in cube: \n",
      " [[[-1. -1.]\n",
      "  [-1. -1.]]\n",
      "\n",
      " [[ 0.  0.]\n",
      "  [ 0.  0.]]\n",
      "\n",
      " [[ 1.  1.]\n",
      "  [ 1.  1.]]]\n",
      "\n",
      " shape of x coordinates (3, 2, 2)\n"
     ]
    }
   ],
   "source": [
    "# Setting up points in a cube\n",
    "sample_points_cube = np.linspace(-1,1,num=2)\n",
    "print(\"sample_points_cube shape: \", sample_points_cube.shape)\n",
    "cube_points_x, cube_points_y, cube_points_z = np.meshgrid(sample_points_cube, \n",
    "                                                          sample_points_cube, \n",
    "                                                          sample_points_cube, \n",
    "                                                          indexing='ij')\n",
    "print(\"x coordinates of points in cube: \\n\", cube_points_x)\n",
    "print(\"\\n shape of x coordinates\", cube_points_x.shape)\n",
    "\n",
    "# Setting up points in a rectangular prism\n",
    "sample_points_prism_x = np.linspace(-1,1,num=3)\n",
    "print(\"\\n sample_points_prism_x: \", sample_points_prism_x.shape)\n",
    "prism_points_x, prism_points_y, prism_points_z = np.meshgrid(sample_points_prism_x, \n",
    "                                                             sample_points_cube, \n",
    "                                                             sample_points_cube, \n",
    "                                                             indexing='ij')\n",
    "print(\"\\n x coordinates of points in cube: \\n\", prism_points_x)\n",
    "print(\"\\n shape of x coordinates\", prism_points_x.shape)"
   ]
  },
  {
   "cell_type": "markdown",
   "metadata": {},
   "source": [
    "**Explain:** \n",
    "- How many points sample the cube (how might you find this out)? What would you have to change for there to be 27 points sampling the cube? (1 point)\n",
    "- How many points sample the prism?  What happens if you change the kwarg `indexing='ij'` to `indexing='xy'`? (1 point)\n"
   ]
  },
  {
   "cell_type": "markdown",
   "metadata": {
    "nbgrader": {
     "grade": true,
     "grade_id": "PF_3D_Array_Questionss",
     "locked": false,
     "points": 2,
     "schema_version": 3,
     "solution": true,
     "task": false
    }
   },
   "source": [
    "- There are 8 points that sample the cube, we can find this out with cube_points_x.size.  We can change `num=2` to `num=3` to get 27 points.\n",
    "- There are 18 points that sample the prism.  If we change the kwarge `indexing`, the placement of the length 3 axis (x coordinates) changes.  "
   ]
  },
  {
   "cell_type": "markdown",
   "metadata": {},
   "source": [
    "## Array operations (2 points)\n",
    "\n",
    "Let us start with a simple example, similar to what you saw at the end of the first preflight.  First, let's define the variable, `base_array` using `np.arange`, starting at 1, stopping at 10.5 in steps of 0.5 (recall, `np.arange` will not include the stopping point)."
   ]
  },
  {
   "cell_type": "code",
   "execution_count": 40,
   "metadata": {
    "nbgrader": {
     "grade": false,
     "grade_id": "cell-e87192e148072856",
     "locked": false,
     "schema_version": 3,
     "solution": true,
     "task": false
    }
   },
   "outputs": [],
   "source": [
    "# Define base_array below\n",
    "### BEGIN SOLUTION\n",
    "base_array = np.arange(1,10.5,0.5)\n",
    "### END SOLUTION"
   ]
  },
  {
   "cell_type": "code",
   "execution_count": 41,
   "metadata": {
    "nbgrader": {
     "grade": true,
     "grade_id": "PF_arange",
     "locked": true,
     "points": 1,
     "schema_version": 3,
     "solution": false,
     "task": false
    }
   },
   "outputs": [],
   "source": [
    "\"\"\"Execute this to test that you have properly defined base_array\"\"\"\n",
    "assert(base_array[0]==1)\n",
    "### BEGIN HIDDEN TESTS\n",
    "assert((base_array==np.arange(1,10.5,0.5)).all())\n",
    "### END HIDDEN TESTS"
   ]
  },
  {
   "cell_type": "markdown",
   "metadata": {},
   "source": [
    "Next, let us create a new array that contains each element of `base_array` cubed.  There are two ways to do this.  I will show you the less-efficient way below, and you will execute the more efficient way on your own.  There are four steps to this less efficient way:\n",
    "- Create an empty list, `powered_list_from_loop`.  This is where we will collect the value of each `base_array` element raised to the third power.\n",
    "- Create a `for` loop to iterate over each `base_array` element, which we will call `base_value`.\n",
    "- In the `for` loop, set the variable `powered_value` equal to `base_value` to the third power. \n",
    "- Still in the `for` loop, append the `powered_value` to the list `powered_list_from_loop`.\n",
    "- After exiting the `for` loop, create an array, `powered_array_from_loop`,  out of the list `powered_list_from_loop`."
   ]
  },
  {
   "cell_type": "code",
   "execution_count": 42,
   "metadata": {},
   "outputs": [
    {
     "name": "stdout",
     "output_type": "stream",
     "text": [
      "[   1.       3.375    8.      15.625   27.      42.875   64.      91.125\n",
      "  125.     166.375  216.     274.625  343.     421.875  512.     614.125\n",
      "  729.     857.375 1000.   ]\n"
     ]
    }
   ],
   "source": [
    "# Create an empty array where we will collect the powered values\n",
    "powered_list_from_loop = []\n",
    "\n",
    "# Looping over each value in base_array\n",
    "for base_value in base_array :\n",
    "    # set powered_value equal to base_value cubed\n",
    "    powered_value = base_value**3\n",
    "    \n",
    "    # Append powered_value to the list\n",
    "    powered_list_from_loop.append(powered_value)\n",
    "    \n",
    "# Create an array from a list    \n",
    "powered_array_from_loop = np.array(powered_list_from_loop)\n",
    "    \n",
    "print(powered_array_from_loop)"
   ]
  },
  {
   "cell_type": "markdown",
   "metadata": {},
   "source": [
    "Now, **define a variable**, `powered_array` that is the cube of each value in `base_array`, but do this in one step.  Recall, raising something to a power uses two asterisks, \\*\\*"
   ]
  },
  {
   "cell_type": "code",
   "execution_count": 43,
   "metadata": {
    "nbgrader": {
     "grade": false,
     "grade_id": "cell-50e1afd860f0a3e6",
     "locked": false,
     "schema_version": 3,
     "solution": true,
     "task": false
    }
   },
   "outputs": [
    {
     "name": "stdout",
     "output_type": "stream",
     "text": [
      "[   1.       3.375    8.      15.625   27.      42.875   64.      91.125\n",
      "  125.     166.375  216.     274.625  343.     421.875  512.     614.125\n",
      "  729.     857.375 1000.   ]\n"
     ]
    }
   ],
   "source": [
    "# Define powered_array here\n",
    "\n",
    "### BEGIN SOLUTION\n",
    "powered_array = base_array**3\n",
    "### END SOLUTION\n",
    "\n",
    "print(powered_array)"
   ]
  },
  {
   "cell_type": "code",
   "execution_count": 44,
   "metadata": {
    "nbgrader": {
     "grade": true,
     "grade_id": "PF_cubed_array",
     "locked": true,
     "points": 1,
     "schema_version": 3,
     "solution": false,
     "task": false
    }
   },
   "outputs": [],
   "source": [
    "\"\"\"Execute this cell to check that your solution is on the right track\"\"\"\n",
    "assert(powered_array[0] == powered_array_from_loop[0])\n",
    "### BEGIN HIDDEN TESTS\n",
    "assert((powered_array == powered_array_from_loop).all())\n",
    "### END HIDDEN TESTS"
   ]
  },
  {
   "cell_type": "markdown",
   "metadata": {},
   "source": [
    "Here are some other [array operations](https://problemsolvingwithpython.com/05-NumPy-and-Arrays/05.07-Array-Opperations/) you can do.  Output the base 10 log of of `powered_array` in one line. (Note: the last element is 3, because we just did $10^3$, then took the base 10 log of that.)"
   ]
  },
  {
   "cell_type": "code",
   "execution_count": 45,
   "metadata": {},
   "outputs": [
    {
     "data": {
      "text/plain": [
       "array([0.        , 0.52827378, 0.90308999, 1.19382003, 1.43136376,\n",
       "       1.63220413, 1.80617997, 1.95963754, 2.09691001, 2.22108807,\n",
       "       2.33445375, 2.43874007, 2.53529412, 2.62518379, 2.70926996,\n",
       "       2.78825678, 2.86272753, 2.93317082, 3.        ])"
      ]
     },
     "execution_count": 45,
     "metadata": {},
     "output_type": "execute_result"
    }
   ],
   "source": [
    "# Output the base 10 log here\n",
    "\n",
    "np.log10(powered_array)\n"
   ]
  },
  {
   "cell_type": "markdown",
   "metadata": {},
   "source": [
    "## Calculating the electric field in a vectorized fashion (3 points)\n",
    "\n",
    "In the first tutorial/hw, we calculated the electric field at a single point in the field due to a point charge.  To find the electric field at all points we sampled in the field (i.e. the meshgrid), we ended up doing a big loop where we effectively found the euclidean distance between the charge position and each point in the meshgrid.  \n",
    "\n",
    "```\n",
    "### THIS IS WHAT WE DID IN TUTORIAL/HW 1\n",
    "\n",
    "# Create an empty list to collect the electric field at each field position\n",
    "efield_list = []\n",
    "\n",
    "charge_position = np.array([0,0,0])\n",
    "\n",
    "# Loop over all points in the meshgrid\n",
    "for x, y, z in zip(np.ravel(xarray), np.ravel(yarray), np.ravel(zarray)) :\n",
    "    field_position = np.array([x,y,z])\n",
    "    print(\"Calculating efield at: \", field_position)\n",
    "    \n",
    "    # Calculate the electric field at each point\n",
    "    efield_at_point = calculate_efield_at_point(charge_position, field_position, q=1) \n",
    "    print(\"efield is: \", efield_at_point)\n",
    "    \n",
    "    # Append the electric field to a list\n",
    "    efield_list.append(efield_at_point)\n",
    "    \n",
    "efield_vectors = np.array(efield_list)\n",
    "    \n",
    "```\n",
    "\n",
    "Note the parallels between this and the earlier exercise of the preflight.  We will do a similar thing, but will use the `apply_along_axis` function of numpy to do this *all in one line*.   \n",
    "\n",
    "First, **define your meshgrid points** the same way we did in tutorial/hw 1.\n",
    "\n",
    "```\n",
    "num_points_1d = 2\n",
    "sample_points = np.linspace(-1, 1, num=num_points_1d)\n",
    "xarray, yarray, zarray = np.meshgrid(sample_points, sample_points, sample_points, indexing='ij')\n",
    "```"
   ]
  },
  {
   "cell_type": "code",
   "execution_count": 67,
   "metadata": {
    "nbgrader": {
     "grade": false,
     "grade_id": "cell-0c0bb8b1995fda5c",
     "locked": false,
     "schema_version": 3,
     "solution": true,
     "task": false
    }
   },
   "outputs": [],
   "source": [
    "#  Define your meshgrid points here\n",
    "### BEGIN SOLUTION\n",
    "num_points_1d = 50\n",
    "sample_points = np.linspace(-1, 1, num=num_points_1d)\n",
    "xarray, yarray, zarray = np.meshgrid(sample_points, sample_points, sample_points, indexing='ij')\n",
    "### END SOLUTION"
   ]
  },
  {
   "cell_type": "code",
   "execution_count": 68,
   "metadata": {
    "nbgrader": {
     "grade": true,
     "grade_id": "PF_efield_define_array",
     "locked": true,
     "points": 1,
     "schema_version": 3,
     "solution": false,
     "task": false
    }
   },
   "outputs": [],
   "source": [
    "\"\"\"Execute this cell to check that your sample points and meshgrid points are defined correctly\"\"\"\n",
    "assert((sample_points == np.linspace(-1,1,num_points_1d)).all())\n",
    "assert(xarray[0][0][0]==-1)\n",
    "assert(yarray[0][0][0]==-1)\n",
    "assert(zarray[0][0][0]==-1)\n",
    "\n",
    "### BEGIN HIDDEN TESTS\n",
    "xtest, ytest, ztest = np.meshgrid(sample_points, sample_points, sample_points, indexing='ij')\n",
    "assert((xtest==xarray).all())\n",
    "assert((ytest==yarray).all())\n",
    "assert((ztest==zarray).all())\n",
    "### END HIDDEN TESTS"
   ]
  },
  {
   "cell_type": "markdown",
   "metadata": {},
   "source": [
    "Let us now create one big array with all points in the meshgrid:\n",
    "```\n",
    "points_in_meshgrid = np.array([xarray, yarray, zarray])\n",
    "```\n",
    "Print out the shape of this new array that you created."
   ]
  },
  {
   "cell_type": "code",
   "execution_count": 69,
   "metadata": {
    "nbgrader": {
     "grade": false,
     "grade_id": "cell-930ddee173aa1aa3",
     "locked": false,
     "schema_version": 3,
     "solution": true,
     "task": false
    }
   },
   "outputs": [
    {
     "name": "stdout",
     "output_type": "stream",
     "text": [
      "(3, 50, 50, 50)\n"
     ]
    }
   ],
   "source": [
    "# Define points_in_meshgrid below\n",
    "### BEGIN SOLUTION\n",
    "points_in_meshgrid = np.array([xarray, yarray, zarray])\n",
    "### END SOLUTION\n",
    "print(points_in_meshgrid.shape)"
   ]
  },
  {
   "cell_type": "code",
   "execution_count": 70,
   "metadata": {
    "nbgrader": {
     "grade": true,
     "grade_id": "PF_points_in_meshgrid",
     "locked": true,
     "points": 1,
     "schema_version": 3,
     "solution": false,
     "task": false
    }
   },
   "outputs": [],
   "source": [
    "\"\"\"Execute this cell to check that you've properly defined points_in_meshgrid\"\"\"\n",
    "assert(points_in_meshgrid.shape == (3,num_points_1d,num_points_1d,num_points_1d))"
   ]
  },
  {
   "cell_type": "markdown",
   "metadata": {},
   "source": [
    "You'll notice that this is now a 4-d array.  The first dimension corresponds to the number of axes (i.e. x, y, and z means there are three axes). The next 3 dimensions correspond to values of x, y, and z coordinates.  Equivalently, we could have directly defined `points_in_meshgrid`,\n",
    "```\n",
    "direct_points_in_meshgrid = np.array(np.meshgrid(sample_points, sample_points, sample_points, indexing='ij'))\n",
    "```\n",
    "Define the above in the cell below, and print its shape."
   ]
  },
  {
   "cell_type": "code",
   "execution_count": 71,
   "metadata": {
    "nbgrader": {
     "grade": false,
     "grade_id": "cell-d38dfe3fec03bfe2",
     "locked": false,
     "schema_version": 3,
     "solution": true,
     "task": false
    }
   },
   "outputs": [
    {
     "name": "stdout",
     "output_type": "stream",
     "text": [
      "(3, 50, 50, 50)\n"
     ]
    }
   ],
   "source": [
    "#  Define direct_points_in_meshgrid here, and print the shape\n",
    "### BEGIN SOLUTION\n",
    "direct_points_in_meshgrid = np.array(np.meshgrid(sample_points, sample_points, sample_points, indexing='ij'))\n",
    "### END SOLUTION\n",
    "print(direct_points_in_meshgrid.shape)"
   ]
  },
  {
   "cell_type": "code",
   "execution_count": 72,
   "metadata": {
    "nbgrader": {
     "grade": true,
     "grade_id": "PF_direct_points_in_meshgrid",
     "locked": true,
     "points": 1,
     "schema_version": 3,
     "solution": false,
     "task": false
    }
   },
   "outputs": [],
   "source": [
    "\"\"\"Execute this cell to check that you have done the above cell correctly\"\"\"\n",
    "assert((direct_points_in_meshgrid[0] == xarray).all() )"
   ]
  },
  {
   "cell_type": "markdown",
   "metadata": {},
   "source": [
    "Next, we use the same function from the tutorial/hw to calculate the efield at a single field point, but we switch `field_position` with `charge_position` in the order of function arguments.  This is because field position is what gets varied over the entire `points_in_meshgrid`, and we want that to be the first argument of `calculate_efield_at_point`.  Also, let us set `k=1` to simplify visualizations in plots."
   ]
  },
  {
   "cell_type": "code",
   "execution_count": 73,
   "metadata": {},
   "outputs": [],
   "source": [
    "def calculate_efield_at_point(field_position, charge_position, q=1) :\n",
    "    '''Return the electric field due to a point charge.\n",
    "    \n",
    "    Inputs:\n",
    "    field_position (n-darray) : x, y, and z position vector of a field point\n",
    "    charge_position (n-darray) : x, y, and z position vector of a charge point\n",
    "    q (float or int) : charge of the point\n",
    "    Outputs:\n",
    "    vector_efield (n-darray) : x, y, z components of the e-field at the point field_position\n",
    "    '''\n",
    "    \n",
    "    k = 1 # A choice to simplify plots\n",
    "    \n",
    "    r = field_position-charge_position\n",
    "    r_magnitude = np.linalg.norm(field_position-charge_position)\n",
    "    r_unit = r/r_magnitude\n",
    "    \n",
    "    return k*q / r_magnitude**2 * r_unit"
   ]
  },
  {
   "cell_type": "markdown",
   "metadata": {},
   "source": [
    "With a `charge_position` at the origin, we now calculate `efield_vectors` all in a single line with `apply_along_axis`, see [documentation](https://numpy.org/doc/stable/reference/generated/numpy.apply_along_axis.html),  \n",
    "```\n",
    "efield_vectors = np.apply_along_axis(calculate_efield_at_point, 0, points_in_meshgrid, charge_position)\n",
    "```\n",
    "the second argument corresponds to the axis along which we apply `calculate_efield_at_point`.  However, our resulting array will have a different shape than when we did it in the loop (n,n,n,3) vs. (3,n,n,n). We will have to take this into account."
   ]
  },
  {
   "cell_type": "code",
   "execution_count": 74,
   "metadata": {
    "nbgrader": {
     "grade": false,
     "grade_id": "cell-084f73b178a18f7b",
     "locked": false,
     "schema_version": 3,
     "solution": true,
     "task": false
    }
   },
   "outputs": [
    {
     "name": "stdout",
     "output_type": "stream",
     "text": [
      "(3, 50, 50, 50)\n"
     ]
    }
   ],
   "source": [
    "charge_position = np.array([0,0,0])\n",
    "\n",
    "# Define efield_vectors below\n",
    "### BEGIN SOLUTION\n",
    "efield_vectors = np.apply_along_axis(calculate_efield_at_point, 0, \n",
    "                                     points_in_meshgrid, charge_position)\n",
    "### END SOLUTION\n",
    "print(efield_vectors.shape)"
   ]
  },
  {
   "cell_type": "code",
   "execution_count": 54,
   "metadata": {
    "nbgrader": {
     "grade": true,
     "grade_id": "PF_apply_along_axis_check",
     "locked": true,
     "points": 1,
     "schema_version": 3,
     "solution": false,
     "task": false
    }
   },
   "outputs": [
    {
     "data": {
      "text/plain": [
       "(64,)"
      ]
     },
     "execution_count": 54,
     "metadata": {},
     "output_type": "execute_result"
    }
   ],
   "source": [
    "\"\"\"Execute this to check that you've run the correct code\"\"\"\n",
    "assert(efield_vectors.shape == (3,num_points_1d,num_points_1d,num_points_1d))\n",
    "efield_vectors[0].ravel().shape\n",
    "xarray.ravel().shape"
   ]
  },
  {
   "cell_type": "markdown",
   "metadata": {},
   "source": [
    "##  Calculate the efield magnitude (1 point)\n",
    "Similar to the tutorial/hw 1, we calculate the `efield_magnitude` using `np.linalg.norm`.  We will later use this in a visualization.  First, we have to account for the different shapes.  In the loop, the x, y, z axes varied over the last dimension.  Now, it varies over the first dimension, so the shape is (3,n,n,n).  Note, the axis we take the magnitude over is now the 0th axis (i.e. an $x^2+y^2+z^2$ over each of the points).  So, we will want to calculate the magnitude (norm) of efield_vectors, across the 0th axis,\n",
    "```\n",
    "np.linalg.norm(efield_vectors, axis=0)\n",
    "```"
   ]
  },
  {
   "cell_type": "code",
   "execution_count": 75,
   "metadata": {
    "nbgrader": {
     "grade": false,
     "grade_id": "cell-d43e919f5409d14c",
     "locked": false,
     "schema_version": 3,
     "solution": true,
     "task": false
    }
   },
   "outputs": [
    {
     "name": "stdout",
     "output_type": "stream",
     "text": [
      "Vectors have shape (3, 50, 50, 50)\n",
      "Magnitude has shape (50, 50, 50)\n"
     ]
    }
   ],
   "source": [
    "# Define the efield_magnitude in this cell.\n",
    "print(\"Vectors have shape\", efield_vectors.shape)\n",
    "\n",
    "### BEGIN SOLUTION\n",
    "efield_magnitude = np.linalg.norm(efield_vectors, axis=0)\n",
    "### END SOLUTION\n",
    "\n",
    "print(\"Magnitude has shape\", efield_magnitude.shape)"
   ]
  },
  {
   "cell_type": "code",
   "execution_count": 76,
   "metadata": {
    "nbgrader": {
     "grade": true,
     "grade_id": "PF_efield_magnitude",
     "locked": true,
     "points": 1,
     "schema_version": 3,
     "solution": false,
     "task": false
    }
   },
   "outputs": [
    {
     "name": "stdout",
     "output_type": "stream",
     "text": [
      "[-0.19245009 -0.19245009 -0.19245009]\n"
     ]
    }
   ],
   "source": [
    "\"\"\"Execute this cell to check that your efield_magnitude has been properly defined\"\"\"\n",
    "print(efield_vectors[:,0,0,0])\n",
    "assert(efield_magnitude[0][0][0] == np.linalg.norm(efield_vectors[:,0,0,0], axis=0))"
   ]
  },
  {
   "cell_type": "markdown",
   "metadata": {},
   "source": [
    "## Visualize with quiver (1 point)\n",
    "\n",
    "Similar to tutorial/hw1, we visualize the vector field with quiver.  Let's ravel everything (ravel the xarray, yarray, efield_vectors[0], efield_vectors[1]) so we don't have to worry about aligned shape.  You can do this since `ravel` is a *method* of any numpy array, and all of these are numpy arrays. Or, you can use the function `np.ravel`.  See [documentation](https://numpy.org/doc/stable/reference/generated/numpy.ravel.html). \n",
    "\n",
    "Then, go back to where we define `num_points_1d` and change that value to 4.  Run all cells after."
   ]
  },
  {
   "cell_type": "code",
   "execution_count": 66,
   "metadata": {
    "nbgrader": {
     "grade": true,
     "grade_id": "PF_quiver_plot",
     "locked": false,
     "points": 1,
     "schema_version": 3,
     "solution": true,
     "task": false
    }
   },
   "outputs": [
    {
     "data": {
      "text/plain": [
       "Text(0.5, 0.92, 'E Field of Point Charge')"
      ]
     },
     "execution_count": 66,
     "metadata": {},
     "output_type": "execute_result"
    },
    {
     "data": {
      "image/png": "[encoded data removed]",
      "text/plain": [
       "<Figure size 576x576 with 1 Axes>"
      ]
     },
     "metadata": {
      "needs_background": "light"
     },
     "output_type": "display_data"
    }
   ],
   "source": [
    "# Use quiver here\n",
    "#  Plot the vector field using the quiver method\n",
    "\n",
    "fig = plt.figure(figsize=(8,8))\n",
    "\n",
    "ax1 = fig.add_subplot(111, projection = '3d')\n",
    "\n",
    "### BEGIN SOLUTION\n",
    "ax1.quiver(xarray.ravel(), yarray.ravel(),zarray.ravel(),\n",
    "           efield_vectors[0].ravel(), \n",
    "           efield_vectors[1].ravel(), efield_vectors[2].ravel(),\n",
    "           pivot='middle', color='k', length = 0.2, normalize = False)\n",
    "### END SOLUTION\n",
    "\n",
    "ax1.set_xlabel('x (meters)')\n",
    "ax1.set_ylabel('y (meters)')\n",
    "ax1.set_zlabel('z (meters)')\n",
    "ax1.set_title('E Field of Point Charge', fontsize=16)"
   ]
  },
  {
   "cell_type": "code",
   "execution_count": 114,
   "metadata": {},
   "outputs": [
    {
     "data": {
      "text/plain": [
       "Text(0.5, 1.0, '$E_z$')"
      ]
     },
     "execution_count": 114,
     "metadata": {},
     "output_type": "execute_result"
    },
    {
     "data": {
      "image/png": "[encoded data removed]",
      "text/plain": [
       "<Figure size 1152x576 with 3 Axes>"
      ]
     },
     "metadata": {
      "needs_background": "light"
     },
     "output_type": "display_data"
    }
   ],
   "source": [
    "fig = plt.figure(figsize=(16,8))\n",
    "\n",
    "ax1 = fig.add_subplot(131)\n",
    "ax2 = fig.add_subplot(132)\n",
    "ax3 = fig.add_subplot(133)\n",
    "\n",
    "col = 20;\n",
    "scl = 1;\n",
    "max_field = np.abs(np.max(efield_vectors[:,:,:,col]))\n",
    "\n",
    "### BEGIN SOLUTION\n",
    "ax1.imshow(efield_vectors[0,:,:,col],cmap='RdBu',vmin=-max_field/scl, vmax = max_field/scl)\n",
    "ax2.imshow(efield_vectors[1,:,:,col],cmap='RdBu',vmin=-max_field/scl, vmax = max_field/scl)\n",
    "ax3.imshow(efield_vectors[2,:,:,col],cmap='RdBu',vmin=-max_field/scl, vmax = max_field/scl)\n",
    "### END SOLUTION\n",
    "\n",
    "ax1.set_xlabel('x (meters)')\n",
    "ax1.set_ylabel('y (meters)')\n",
    "ax1.set_title('$E_x$', fontsize=16)\n",
    "ax2.set_xlabel('x (meters)')\n",
    "ax2.set_ylabel('y (meters)')\n",
    "ax2.set_title('$E_y$', fontsize=16)\n",
    "ax3.set_xlabel('x (meters)')\n",
    "ax3.set_ylabel('y (meters)')\n",
    "ax3.set_title('$E_z$', fontsize=16)\n",
    "\n",
    "\n"
   ]
  }
 ],
 "metadata": {
  "celltoolbar": "Create Assignment",
  "kernelspec": {
   "display_name": "Python 3",
   "language": "python",
   "name": "python3"
  },
  "language_info": {
   "codemirror_mode": {
    "name": "ipython",
    "version": 3
   },
   "file_extension": ".py",
   "mimetype": "text/x-python",
   "name": "python",
   "nbconvert_exporter": "python",
   "pygments_lexer": "ipython3",
   "version": "3.8.3"
  }
 },
 "nbformat": 4,
 "nbformat_minor": 2
}

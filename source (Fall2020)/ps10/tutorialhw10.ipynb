{
 "cells": [
  {
   "cell_type": "markdown",
   "metadata": {},
   "source": [
    "# Introduction -- Reminder\n",
    "\n",
    "Each Python lab will start with a pre-flight exercise that walks through building some of the set up and tools ($\\sim$ 30 min), followed by an in-class tutorial with time for Q+A (50 min) so you can walk through steps that will be necessary for the homework assignment you will submit ($\\sim$ 3 hrs).  Each lab will contain starter code, similar to what you see below.  Please fill in the code to complete the pre-flight assignment in preparation for the in-class tutorial.  \n",
    "\n",
    "Preflight ($\\sim$30-60 min, 10 points) **Typically due: Wednesdays 3pm EST**\n",
    "\n",
    "*Preflight typically graded by Wednesday 5p EST*\n",
    "\n",
    "In-class tutorial and Q+A ($\\sim$ 50 min, 10 points) **Typically occurs: Thursdays 9am EST**\n",
    "\n",
    "Homework assignment ($\\sim$ 3-5 hrs, 30 points) **Typically due: Mondays 9am EST** \n",
    "\n",
    "*Homework typically graded by Thursday 5p*\n",
    "\n",
    "When we grade your homework, we will not run your code. Once submitted, your notebook should have the outputs for all of your results.  Please do not include long outputs from debugging, beyond a few print statements and the requested visualizations (i.e. plots).\n",
    "\n",
    "**Grading:** When we grade your notebook, we will convert the .ipynb file to an HTML file.  We will be using [nbgrader](https://nbgrader.readthedocs.io/en/stable/) to grade your notebooks.  **Note:** If your ```IPython``` version is too old, we will *not* be able to grade your assignments.\n"
   ]
  },
  {
   "cell_type": "markdown",
   "metadata": {},
   "source": [
    "# Phys 260 Python Tutorial/HW 10: Alternating Current Circuit  (30 points total)\n",
    "\n",
    "## Tutorial Summary\n",
    "- Brief review of the RL Circuit model \n",
    "- Implementing an oscillating voltage"
   ]
  },
  {
   "cell_type": "code",
   "execution_count": 3,
   "metadata": {},
   "outputs": [],
   "source": [
    "import numpy as np\n",
    "from matplotlib import pyplot as plt"
   ]
  },
  {
   "cell_type": "markdown",
   "metadata": {},
   "source": [
    "## An alternating-current (AC) circuit\n",
    "\n",
    "In the preflight, we considered a constant voltage source.  The same code can accommodate a situation where the current is changing in time due to varying the voltage of the battery.  In the update step, we can additionally update the voltage of the battery at each time step along with the other values in the circuit. We will replace the battery from the preflight with a generator that produces a sinusoidal voltage,\n",
    "$$\n",
    "            V = V_0\\sin\\omega t.\n",
    "$$\n",
    "\n",
    "<img src=\"http://www-personal.umich.edu/~gerdes/img/LR_AC.jpg\">\n",
    "\n",
    "Note, there are two different timescales in the problem: the characteristic time of the $RL$ circuit $\\tau = L/R$, and the period of the generator, $T=2\\pi/\\omega$. For this tutorial/hw, we will hold $\\tau$ fixed and investigate what happens as we change $\\omega$, varying $\\omega$ proportional to $1/\\tau$."
   ]
  },
  {
   "cell_type": "markdown",
   "metadata": {},
   "source": [
    "### Think through the code changes (Part I)\n",
    "\n",
    "**In groups** (5 min -- 5 points):  \n",
    "- What additional attributes might we need in the `__init__`?  (Hint, for current, we initialize a `_now` value, and also a `_vals` list to collect the change now values over time.)\n",
    "- At $t=0$, what is the voltage delivered by the generator?  \n",
    "- How might we update the battery voltage?  (Hint, when discretizing time evolution in a system, $\\Delta V = \\frac{\\Delta V}{\\Delta t}\\times \\Delta t$)  What do we need to calculate $\\frac{\\Delta V}{\\Delta t}$?  "
   ]
  },
  {
   "cell_type": "markdown",
   "metadata": {
    "nbgrader": {
     "grade": true,
     "grade_id": "cell-2ecc91d8029a0d0f",
     "locked": false,
     "points": 4,
     "schema_version": 3,
     "solution": true,
     "task": false
    }
   },
   "source": [
    "- We also need `self.voltage_now` (current voltage of provided by the generator), `self.voltage_vals` (voltage of generator over all timesteps), the constant `self.v0`, and possibly `self.omega` (or this can be defined in the evolve step).\n",
    "- We can explicitly calculate $\\frac{dV(t)}{dt}=V_0 \\omega\\cos(\\omega t)$, making the update step: \n",
    "\n",
    "`self.voltage += self.v0 * self.omega * np.cos(self.omega*self.timestep)`\n",
    "\n",
    "- At $t=0$, the voltage is $V_0$."
   ]
  },
  {
   "cell_type": "markdown",
   "metadata": {},
   "source": [
    "### Think through the code changes (Part II)\n",
    "**In groups** (4 min -- 4 points):\n",
    "- What might be an alternative way to update the voltage provided by the generator that is less affected by discretization?\n",
    "- The class `RLCircuit` had three input parameters and its method `evolve_circuit` had two arguments. The internal method `_set_now_vals` had no arguments, and `_set_timesteps` had two.  What additional input parameters and/or arguments might be needed to model an alternating current RLCircuit, `AltRLCircuit` below?"
   ]
  },
  {
   "cell_type": "markdown",
   "metadata": {
    "nbgrader": {
     "grade": true,
     "grade_id": "cell-6ecbd8e16f616e35",
     "locked": false,
     "points": 2,
     "schema_version": 3,
     "solution": true,
     "task": false
    }
   },
   "source": [
    "- Use the actual expression for V(t): `self.voltage = self.v0 * np.sin(self.omega*self.timestep)`\n",
    "- Depending on where `self.omega` is defined, this needs to be input to either the `__init__` or the `evolve_circuit` method.  The `_set_now_vals` will need the current timestep since the voltage depends on the total time elapsed."
   ]
  },
  {
   "cell_type": "markdown",
   "metadata": {},
   "source": [
    "### Make the appropriate changes (small groups 10 min - 10 points)\n",
    "\n",
    "Make the appropriate changes in the code below.  You may find it useful to refer to the skeleton provided by the preflight to fill out the input parameters, docstrings, etc.  Make sure to:\n",
    "- Fill out the call signature and docstrings of the `__init__` (check if you need additional input parameters).\n",
    "- Define the additional attributes necessary to update and keep track of the voltage produced by the generator\n",
    "- Fill out the call signature of the `evolve_circuit` method (check if you need an additional arguments)\n",
    "- Fill out the code that updates the voltage provided by the generator at a given timestep\n",
    "- Fill out the call signature of the internal method `_set_now_vals` (check if you need additional input parameters)"
   ]
  },
  {
   "cell_type": "code",
   "execution_count": 17,
   "metadata": {
    "nbgrader": {
     "grade": false,
     "grade_id": "cell-5f51ecc089d27e09",
     "locked": false,
     "schema_version": 3,
     "solution": true,
     "task": false
    }
   },
   "outputs": [],
   "source": [
    "class AltRLCircuit :\n",
    "    def __init__(\n",
    "    ### BEGIN SOLUTION\n",
    "        self, v0, resistance, inductance, omega) :\n",
    "        \"\"\"\n",
    "        Parameters\n",
    "        ----------\n",
    "        v0 : float\n",
    "            initial voltage from generator\n",
    "        resistance : float\n",
    "            value of resistance in ohms\n",
    "        inductance : float \n",
    "            value of inductance in Henries\n",
    "        omega : angular frequency of generator\n",
    "        \"\"\"\n",
    "   ### END SOLUTION     \n",
    "        self.resistance = resistance\n",
    "        self.inductance = inductance\n",
    "        \n",
    "        # Initialize other necessary attributes \n",
    "        self.tau = inductance / resistance\n",
    "        self.i_now = 0\n",
    "        ### BEGIN SOLUTION\n",
    "        self.voltage_L_now = 0\n",
    "        self.v0 = v0\n",
    "        self.voltage_now = 0\n",
    "        self.omega = omega\n",
    "        ### END SOLUTION\n",
    "        \n",
    "        # Initialize the lists that contain time varying values\n",
    "        self.i_vals = []\n",
    "        self.timesteps = np.array([]) \n",
    "        ### BEGIN SOLUTION\n",
    "        self.vl_vals = []\n",
    "        self.voltage_vals = []\n",
    "        ### END SOLUTION\n",
    "        \n",
    "        \n",
    "    def _set_now_vals(\n",
    "        ### BEGIN SOLUTION\n",
    "        self, timestep) :\n",
    "        \"\"\"Calculate \"now\" values in terms of other attributes, setting attributes\n",
    "        Parameters\n",
    "        ----------\n",
    "        timestep : float\n",
    "            timestep of the time integration corresponding to \"now\" \n",
    "        \"\"\"\n",
    "        ### END SOLUTION\n",
    "        voltage_R = self.i_now*self.resistance\n",
    "        self.voltage_L_now = self.voltage_now - voltage_R    \n",
    "        self.i_now += self.voltage_L_now/self.inductance * self.dt\n",
    "        ### BEGIN SOLUTION\n",
    "        self.voltage_now = self.v0*np.sin(self.omega * timestep)\n",
    "        #self.voltage_now += self.omega * self.v0 * np.cos(self.omega * timestep)\n",
    "        ### END SOLUTION\n",
    "        \n",
    "    def _set_timesteps(self, num_timescales, num_timesteps_per_timescale) :        \n",
    "        \"\"\"Internal method. Sets the attributes num_timesteps and dt.\n",
    "        Parameters\n",
    "        ----------\n",
    "        num_timescales : floattimestep \n",
    "            number of timescales to evolve over\n",
    "        num_timesteps_per_timescale : int\n",
    "            number of timesteps per characteristic timescale, defines the time resolution \n",
    "        \"\"\"\n",
    "        \n",
    "        self.dt = self.tau / num_timesteps_per_timescale\n",
    "        print(self.dt)\n",
    "\n",
    "        next_timesteps = np.arange(0, self.tau * num_timescales, self.dt)\n",
    "        print('next_timesteps shape: ',next_timesteps.shape)\n",
    "        try :\n",
    "            last_timestep = self.timesteps[-1]\n",
    "            next_timesteps += last_timestep\n",
    "            self.timesteps = np.concatenate([self.timesteps, next_timesteps])\n",
    "            \n",
    "        except IndexError : \n",
    "            self.timesteps = next_timesteps        \n",
    "\n",
    "    def evolve_circuit(\n",
    "        ### BEGIN SOLUTION\n",
    "        self, num_timescales, num_timesteps_per_timescale) :\n",
    "        \"\"\"Evolve the spring, populate the acceleration, velocity and position (a_vals, v_vals, x_vals)\n",
    "        Parameters\n",
    "        ----------\n",
    "        num_periods : float\n",
    "            number of periods to evolve over\n",
    "        num_timesteps_per_period : int\n",
    "            number of timesteps per period, defines the time resolution\n",
    "        \"\"\"\n",
    "        ### END SOLUTION\n",
    "        self._set_timesteps(num_timescales, num_timesteps_per_timescale)\n",
    "        # Time evolve the circuit using self._set_now_vals() and store values at each timestep\n",
    "        for timestep in np.arange(0, self.tau * num_timescales, self.dt) :\n",
    "            # Populate i_vals and q_vals with current current and charge on capacitor\n",
    "            self.i_vals.append(self.i_now)  \n",
    "            \n",
    "            ### BEGIN SOLUTION\n",
    "            self.vl_vals.append(self.voltage_L_now)\n",
    "            self.voltage_vals.append(self.voltage_now)            \n",
    "            # Update \"now\" values: q_now, and i_now (i_now can be updated with a method)\n",
    "            self._set_now_vals(timestep)             \n",
    "            ### END SOLUTION"
   ]
  },
  {
   "cell_type": "code",
   "execution_count": 18,
   "metadata": {
    "nbgrader": {
     "grade": true,
     "grade_id": "cell-2f912a68ff096470",
     "locked": true,
     "points": 10,
     "schema_version": 3,
     "solution": false,
     "task": false
    }
   },
   "outputs": [
    {
     "name": "stdout",
     "output_type": "stream",
     "text": [
      "0.01\n",
      "next_timesteps shape:  (500,)\n"
     ]
    }
   ],
   "source": [
    "\"\"\"Execute to check you're on the right track\"\"\"\n",
    "test_arl = AltRLCircuit(10,1,1,1)\n",
    "test_arl.evolve_circuit(5,100)\n",
    "assert(test_arl.i_vals[0] < np.abs(test_arl.i_vals[-1]))"
   ]
  },
  {
   "cell_type": "markdown",
   "metadata": {},
   "source": [
    "**In class**: Let us review the class that models the RL circuit, but now with a battery voltage that varies with time.  This may differ in order, code line groupings, and/or variable name choices than what you previously did to build your code in the preflight.  It is useful to note differences in code that accomplishes the same end-goal."
   ]
  },
  {
   "cell_type": "markdown",
   "metadata": {},
   "source": [
    "### Create an instance of the circuit (1 points)\n",
    "\n",
    "Create an instance of this circuit, `arlc`, where,  \n",
    "* $V_0 = 10$ Volts\n",
    "* $L = 1$ H\n",
    "* $R = 1~\\Omega$\n",
    "\n",
    "Evolve over 5 characteristic timescales, $t_{tot}=10\\tau$, and let $\\omega=1/\\tau=L/R$"
   ]
  },
  {
   "cell_type": "code",
   "execution_count": 19,
   "metadata": {
    "nbgrader": {
     "grade": false,
     "grade_id": "cell-f5e8cb60d02e4f67",
     "locked": false,
     "schema_version": 3,
     "solution": true,
     "task": false
    }
   },
   "outputs": [
    {
     "name": "stdout",
     "output_type": "stream",
     "text": [
      "0.01\n",
      "next_timesteps shape:  (1000,)\n"
     ]
    }
   ],
   "source": [
    "### BEGIN SOLUTION\n",
    "arlc = AltRLCircuit(10,1,1,1)\n",
    "arlc.evolve_circuit(10, 100)\n",
    "### END SOLUTION"
   ]
  },
  {
   "cell_type": "code",
   "execution_count": 20,
   "metadata": {
    "nbgrader": {
     "grade": true,
     "grade_id": "cell-6371f1bb4e0428f9",
     "locked": true,
     "points": 1,
     "schema_version": 3,
     "solution": false,
     "task": false
    }
   },
   "outputs": [],
   "source": [
    "\"\"\"Execute to check you're on the right track\"\"\"\n",
    "assert(arlc.i_vals[0] <= np.abs(arlc.i_vals[-1]))"
   ]
  },
  {
   "cell_type": "markdown",
   "metadata": {},
   "source": [
    "### Plot voltages (2 points -- start in class, take home for polishing)\n",
    "\n",
    "*Overplot* the voltage across the resistor, inductor, and generator as a function of time (in units of $\\tau$).  Full credit for adding a legend, useful axes labels.  To more carefully see the behavior, I would recommend adding a [grid](https://matplotlib.org/3.1.1/api/_as_gen/matplotlib.pyplot.grid.html) to the axis. "
   ]
  },
  {
   "cell_type": "code",
   "execution_count": 21,
   "metadata": {
    "nbgrader": {
     "grade": true,
     "grade_id": "cell-9af7c8b48ac10134",
     "locked": false,
     "points": 2,
     "schema_version": 3,
     "solution": true,
     "task": false
    }
   },
   "outputs": [
    {
     "data": {
      "image/png": "[encoded data removed]",
      "text/plain": [
       "<Figure size 432x288 with 1 Axes>"
      ]
     },
     "metadata": {
      "needs_background": "light"
     },
     "output_type": "display_data"
    }
   ],
   "source": [
    "### BEGIN SOLUTION\n",
    "plt.plot(arlc.timesteps/arlc.tau, np.array(arlc.i_vals)*arlc.resistance, label='$V_R$')\n",
    "plt.plot(arlc.timesteps/arlc.tau, np.array(arlc.vl_vals), label='$V_L$')\n",
    "plt.plot(arlc.timesteps/arlc.tau, np.array(arlc.voltage_vals), label='$V_G$')\n",
    "plt.legend(fontsize='large')\n",
    "plt.ylabel('Voltage [V]', fontsize='xx-large')\n",
    "plt.xlabel('Time [$\\\\tau$]', fontsize='xx-large')\n",
    "plt.grid()\n",
    "#plt.gca().grid()\n",
    "### END SOLUTION"
   ]
  },
  {
   "cell_type": "markdown",
   "metadata": {},
   "source": [
    "### Discuss your plot (1 point -- likely take home)\n",
    "\n",
    "Discuss your plot.  In particular, examine if $V_L$ and $V_R$ reach their peak values at the same time? If not, what is the phase difference between these two sinusoidal voltages?  How many units of $\\tau$ does it take for $V_G$ to reach a full cycle?"
   ]
  },
  {
   "cell_type": "markdown",
   "metadata": {
    "nbgrader": {
     "grade": true,
     "grade_id": "cell-940b460146185244",
     "locked": false,
     "points": 1,
     "schema_version": 3,
     "solution": true,
     "task": false
    }
   },
   "source": [
    "The resistor voltage starts out at 0, as we expect since the current is also 0.  The peak generator voltage is at $t=0$, as is the inductor.  The inductor voltage and the resistor voltage are out of phase, with $V_{R}$ trailing $V_L$ by 90 degrees.  It takes 2$\\pi\\tau$ for $V_G$ to make a full cycle.  Note, $\\tau=1/\\omega$, and one full cycle is $T=2\\pi/\\omega=2\\pi\\tau$."
   ]
  },
  {
   "cell_type": "markdown",
   "metadata": {},
   "source": [
    "## Homework Summary (10 points)\n",
    "- Make a *Bode Plot*.  We will vary $\\omega$ from $0.1/\\tau$ to $100/\\tau$ in equal logarithmic spacings (take a look at the <a href=\"https://docs.scipy.org/doc/numpy-1.15.0/reference/generated/numpy.logspace.html\">numpy documentation</a> for ```np.logspace()```).  Then, we will make a log-log plot of $V_{L,\\mathrm{peak}}/V_0$ vs. $\\omega$. (This is known as a <i>Bode plot</i>.) \n",
    "\n",
    "Note: you will want to modify your timestep so that it's a small fraction of a generator period (e.g. increase the number of timesteps per timescale to decrease teh timestep). Make sure to wait at least a few full generator cycles before evaluating $V_{L,\\mathrm{peak}}$, to allow any transitory behavior due to initial conditions to be washed out. \n"
   ]
  },
  {
   "cell_type": "markdown",
   "metadata": {},
   "source": [
    "### Create the $\\omega$ values to sample (2 points)\n",
    "\n",
    "Use the `np.logspace` to create a sequence of values for omega, `omega_vals`, assuming the same circuit components as in the tutorial (i.e. $R=1\\Omega$, $L=1$ H).  "
   ]
  },
  {
   "cell_type": "code",
   "execution_count": 22,
   "metadata": {
    "nbgrader": {
     "grade": false,
     "grade_id": "cell-3b50dae35d5094fd",
     "locked": false,
     "schema_version": 3,
     "solution": true,
     "task": false
    }
   },
   "outputs": [
    {
     "data": {
      "text/plain": [
       "array([1.00000000e-02, 2.78255940e-02, 7.74263683e-02, 2.15443469e-01,\n",
       "       5.99484250e-01, 1.66810054e+00, 4.64158883e+00, 1.29154967e+01,\n",
       "       3.59381366e+01, 1.00000000e+02])"
      ]
     },
     "execution_count": 22,
     "metadata": {},
     "output_type": "execute_result"
    }
   ],
   "source": [
    "### BEGIN SOLUTION\n",
    "omega_vals = np.logspace(-2,2,10)\n",
    "### END SOLUTION\n",
    "omega_vals"
   ]
  },
  {
   "cell_type": "code",
   "execution_count": 23,
   "metadata": {
    "nbgrader": {
     "grade": true,
     "grade_id": "cell-ec595c187d2d8f6c",
     "locked": true,
     "points": 2,
     "schema_version": 3,
     "solution": false,
     "task": false
    }
   },
   "outputs": [
    {
     "data": {
      "text/plain": [
       "True"
      ]
     },
     "execution_count": 23,
     "metadata": {},
     "output_type": "execute_result"
    }
   ],
   "source": [
    "\"\"\"Execute to check you're on the right track\"\"\"\n",
    "type(omega_vals) == np.ndarray"
   ]
  },
  {
   "cell_type": "markdown",
   "metadata": {},
   "source": [
    "### Calculate the peak inductor voltage (3 points)\n",
    "\n",
    "You will need to create and evolve an instance of the `AltRLCircuit` for each `omega_val`, and collect the maximum voltage across the after several a timescale or two, e.g. in a list with name `voltages_L_max`.  Note, the larger $\\omega$ means a shorter period $T=2\\pi/\\omega$ (therefore you need a shorter timestep, or more timesteps per timescale, to well-resolve these).  Also, since $\\tau$ is fixed, you may want to vary how long you evolve the system depending on $\\omega$ to capture full cycles of the period T."
   ]
  },
  {
   "cell_type": "code",
   "execution_count": 24,
   "metadata": {
    "nbgrader": {
     "grade": false,
     "grade_id": "cell-0e5ca11f77a08e36",
     "locked": false,
     "schema_version": 3,
     "solution": true,
     "task": false
    }
   },
   "outputs": [
    {
     "name": "stdout",
     "output_type": "stream",
     "text": [
      "omega:  0.01\n",
      "0.1\n",
      "next_timesteps shape:  (10000,)\n",
      "T= 628.3185307179587\n",
      "omega:  0.027825594022071243\n",
      "0.037037037037037035\n",
      "next_timesteps shape:  (9693,)\n",
      "T= 225.80597209158475\n",
      "omega:  0.0774263682681127\n",
      "0.012987012987012988\n",
      "next_timesteps shape:  (9933,)\n",
      "T= 81.15045878714236\n",
      "omega:  0.21544346900318834\n",
      "0.004651162790697674\n",
      "next_timesteps shape:  (9890,)\n",
      "T= 29.16396276132465\n",
      "omega:  0.5994842503189409\n",
      "0.001669449081803005\n",
      "next_timesteps shape:  (9584,)\n",
      "T= 10.480984786233785\n",
      "omega:  1.6681005372000592\n",
      "0.0005995203836930455\n",
      "next_timesteps shape:  (16680,)\n",
      "T= 3.766670633489538\n",
      "omega:  4.6415888336127775\n",
      "0.00021547080370609782\n",
      "next_timesteps shape:  (46410,)\n",
      "T= 1.3536712389686343\n",
      "omega:  12.915496650148826\n",
      "7.742934572202865e-05\n",
      "next_timesteps shape:  (129150,)\n",
      "T= 0.486484219490482\n",
      "omega:  35.93813663804626\n",
      "2.7825699816350382e-05\n",
      "next_timesteps shape:  (359380,)\n",
      "T= 0.17483336352302226\n",
      "omega:  100.0\n",
      "1e-05\n",
      "next_timesteps shape:  (1000000,)\n",
      "T= 0.06283185307179587\n"
     ]
    },
    {
     "data": {
      "text/plain": [
       "<matplotlib.legend.Legend at 0x7f69482e0fd0>"
      ]
     },
     "execution_count": 24,
     "metadata": {},
     "output_type": "execute_result"
    },
    {
     "data": {
      "image/png": "[encoded data removed]",
      "text/plain": [
       "<Figure size 432x288 with 1 Axes>"
      ]
     },
     "metadata": {
      "needs_background": "light"
     },
     "output_type": "display_data"
    }
   ],
   "source": [
    "### BEGIN SOLUTION\n",
    "voltages_L_max = []\n",
    "voltage_initial = 10\n",
    "resistance = 1\n",
    "inductance = 1\n",
    "for omega_val in omega_vals :\n",
    "    print('omega: ',omega_val)\n",
    "    arlc = AltRLCircuit(voltage_initial,resistance,inductance,omega_val)\n",
    "    timesteps_per_timescale = int(1000*omega_val)\n",
    "    number_of_timescales = max(int(10./omega_val),10)\n",
    "    arlc.evolve_circuit(number_of_timescales, timesteps_per_timescale)\n",
    "    vl_max = np.max(np.array(arlc.vl_vals)[5*timesteps_per_timescale:])\n",
    "    voltages_L_max.append(vl_max)\n",
    "    print('T=',(2*np.pi/arlc.omega))\n",
    "    plt.plot(arlc.timesteps, arlc.vl_vals, label='$\\\\omega$=%.2f, $V_{L,max}$=%.2f'%(omega_val,vl_max))\n",
    "plt.legend()\n",
    "### END SOLUTION"
   ]
  },
  {
   "cell_type": "code",
   "execution_count": 25,
   "metadata": {
    "nbgrader": {
     "grade": true,
     "grade_id": "cell-2e939695942fa1ad",
     "locked": true,
     "points": 3,
     "schema_version": 3,
     "solution": false,
     "task": false
    }
   },
   "outputs": [],
   "source": [
    "\"\"\"Execute to check you're on the right track\"\"\"\n",
    "assert(type(voltages_L_max) == list)"
   ]
  },
  {
   "cell_type": "markdown",
   "metadata": {},
   "source": [
    "### Make the Bode plot (2 points)\n",
    "\n",
    "Plot $V_{L,max}/V_0$ (the ratio of the maximum voltage across the inductor to the maximum generator voltage) vs. $\\omega$.  Use logarithmic scaling for both the x and y axes."
   ]
  },
  {
   "cell_type": "code",
   "execution_count": 26,
   "metadata": {
    "nbgrader": {
     "grade": true,
     "grade_id": "cell-9d55f60be5691457",
     "locked": false,
     "points": 2,
     "schema_version": 3,
     "solution": true,
     "task": false
    }
   },
   "outputs": [
    {
     "name": "stdout",
     "output_type": "stream",
     "text": [
      "[0.00999955 0.02781522 0.07719831 0.21063276 0.51427893 0.85775025\n",
      " 0.97765882 0.99705023 0.9996255  0.99995452]\n"
     ]
    },
    {
     "data": {
      "image/png": "[encoded data removed]",
      "text/plain": [
       "<Figure size 432x288 with 1 Axes>"
      ]
     },
     "metadata": {
      "needs_background": "light"
     },
     "output_type": "display_data"
    }
   ],
   "source": [
    "voltage_ratio = np.array(voltages_L_max)/voltage_initial\n",
    "plt.plot(omega_vals, voltage_ratio)\n",
    "plt.xlim(0.01,100)\n",
    "plt.xscale('log')\n",
    "plt.yscale('log')\n",
    "plt.xlabel('$\\omega$', fontsize='xx-large')\n",
    "plt.ylabel('$V_{L,max}/V_0$', fontsize='xx-large')\n",
    "\n",
    "print(voltage_ratio)"
   ]
  },
  {
   "cell_type": "markdown",
   "metadata": {},
   "source": [
    "### Open questions (3 points )\n",
    "- What happens when $\\omega\\ll 1/\\tau$? When $\\omega \\gg 1/\\tau$? When $\\omega \\approx 1/\\tau$?\n",
    "- Suppose that, instead of driving this circuit with a single frequency $\\omega$, you gave it an input signal that consisted of a mixture of different frequencies -- for example, an electrical representation of a piece of music. What would the output of this circuit do to such a signal? Can you think of any applications for a circuit like this? "
   ]
  },
  {
   "cell_type": "markdown",
   "metadata": {
    "nbgrader": {
     "grade": true,
     "grade_id": "cell-51ecb90c8a2c1a5b",
     "locked": false,
     "points": 3,
     "schema_version": 3,
     "solution": true,
     "task": false
    }
   },
   "source": [
    "- For very small $\\omega$ ($\\omega\\ll 1/\\tau$) the inductor voltage is very low. Physically, we think of this as arising from the fact that the current is changing very slowly, and thus creates a slowly-varying emf in the inductor that does not produce a large voltage. From our plot, in this regime the inductor voltage rises linearly with $\\omega$.\n",
    "- For very large $\\omega$ ($\\omega\\gg 1/\\tau$) the inductor voltage remains constant and is equal to the generator voltage. Physically, at large $\\omega$ the current is small (because the driving voltage is constantly changing direction), so there is never a large voltage drop across the resistor. Therefore the loop rule must be satisfied by having the inductor voltage be nearly equal to (and opposite) the generator voltage.\n",
    "* The case $\\omega = 1/\\tau$ is transitional region, where $V_L \\sim 0.7 V_0$. (More precisely, as we'll see later, $V_L = V_0/\\sqrt{2}$ in this case.)\n",
    "\n",
    "The net result of all this is that the circuit is efficient at passing high-frequency signals, but attenuates the voltage of low-frequency signals. It's therefore a \"high-pass filter\", which can be used to filter out low-frequency noise. If you passed a piece of music through this before sending it to your speakers, it would sound like someone turned down the bass and turned up the treble."
   ]
  }
 ],
 "metadata": {
  "celltoolbar": "Create Assignment",
  "kernelspec": {
   "display_name": "Python 3",
   "language": "python",
   "name": "python3"
  },
  "language_info": {
   "codemirror_mode": {
    "name": "ipython",
    "version": 3
   },
   "file_extension": ".py",
   "mimetype": "text/x-python",
   "name": "python",
   "nbconvert_exporter": "python",
   "pygments_lexer": "ipython3",
   "version": "3.6.5"
  }
 },
 "nbformat": 4,
 "nbformat_minor": 2
}

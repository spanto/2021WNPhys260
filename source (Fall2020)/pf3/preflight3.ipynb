{
 "cells": [
  {
   "cell_type": "markdown",
   "metadata": {},
   "source": [
    "# Phys 260 Python Lab 3: Numpy tools in review (10 points)"
   ]
  },
  {
   "cell_type": "markdown",
   "metadata": {},
   "source": [
    "# Introduction\n",
    "\n",
    "Each Python lab will start with a pre-flight exercise that walks through building some of the set up and tools ($\\sim$ 30 min), followed by an in-class tutorial with time for Q+A (50 min) so you can walk through steps that will be necessary for the homework assignment you will submit ($\\sim$ 3 hrs).  Each lab will contain starter code, similar to what you see below.  Please fill in the code to complete the pre-flight assignment in preparation for the in-class tutorial.  \n",
    "\n",
    "Preflight ($\\sim$30-60 min, 10 points) **Typically due: Wednesdays 3pm EST**\n",
    "\n",
    "*Preflight typically graded by Wednesday 5p EST -- see your feedback in html (launch a browser)*\n",
    "\n",
    "In-class tutorial and Q+A ($\\sim$ 50 min, 10 points) **Typically occurs: Thursdays 9am EST**\n",
    "\n",
    "Homework assignment ($\\sim$ 3-5 hrs, 30 points) **Typically due: Mondays 9a EST**\n",
    "\n",
    "*Homework typically graded by Thursday 5p -- see your feedback in html (launch a browser)*\n",
    "\n",
    "When we grade your homework, we will not run your code. Once submitted, your notebook should have the outputs for all of your results.  Please do not include long outputs from debugging, beyond a few print statements and the requested visualizations (i.e. plots).\n",
    "\n",
    "**Grading:** When we grade your notebook, we will convert the .ipynb file to an HTML file.  We will be using [nbgrader](https://nbgrader.readthedocs.io/en/stable/) to grade your notebooks.  "
   ]
  },
  {
   "cell_type": "markdown",
   "metadata": {},
   "source": [
    "## Preflight summary\n",
    "- Brief review of actions along axes\n",
    "- Useful numpy tools for derivatives\n",
    "- Effects of discretization: Example with Gauss' Law"
   ]
  },
  {
   "cell_type": "code",
   "execution_count": 1,
   "metadata": {},
   "outputs": [],
   "source": [
    "# Import relevant modules\n",
    "import numpy as np\n",
    "from matplotlib import pyplot as plt"
   ]
  },
  {
   "cell_type": "markdown",
   "metadata": {},
   "source": [
    "## Brief review of actions along axes (5 points)\n",
    "\n",
    "Below, we review the effects of doing things \"along axes\"\n",
    "- With `np.linalg.norm`, \n",
    "- with `np.sum`,\n",
    "- with `np.apply_along_axis`.\n",
    "\n",
    "First, we use `np.reshape` to create a (4,5) array and examine how this function works."
   ]
  },
  {
   "cell_type": "code",
   "execution_count": 2,
   "metadata": {},
   "outputs": [],
   "source": [
    "test_array = np.arange(20)\n",
    "reshaped_array = np.reshape(test_array, (4,5))"
   ]
  },
  {
   "cell_type": "markdown",
   "metadata": {},
   "source": [
    "**Practice inspection** (1 point):\n",
    "Inspect both `test_array` and `reshaped_array` (you can print both, and/or print both sizes in the cell above).  What does `np.reshape` do? "
   ]
  },
  {
   "cell_type": "markdown",
   "metadata": {
    "nbgrader": {
     "grade": true,
     "grade_id": "cell-762770eabbac8e6d",
     "locked": false,
     "points": 1,
     "schema_version": 3,
     "solution": true,
     "task": false
    }
   },
   "source": [
    "**Answer**:\n",
    "\n",
    "Outputs the elements from the array in the first argument (`test_array`) in an array of shape given in the second argument (`(4,5)`)."
   ]
  },
  {
   "cell_type": "markdown",
   "metadata": {},
   "source": [
    "**Norm of different axes** (1 point): \n",
    "\n",
    "- Use `np.reshape` with `test_array` to create a `(2,10)` array called `reshaped_2_10`.  Assume these are (x,y) coordinates.  Use `np.linalg.norm` to find the 2-d radius of each of these coordinates, called `radii_2_10`.\n",
    "\n",
    "- Use Use `np.reshape` with `test_array` to create a `(10,2)` array called `reshaped_10_2`.  Assume these are (x,y) coordinates.  Use `np.linalg.norm` to find the 2-d radius of each of these coordinates, called `radii_10_2`."
   ]
  },
  {
   "cell_type": "code",
   "execution_count": 3,
   "metadata": {
    "nbgrader": {
     "grade": false,
     "grade_id": "cell-5d8ceee85d3fe403",
     "locked": false,
     "schema_version": 3,
     "solution": true,
     "task": false
    }
   },
   "outputs": [],
   "source": [
    "# Define reshaped_2_10, radii_2_10, reshaped_10_2, radii_10_2 here\n",
    "### BEGIN SOLUTION\n",
    "reshaped_2_10 = np.reshape(test_array, (2,10))\n",
    "radii_2_10 = np.linalg.norm(reshaped_2_10, axis=0)\n",
    "\n",
    "reshaped_10_2 = np.reshape(test_array, (10,2))\n",
    "radii_10_2 = np.linalg.norm(reshaped_10_2, axis=1)\n",
    "### END SOLUTION"
   ]
  },
  {
   "cell_type": "code",
   "execution_count": 4,
   "metadata": {
    "nbgrader": {
     "grade": true,
     "grade_id": "cell-99b02ee963f84000",
     "locked": true,
     "points": 1,
     "schema_version": 3,
     "solution": false,
     "task": false
    }
   },
   "outputs": [],
   "source": [
    "\"\"\"Execute to check you're on the right track\"\"\"\n",
    "assert(radii_10_2.shape == radii_2_10.shape)\n",
    "assert((reshaped_2_10 == np.reshape(test_array, (2,10))).all())\n",
    "### BEGIN HIDDEN TESTS\n",
    "assert((reshaped_2_10 == np.reshape(test_array, (2,10))).all())\n",
    "assert((radii_2_10 == np.linalg.norm(reshaped_2_10, axis=0)).all())\n",
    "assert((reshaped_10_2 == np.reshape(test_array, (10,2))).all())\n",
    "assert((radii_10_2 == np.linalg.norm(reshaped_10_2, axis=1)).all())\n",
    "### END HIDDEN TESTS"
   ]
  },
  {
   "cell_type": "markdown",
   "metadata": {},
   "source": [
    "**Question for inspection** (1 point): Are `radii_10_2` and `radii_2_10` the same as one another?  How would you check? (*Hint*: some of the assertion tests show how to do this.)  Why or why are they not the same."
   ]
  },
  {
   "cell_type": "markdown",
   "metadata": {
    "nbgrader": {
     "grade": true,
     "grade_id": "cell-f69eee0984bda7c6",
     "locked": false,
     "points": 1,
     "schema_version": 3,
     "solution": true,
     "task": false
    }
   },
   "source": [
    "**Answer:**\n",
    "\n",
    "They are not the same.  You can check with an assertion statement like the second one above, `assert((radii_2_10==radii_10_2).all())`.  You need the all to check equality of every element.  These are not the same because the numbers 0-19 have different pairings, depending on how they are reshaped.  One pairs sequential numbers, and the other paired numbers 10 apart."
   ]
  },
  {
   "cell_type": "markdown",
   "metadata": {},
   "source": [
    "**Quick exercise** (1 point): Use the appropriately reshaped array from the previous exercise (hint: one of the `reshaped_?_?` arrays) and the function `np.sum` with the appropriate key word argument to return a (2,) array, `sum_even_odd`, where one element corresponds to the sum of all even integers less than 20, and the other element corresponds to all odd integers less than 20."
   ]
  },
  {
   "cell_type": "code",
   "execution_count": 5,
   "metadata": {
    "nbgrader": {
     "grade": false,
     "grade_id": "cell-585b25eff6f56cef",
     "locked": false,
     "schema_version": 3,
     "solution": true,
     "task": false
    }
   },
   "outputs": [],
   "source": [
    "# Define sum_even_odd here\n",
    "### BEGIN SOLUTION\n",
    "sum_even_odd = np.sum(reshaped_10_2,axis=0)\n",
    "### END SOLUTION"
   ]
  },
  {
   "cell_type": "code",
   "execution_count": 6,
   "metadata": {
    "nbgrader": {
     "grade": true,
     "grade_id": "cell-403d35eb19731d33",
     "locked": true,
     "points": 1,
     "schema_version": 3,
     "solution": false,
     "task": false
    }
   },
   "outputs": [],
   "source": [
    "\"\"\"Execute to check you're on the right track\"\"\"\n",
    "assert(sum_even_odd.shape == (2,))\n",
    "assert(sum_even_odd[0] == np.sum(np.arange(0,20,2)))\n",
    "assert(sum_even_odd[1] == np.sum(np.arange(1,21,2)))"
   ]
  },
  {
   "cell_type": "markdown",
   "metadata": {},
   "source": [
    "**Quick exercise** (1 point):  Use `np.apply_along_axis` to calculate the same array as `sum_even_odd`, now called `sum_even_odd_from_axis`.  Note, here, you will also need to use `np.sum`, but will not use the key word `axis=`."
   ]
  },
  {
   "cell_type": "code",
   "execution_count": 7,
   "metadata": {
    "nbgrader": {
     "grade": false,
     "grade_id": "cell-65f68f1f9fdff8cf",
     "locked": false,
     "schema_version": 3,
     "solution": true,
     "task": false
    }
   },
   "outputs": [],
   "source": [
    "# Define sum_even_odd_from_axis here\n",
    "### BEGIN SOLUTION\n",
    "sum_even_odd_from_axis = np.apply_along_axis(np.sum, 0, reshaped_10_2)\n",
    "### END SOLUTION"
   ]
  },
  {
   "cell_type": "code",
   "execution_count": 8,
   "metadata": {
    "nbgrader": {
     "grade": true,
     "grade_id": "cell-79d4876d5589ec83",
     "locked": true,
     "points": 1,
     "schema_version": 3,
     "solution": false,
     "task": false
    }
   },
   "outputs": [],
   "source": [
    "\"\"\"Execute to check you're on the right track\"\"\"\n",
    "assert(sum_even_odd_from_axis.shape == (2,))\n",
    "### BEGIN HIDDEN TESTS\n",
    "assert((sum_even_odd_from_axis == np.apply_along_axis(np.sum, 0, reshaped_10_2)).all())\n",
    "### END HIDDEN TESTS"
   ]
  },
  {
   "cell_type": "markdown",
   "metadata": {},
   "source": [
    "## Useful numpy tools for derivatives\n",
    "\n",
    "In the next tutorial/hw, you will need to numerically evaluate derivatives.   The derivative is defined as $$\\frac {df}{dx} = \\lim_{\\epsilon \\to 0} \\frac {f(x+\\epsilon) - f(x)}{\\epsilon}.$$  To evaulate this numerically we make $\\epsilon$ small but finite.  For example if we are calculating a function on a grid of spacing $\\delta$  we can approximate the derivative as $$\\frac {df}{dx} \\approx \\frac {f(x+\\delta) - f(x)}{\\delta}$$  However, we can do a better job by making the derivative symmetric about the point at which we are calculating it:\n",
    "$$\\frac {df}{dx} \\approx \\frac {f(x+\\delta) - f(x - \\delta)}{2 \\delta}$$ \n",
    "To calculate derivatives elements to the right and left of an element.   Array operations give us an easy way to do this.\n",
    "\n",
    "\n",
    "- `np.roll` applied to taking the numerical derivative (see how it works!)\n",
    "- `np.gradient` pretty much what you were doing before, but with a built-in function"
   ]
  },
  {
   "cell_type": "markdown",
   "metadata": {},
   "source": [
    "Let's say our function is $f=x^2$, and x is our `test_array` so each element corresponds to our spacign where $\\delta=1$.  First, let's find the $f(x+\\delta)$, which we will call `f_right`:"
   ]
  },
  {
   "cell_type": "code",
   "execution_count": 9,
   "metadata": {},
   "outputs": [],
   "source": [
    "f = test_array**2\n",
    "f_right = np.roll(f,-1)"
   ]
  },
  {
   "cell_type": "markdown",
   "metadata": {},
   "source": [
    "**Quick exercise** (1 point): Use `np.roll` (examine what happened with `f_right` above, and see the [documentation](https://numpy.org/doc/stable/reference/generated/numpy.roll.html)) to find `f_left` ($f(x-\\delta)$), and calculate `df_dx`."
   ]
  },
  {
   "cell_type": "code",
   "execution_count": 10,
   "metadata": {
    "nbgrader": {
     "grade": false,
     "grade_id": "cell-1f7dbfc9406d7de9",
     "locked": false,
     "schema_version": 3,
     "solution": true,
     "task": false
    }
   },
   "outputs": [],
   "source": [
    "# Calculate f_left and df_dx here\n",
    "### BEGIN SOLUTION\n",
    "f_left = np.roll(f,1)\n",
    "df_dx = (f_right - f_left)/2\n",
    "### END SOLUTION"
   ]
  },
  {
   "cell_type": "code",
   "execution_count": 11,
   "metadata": {
    "nbgrader": {
     "grade": true,
     "grade_id": "cell-275c3ed41feed666",
     "locked": true,
     "points": 1,
     "schema_version": 3,
     "solution": false,
     "task": false
    }
   },
   "outputs": [],
   "source": [
    "\"\"\"Execute to check you're on the right track\"\"\"\n",
    "assert((f_left == np.roll(f,1)).all())\n",
    "### BEGIN HIDDEN TESTS\n",
    "assert((df_dx == (f_right - f_left)/2).all())\n",
    "### END HIDDEN TESTS"
   ]
  },
  {
   "cell_type": "markdown",
   "metadata": {},
   "source": [
    "**Plot to check** (1 point) You'll likely notice that the boundaries (i.e. first and last elements) look funky.  With general simulations of physical systems, one often creates boundary conditions (e.g. periodic boundary conditions) or ignores the results in the boundary.  Plot `df_dx` vs. `test_array`, ignoring the first and last elements.  You'll need to recall array slicing to do that (*Hint*: the first element is indexed by 0, so you'll want to start at index 1, and the last element is indexed by -1).  Does this look like what you expect given the derivative of $x^2$?  Full credit with labeled axes and legible axes (I like to recomment 'xx-large' fontsize for axes labels)."
   ]
  },
  {
   "cell_type": "code",
   "execution_count": 12,
   "metadata": {
    "nbgrader": {
     "grade": true,
     "grade_id": "cell-5bea645106df0b1f",
     "locked": false,
     "points": 1,
     "schema_version": 3,
     "solution": true,
     "task": false
    }
   },
   "outputs": [
    {
     "data": {
      "text/plain": [
       "Text(0, 0.5, 'df/dx = 2x')"
      ]
     },
     "execution_count": 12,
     "metadata": {},
     "output_type": "execute_result"
    },
    {
     "data": {
      "image/png": "[encoded data removed]",
      "text/plain": [
       "<Figure size 432x288 with 1 Axes>"
      ]
     },
     "metadata": {
      "needs_background": "light"
     },
     "output_type": "display_data"
    }
   ],
   "source": [
    "# Plot df_dx here\n",
    "### BEGIN SOLUTION\n",
    "plt.plot(test_array[1:-1], df_dx[1:-1])\n",
    "plt.xlabel('x',fontsize='xx-large')\n",
    "plt.ylabel('df/dx = 2x', fontsize='xx-large')\n",
    "### END SOLUTION"
   ]
  },
  {
   "cell_type": "markdown",
   "metadata": {},
   "source": [
    "**Quick exercise** (1 point):  Now, find `df_dx_gradient` using `np.gradient` (see [documentation](https://numpy.org/doc/stable/reference/generated/numpy.gradient.html))."
   ]
  },
  {
   "cell_type": "code",
   "execution_count": 17,
   "metadata": {
    "nbgrader": {
     "grade": false,
     "grade_id": "cell-a8bb560e32057ea2",
     "locked": false,
     "schema_version": 3,
     "solution": true,
     "task": false
    }
   },
   "outputs": [],
   "source": [
    "# Find df_dx_gradient here\n",
    "### BEGIN SOLUTION\n",
    "df_dx_gradient = np.gradient(f)\n",
    "### END SOLUTION"
   ]
  },
  {
   "cell_type": "code",
   "execution_count": 32,
   "metadata": {
    "nbgrader": {
     "grade": true,
     "grade_id": "cell-c9230f092fa43c5c",
     "locked": true,
     "points": 1,
     "schema_version": 3,
     "solution": false,
     "task": false
    }
   },
   "outputs": [],
   "source": [
    "\"\"\"Execute to check you're on the right track\"\"\"\n",
    "assert(df_dx_gradient.shape == f.shape)\n",
    "### BEGIN HIDDEN TESTS\n",
    "assert((df_dx_gradient == np.gradient(f)).all())\n",
    "### END HIDDEN TESTS"
   ]
  },
  {
   "cell_type": "markdown",
   "metadata": {},
   "source": [
    "**Quick comparison** (1 point):  You'll notice a key difference between doing the `np.roll` then `np.difference` with doing the `np.gradient`.  Describe the difference in output.  (*Hint:* The difference is because there's an under-the-hood treatment for edges with `np.gradient`.)"
   ]
  },
  {
   "cell_type": "markdown",
   "metadata": {
    "nbgrader": {
     "grade": true,
     "grade_id": "cell-3410d795a00ec1b3",
     "locked": false,
     "points": 1,
     "schema_version": 3,
     "solution": true,
     "task": false
    }
   },
   "source": [
    " The key difference is that the returned array for `np.gradient` has usable values at the edges.  "
   ]
  },
  {
   "cell_type": "markdown",
   "metadata": {},
   "source": [
    "**Overplot** (1 point):  Overplot the gradient of f using `edge_order=1` and `edge_order=2`.  Label these with \"edge order 1\" and \"edge order 2\", create a legend.  Observe the difference between first order accurate difference and second order accurate difference (you can think of this as similar to taking the Taylor expansion to first or second order... the further out you go, the more accurate the approximation).  First order essentially linearly extrapolates to the left and right of the edges of f to calculate the derivative at the edges, and second order essentially fits a second order (parabola) through three points on the left and on the right to extrapolate and calculate the derivative."
   ]
  },
  {
   "cell_type": "code",
   "execution_count": 38,
   "metadata": {
    "nbgrader": {
     "grade": true,
     "grade_id": "cell-74daa7c0d05a7268",
     "locked": false,
     "points": 1,
     "schema_version": 3,
     "solution": true,
     "task": false
    }
   },
   "outputs": [
    {
     "data": {
      "text/plain": [
       "<matplotlib.legend.Legend at 0x7f1863336280>"
      ]
     },
     "execution_count": 38,
     "metadata": {},
     "output_type": "execute_result"
    },
    {
     "data": {
      "image/png": "[encoded data removed]",
      "text/plain": [
       "<Figure size 432x288 with 1 Axes>"
      ]
     },
     "metadata": {
      "needs_background": "light"
     },
     "output_type": "display_data"
    }
   ],
   "source": [
    "### BEGIN SOLUTION\n",
    "plt.plot(np.gradient(f, edge_order=1), ls='-.', label=\"edge order 1\")\n",
    "plt.plot(np.gradient(f, edge_order=2), ls=':', label=\"edge order 2\")\n",
    "plt.xlabel('x', fontsize='xx-large')\n",
    "plt.ylabel('df/dx', fontsize='xx-large')\n",
    "plt.legend()\n",
    "### END SOLUTION"
   ]
  }
 ],
 "metadata": {
  "celltoolbar": "Create Assignment",
  "kernelspec": {
   "display_name": "Python 3",
   "language": "python",
   "name": "python3"
  },
  "language_info": {
   "codemirror_mode": {
    "name": "ipython",
    "version": 3
   },
   "file_extension": ".py",
   "mimetype": "text/x-python",
   "name": "python",
   "nbconvert_exporter": "python",
   "pygments_lexer": "ipython3",
   "version": "3.6.5"
  }
 },
 "nbformat": 4,
 "nbformat_minor": 2
}
